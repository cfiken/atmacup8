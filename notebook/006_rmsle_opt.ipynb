{
 "cells": [
  {
   "cell_type": "code",
   "execution_count": 1,
   "metadata": {},
   "outputs": [],
   "source": [
    "import os\n",
    "import warnings\n",
    "warnings.filterwarnings('ignore')\n",
    "from typing import Any, Dict, List, Tuple\n",
    "from pathlib import Path\n",
    "import yaml\n",
    "import pickle\n",
    "import copy\n",
    "\n",
    "import pandas as pd\n",
    "import matplotlib.pyplot as plt\n",
    "import seaborn as sns\n",
    "import numpy as np\n",
    "from pandas_profiling import ProfileReport # profile report を作る用\n",
    "from matplotlib_venn import venn2 # venn図を作成する用\n",
    "from tqdm import tqdm\n",
    "from contextlib import contextmanager\n",
    "from time import time\n",
    "\n",
    "from sklearn.model_selection import StratifiedKFold\n",
    "from sklearn.metrics import mean_squared_log_error, mean_squared_error\n",
    "import lightgbm as lgb\n",
    "\n",
    "from mykaggle.metric.mse import rmse\n",
    "from mykaggle.util.ml_logger import MLLogger\n",
    "from mykaggle.lib.lgbm_util import compute_importances, save_importances\n",
    "from mykaggle.util.routine import fix_seed\n",
    "\n",
    "sns.set_style('darkgrid')"
   ]
  },
  {
   "cell_type": "code",
   "execution_count": 2,
   "metadata": {},
   "outputs": [
    {
     "name": "stderr",
     "output_type": "stream",
     "text": [
      "/home/jupyter/workspace/atmacup8/.venv/lib/python3.8/site-packages/ipykernel/ipkernel.py:287: DeprecationWarning: `should_run_async` will not call `transform_cell` automatically in the future. Please pass the result to `transformed_cell` argument and any exception that happen during thetransform in `preprocessing_exc_tuple` in IPython 7.17 and above.\n",
      "  and should_run_async(code)\n"
     ]
    }
   ],
   "source": [
    "settings = yaml.safe_load('''\n",
    "name: '006_rmsle_opt'\n",
    "competition: atmacup8\n",
    "seed: 1019\n",
    "training:\n",
    "    num_folds: 5\n",
    "    num_rounds: 1000\n",
    "    early_stopping_rounds: 100\n",
    "    verbose_eval: 20\n",
    "lgbm_params:\n",
    "    objective: regression\n",
    "    learning_rate: 0.05\n",
    "    max_depth: -1\n",
    "    num_leaves: 31\n",
    "    colsample_bytree: .7\n",
    "    metric: \"None\"\n",
    "''')"
   ]
  },
  {
   "cell_type": "code",
   "execution_count": 3,
   "metadata": {},
   "outputs": [],
   "source": [
    "fix_seed(settings['seed'])"
   ]
  },
  {
   "cell_type": "code",
   "execution_count": 4,
   "metadata": {},
   "outputs": [],
   "source": [
    "datadir = Path('../data/')\n",
    "ckptdir = Path('../ckpt/') / settings['name']\n",
    "if not ckptdir.exists():\n",
    "    ckptdir.mkdir()"
   ]
  },
  {
   "cell_type": "code",
   "execution_count": 5,
   "metadata": {},
   "outputs": [
    {
     "data": {
      "text/plain": [
       "((8359, 17), (8360, 12))"
      ]
     },
     "execution_count": 5,
     "metadata": {},
     "output_type": "execute_result"
    }
   ],
   "source": [
    "df_train = pd.read_csv(datadir / 'id_train.csv')\n",
    "df_test = pd.read_csv(datadir / 'id_test.csv')\n",
    "df_submission = pd.read_csv(datadir / 'atmaCup8_sample-submission.csv')\n",
    "df_train.shape, df_test.shape"
   ]
  },
  {
   "cell_type": "code",
   "execution_count": 6,
   "metadata": {},
   "outputs": [],
   "source": [
    "# target の用意\n",
    "target_columns = ['Global_Sales']\n",
    "train_target_columns = target_columns + ['NA_Sales', 'EU_Sales', 'JP_Sales', 'Other_Sales']\n",
    "\n",
    "for c in train_target_columns:\n",
    "    df_train.loc[:, 'mod_' + c] = df_train.loc[:, c].apply(lambda x: np.log1p(x))"
   ]
  },
  {
   "cell_type": "code",
   "execution_count": 7,
   "metadata": {},
   "outputs": [],
   "source": [
    "df_base_train = df_train.loc[:, ['id']]\n",
    "df_base_test = df_test.loc[:, ['id']]\n",
    "\n",
    "train_others = {\n",
    "    'main': df_train.copy(),\n",
    "    'another': df_test.copy()\n",
    "}\n",
    "test_others = {\n",
    "    'main': df_test.copy(),\n",
    "    'another': df_train.copy(),\n",
    "}"
   ]
  },
  {
   "cell_type": "code",
   "execution_count": 8,
   "metadata": {},
   "outputs": [],
   "source": [
    "from mykaggle.feature.le import LE\n",
    "from mykaggle.feature.score import Score"
   ]
  },
  {
   "cell_type": "code",
   "execution_count": 9,
   "metadata": {},
   "outputs": [],
   "source": [
    "le_train = LE(train=True)\n",
    "le_test = LE(train=False)\n",
    "score_train = Score(train=True)\n",
    "score_test = Score(train=False)"
   ]
  },
  {
   "cell_type": "code",
   "execution_count": 10,
   "metadata": {},
   "outputs": [
    {
     "data": {
      "text/plain": [
       "((8359, 9), (8360, 9))"
      ]
     },
     "execution_count": 10,
     "metadata": {},
     "output_type": "execute_result"
    }
   ],
   "source": [
    "df_f_train = df_base_train.copy()\n",
    "df_f_test = df_base_test.copy()\n",
    "\n",
    "df_f_train = le_train(df_f_train, others=train_others, use_cache=False, save_cache=True)\n",
    "df_f_test = le_test(df_f_test, others=test_others, use_cache=False, save_cache=True)\n",
    "df_f_train = score_train(df_f_train, others=train_others, use_cache=False, save_cache=True)\n",
    "df_f_test = score_test(df_f_test, others=test_others, use_cache=False, save_cache=True)\n",
    "\n",
    "df_f_train.shape, df_f_test.shape"
   ]
  },
  {
   "cell_type": "code",
   "execution_count": 11,
   "metadata": {},
   "outputs": [
    {
     "name": "stderr",
     "output_type": "stream",
     "text": [
      "/home/jupyter/workspace/atmacup8/.venv/lib/python3.8/site-packages/ipykernel/ipkernel.py:287: DeprecationWarning: `should_run_async` will not call `transform_cell` automatically in the future. Please pass the result to `transformed_cell` argument and any exception that happen during thetransform in `preprocessing_exc_tuple` in IPython 7.17 and above.\n",
      "  and should_run_async(code)\n"
     ]
    },
    {
     "data": {
      "text/html": [
       "<div>\n",
       "<style scoped>\n",
       "    .dataframe tbody tr th:only-of-type {\n",
       "        vertical-align: middle;\n",
       "    }\n",
       "\n",
       "    .dataframe tbody tr th {\n",
       "        vertical-align: top;\n",
       "    }\n",
       "\n",
       "    .dataframe thead th {\n",
       "        text-align: right;\n",
       "    }\n",
       "</style>\n",
       "<table border=\"1\" class=\"dataframe\">\n",
       "  <thead>\n",
       "    <tr style=\"text-align: right;\">\n",
       "      <th></th>\n",
       "      <th>id</th>\n",
       "      <th>Platform</th>\n",
       "      <th>Genre</th>\n",
       "      <th>Developer</th>\n",
       "      <th>Rating</th>\n",
       "      <th>Critic_Score</th>\n",
       "      <th>User_Score</th>\n",
       "      <th>Critic_Count</th>\n",
       "      <th>User_Count</th>\n",
       "    </tr>\n",
       "  </thead>\n",
       "  <tbody>\n",
       "    <tr>\n",
       "      <th>0</th>\n",
       "      <td>0</td>\n",
       "      <td>26</td>\n",
       "      <td>0</td>\n",
       "      <td>1512</td>\n",
       "      <td>2</td>\n",
       "      <td>0.74</td>\n",
       "      <td>0.79</td>\n",
       "      <td>17.0</td>\n",
       "      <td>22.0</td>\n",
       "    </tr>\n",
       "    <tr>\n",
       "      <th>1</th>\n",
       "      <td>1</td>\n",
       "      <td>26</td>\n",
       "      <td>0</td>\n",
       "      <td>1512</td>\n",
       "      <td>2</td>\n",
       "      <td>0.78</td>\n",
       "      <td>0.66</td>\n",
       "      <td>22.0</td>\n",
       "      <td>28.0</td>\n",
       "    </tr>\n",
       "  </tbody>\n",
       "</table>\n",
       "</div>"
      ],
      "text/plain": [
       "   id  Platform  Genre  Developer  Rating  Critic_Score  User_Score  \\\n",
       "0   0        26      0       1512       2          0.74        0.79   \n",
       "1   1        26      0       1512       2          0.78        0.66   \n",
       "\n",
       "   Critic_Count  User_Count  \n",
       "0          17.0        22.0  \n",
       "1          22.0        28.0  "
      ]
     },
     "execution_count": 11,
     "metadata": {},
     "output_type": "execute_result"
    }
   ],
   "source": [
    "df_f_train.head(2)"
   ]
  },
  {
   "cell_type": "code",
   "execution_count": 12,
   "metadata": {},
   "outputs": [
    {
     "name": "stderr",
     "output_type": "stream",
     "text": [
      "/home/jupyter/workspace/atmacup8/.venv/lib/python3.8/site-packages/ipykernel/ipkernel.py:287: DeprecationWarning: `should_run_async` will not call `transform_cell` automatically in the future. Please pass the result to `transformed_cell` argument and any exception that happen during thetransform in `preprocessing_exc_tuple` in IPython 7.17 and above.\n",
      "  and should_run_async(code)\n"
     ]
    }
   ],
   "source": [
    "@contextmanager\n",
    "def timer(logger=None, format_str='{:.3f}[s]', prefix=None, suffix=None):\n",
    "    if prefix: format_str = str(prefix) + format_str\n",
    "    if suffix: format_str = format_str + str(suffix)\n",
    "    start = time()\n",
    "    yield\n",
    "    d = time() - start\n",
    "    out_str = format_str.format(d)\n",
    "    if logger:\n",
    "        logger.info(out_str)\n",
    "    else:\n",
    "        print(out_str)"
   ]
  },
  {
   "cell_type": "code",
   "execution_count": 13,
   "metadata": {},
   "outputs": [],
   "source": [
    "def get_oof_feature(\n",
    "    df_train: pd.DataFrame, df_valid: pd.DataFrame, y_train: np.ndarray,\n",
    "    df_train_original: pd.DataFrame, df_valid_original: pd.DataFrame\n",
    ") -> Tuple[pd.DataFrame, pd.DataFrame]:\n",
    "    df_train.loc[:, 'target'] = y_train.copy()\n",
    "    _train_others = copy.deepcopy(train_others)\n",
    "    _test_others = copy.deepcopy(test_others)\n",
    "    _train_others['main'] = df_train_original.copy()\n",
    "    _train_others['another'] = df_valid_original.copy()\n",
    "    _test_others['main'] = df_valid_original.copy()\n",
    "    _test_others['another'] = df_train_original.copy()\n",
    "#     df_train = f_date_te_train(df_train, others=_train_others, use_cache=False, save_cache=False)\n",
    "#     df_valid = f_date_te_test(df_valid, others=_test_others, use_cache=False, save_cache=False)\n",
    "    return df_train.drop(['id', 'target'], axis=1), df_valid.drop('id', axis=1)"
   ]
  },
  {
   "cell_type": "code",
   "execution_count": 14,
   "metadata": {},
   "outputs": [],
   "source": [
    "def train(\n",
    "    settings: Dict[str, Any],\n",
    "    logger: MLLogger,\n",
    "    df: pd.DataFrame,\n",
    "    df_original: pd.DataFrame,\n",
    "    y: np.ndarray,\n",
    "    ckptdir: Path\n",
    ") -> Tuple:\n",
    "    logger.log_params(settings['training'])\n",
    "    logger.log_params(settings['lgbm_params'])\n",
    "    X = df\n",
    "    lgbm_params = settings['lgbm_params']\n",
    "    models = []\n",
    "    oof_pred = np.zeros_like(y, dtype=np.float)\n",
    "    importances = pd.DataFrame()\n",
    "    splits = pickle.load(open(datadir / f'group_{settings[\"training\"][\"num_folds\"]}fold.pkl', 'rb'))\n",
    "\n",
    "    for i, (train_idx, valid_idx) in enumerate(splits): \n",
    "        x_train, y_train = X.iloc[train_idx], y[train_idx]\n",
    "        x_valid, y_valid = X.iloc[valid_idx], y[valid_idx]\n",
    "        x_train, x_valid = get_oof_feature(\n",
    "            x_train, x_valid, y_train,\n",
    "            df_original.iloc[train_idx], df_original.iloc[valid_idx]\n",
    "        )\n",
    "        train_data = lgb.Dataset(x_train.values, label=y_train.astype(np.float32))\n",
    "        valid_data = lgb.Dataset(x_valid.values, label=y_valid.astype(np.float32))\n",
    "\n",
    "        with timer(prefix='train fold={} '.format(i + 1)):\n",
    "            clf = lgb.train(\n",
    "                lgbm_params,\n",
    "                train_data, \n",
    "                num_boost_round=settings['training']['num_rounds'],\n",
    "                valid_names=['train', 'valid'],\n",
    "                valid_sets=[train_data, valid_data],  \n",
    "                early_stopping_rounds=settings['training']['early_stopping_rounds'],\n",
    "                feval=rmse,\n",
    "                verbose_eval=settings['training']['verbose_eval']\n",
    "            )\n",
    "        pred_i = clf.predict(x_valid.values)\n",
    "        oof_pred[valid_idx] = pred_i\n",
    "        models.append(clf)\n",
    "        importances = compute_importances(importances, x_train.columns, models[i], fold=i)\n",
    "        fold_score = mean_squared_error(y_valid, pred_i) ** 0.5\n",
    "        logger.log_metric(f'rmsle_fold_{i}', fold_score)\n",
    "        print(f'Fold {i} RMSLE: {fold_score:.4f}')\n",
    "        clf.save_model(str(ckptdir / f'model.txt'))\n",
    "        logger.log_artifact(str(ckptdir / f'model.txt'), artifact_path=f'{i}')\n",
    "\n",
    "    score = mean_squared_error(y, oof_pred) ** 0.5\n",
    "    logger.log_metric(f'RMSLE', score)\n",
    "    print('FINISHED; whole score: {:.4f}'.format(score))\n",
    "    save_importances(importances, ckptdir)\n",
    "    return oof_pred, models, score, importances"
   ]
  },
  {
   "cell_type": "code",
   "execution_count": 15,
   "metadata": {},
   "outputs": [],
   "source": [
    "def predict(\n",
    "    models: List[lgb.Booster],\n",
    "    df_test: pd.DataFrame,\n",
    "    df_train: pd.DataFrame,\n",
    "    df_test_original: pd.DataFrame\n",
    ") -> np.ndarray:\n",
    "    '''\n",
    "    fold 分のモデルと test の特徴 dataframe を受け取って、予測したものを返します。\n",
    "    :param models: kfold 分のモデル\n",
    "    :param test_df: test dataset の特徴\n",
    "    :return: 予測\n",
    "    '''\n",
    "    _, test = get_oof_feature(\n",
    "        df_train.copy(), df_test.copy(), df_train['Global_Sales'].values, df_train.copy(), df_test_original.copy()\n",
    "    )\n",
    "    preds = np.array([model.predict(test) for model in models])\n",
    "    preds = np.expm1(preds)\n",
    "    preds = np.mean(preds, axis=0)\n",
    "    return preds\n",
    "\n",
    "    \n",
    "def submit(preds: np.ndarray, ckptdir: Path) -> pd.DataFrame:\n",
    "    '''\n",
    "    test data の prediction を受け取って submission ファイルを作成します。\n",
    "    :param preds: test data の予測\n",
    "    :param ckptdir: 保存場所\n",
    "    :return: submission df\n",
    "    '''\n",
    "    sub_df = pd.DataFrame({ 'Global_Sales': preds })\n",
    "    sub_df.to_csv(ckptdir / f'{settings[\"name\"]}.csv', index=False)\n",
    "    return sub_df"
   ]
  },
  {
   "cell_type": "code",
   "execution_count": 16,
   "metadata": {},
   "outputs": [],
   "source": [
    "logger = MLLogger('cfiken', ckptdir)"
   ]
  },
  {
   "cell_type": "code",
   "execution_count": 17,
   "metadata": {},
   "outputs": [
    {
     "name": "stdout",
     "output_type": "stream",
     "text": [
      "[LightGBM] [Warning] Auto-choosing col-wise multi-threading, the overhead of testing was 0.163436 seconds.\n",
      "You can set `force_col_wise=true` to remove the overhead.\n",
      "[LightGBM] [Info] Total Bins 796\n",
      "[LightGBM] [Info] Number of data points in the train set: 6687, number of used features: 8\n",
      "[LightGBM] [Info] Start training from score 3.008886\n",
      "Training until validation scores don't improve for 100 rounds\n",
      "[20]\ttrain's rmsle: 1.15184\tvalid's rmsle: 1.0967\n",
      "[40]\ttrain's rmsle: 1.0576\tvalid's rmsle: 1.05157\n",
      "[60]\ttrain's rmsle: 1.01768\tvalid's rmsle: 1.0401\n",
      "[80]\ttrain's rmsle: 0.99258\tvalid's rmsle: 1.03556\n",
      "[100]\ttrain's rmsle: 0.976549\tvalid's rmsle: 1.03445\n",
      "[120]\ttrain's rmsle: 0.963882\tvalid's rmsle: 1.03431\n",
      "[140]\ttrain's rmsle: 0.952311\tvalid's rmsle: 1.0355\n",
      "[160]\ttrain's rmsle: 0.942754\tvalid's rmsle: 1.03572\n",
      "[180]\ttrain's rmsle: 0.933601\tvalid's rmsle: 1.03692\n",
      "[200]\ttrain's rmsle: 0.925497\tvalid's rmsle: 1.03691\n",
      "Early stopping, best iteration is:\n",
      "[104]\ttrain's rmsle: 0.973554\tvalid's rmsle: 1.03361\n",
      "train fold=1 1.406[s]\n",
      "Fold 0 RMSLE: 1.0336\n",
      "[LightGBM] [Warning] Auto-choosing col-wise multi-threading, the overhead of testing was 0.000787 seconds.\n",
      "You can set `force_col_wise=true` to remove the overhead.\n",
      "[LightGBM] [Info] Total Bins 799\n",
      "[LightGBM] [Info] Number of data points in the train set: 6687, number of used features: 8\n",
      "[LightGBM] [Info] Start training from score 2.941452\n",
      "Training until validation scores don't improve for 100 rounds\n",
      "[20]\ttrain's rmsle: 1.08254\tvalid's rmsle: 1.46849\n",
      "[40]\ttrain's rmsle: 0.999841\tvalid's rmsle: 1.4051\n",
      "[60]\ttrain's rmsle: 0.965189\tvalid's rmsle: 1.38871\n",
      "[80]\ttrain's rmsle: 0.943087\tvalid's rmsle: 1.37521\n",
      "[100]\ttrain's rmsle: 0.927362\tvalid's rmsle: 1.36711\n",
      "[120]\ttrain's rmsle: 0.913742\tvalid's rmsle: 1.36227\n",
      "[140]\ttrain's rmsle: 0.903212\tvalid's rmsle: 1.36061\n",
      "[160]\ttrain's rmsle: 0.894904\tvalid's rmsle: 1.35947\n",
      "[180]\ttrain's rmsle: 0.88699\tvalid's rmsle: 1.35844\n",
      "[200]\ttrain's rmsle: 0.87928\tvalid's rmsle: 1.35865\n",
      "[220]\ttrain's rmsle: 0.872169\tvalid's rmsle: 1.35836\n",
      "[240]\ttrain's rmsle: 0.865837\tvalid's rmsle: 1.35811\n",
      "[260]\ttrain's rmsle: 0.860225\tvalid's rmsle: 1.3583\n",
      "[280]\ttrain's rmsle: 0.854649\tvalid's rmsle: 1.35756\n",
      "[300]\ttrain's rmsle: 0.849303\tvalid's rmsle: 1.35779\n",
      "[320]\ttrain's rmsle: 0.84465\tvalid's rmsle: 1.35828\n",
      "[340]\ttrain's rmsle: 0.840012\tvalid's rmsle: 1.35783\n",
      "[360]\ttrain's rmsle: 0.835336\tvalid's rmsle: 1.35789\n",
      "[380]\ttrain's rmsle: 0.831154\tvalid's rmsle: 1.35881\n",
      "Early stopping, best iteration is:\n",
      "[284]\ttrain's rmsle: 0.853567\tvalid's rmsle: 1.35739\n",
      "train fold=2 1.825[s]\n",
      "Fold 1 RMSLE: 1.3574\n",
      "[LightGBM] [Warning] Auto-choosing col-wise multi-threading, the overhead of testing was 0.000785 seconds.\n",
      "You can set `force_col_wise=true` to remove the overhead.\n",
      "[LightGBM] [Info] Total Bins 800\n",
      "[LightGBM] [Info] Number of data points in the train set: 6687, number of used features: 8\n",
      "[LightGBM] [Info] Start training from score 3.100235\n",
      "Training until validation scores don't improve for 100 rounds\n",
      "[20]\ttrain's rmsle: 1.14323\tvalid's rmsle: 1.18907\n",
      "[40]\ttrain's rmsle: 1.05453\tvalid's rmsle: 1.10358\n",
      "[60]\ttrain's rmsle: 1.017\tvalid's rmsle: 1.07222\n",
      "[80]\ttrain's rmsle: 0.993456\tvalid's rmsle: 1.05876\n",
      "[100]\ttrain's rmsle: 0.976697\tvalid's rmsle: 1.05175\n",
      "[120]\ttrain's rmsle: 0.963452\tvalid's rmsle: 1.04641\n",
      "[140]\ttrain's rmsle: 0.952611\tvalid's rmsle: 1.04219\n",
      "[160]\ttrain's rmsle: 0.942357\tvalid's rmsle: 1.03825\n",
      "[180]\ttrain's rmsle: 0.932816\tvalid's rmsle: 1.03547\n",
      "[200]\ttrain's rmsle: 0.925181\tvalid's rmsle: 1.03464\n",
      "[220]\ttrain's rmsle: 0.917418\tvalid's rmsle: 1.03319\n",
      "[240]\ttrain's rmsle: 0.910941\tvalid's rmsle: 1.03269\n",
      "[260]\ttrain's rmsle: 0.904696\tvalid's rmsle: 1.03306\n",
      "[280]\ttrain's rmsle: 0.899123\tvalid's rmsle: 1.03322\n",
      "[300]\ttrain's rmsle: 0.893733\tvalid's rmsle: 1.03251\n",
      "[320]\ttrain's rmsle: 0.889371\tvalid's rmsle: 1.03207\n",
      "[340]\ttrain's rmsle: 0.885038\tvalid's rmsle: 1.03217\n",
      "[360]\ttrain's rmsle: 0.880571\tvalid's rmsle: 1.03265\n",
      "[380]\ttrain's rmsle: 0.876237\tvalid's rmsle: 1.03215\n",
      "[400]\ttrain's rmsle: 0.871983\tvalid's rmsle: 1.03188\n",
      "Early stopping, best iteration is:\n",
      "[311]\ttrain's rmsle: 0.891267\tvalid's rmsle: 1.03171\n",
      "train fold=3 1.912[s]\n",
      "Fold 2 RMSLE: 1.0317\n",
      "[LightGBM] [Warning] Auto-choosing col-wise multi-threading, the overhead of testing was 0.076729 seconds.\n",
      "You can set `force_col_wise=true` to remove the overhead.\n",
      "[LightGBM] [Info] Total Bins 800\n",
      "[LightGBM] [Info] Number of data points in the train set: 6687, number of used features: 8\n",
      "[LightGBM] [Info] Start training from score 3.116040\n",
      "Training until validation scores don't improve for 100 rounds\n",
      "[20]\ttrain's rmsle: 1.15541\tvalid's rmsle: 1.11848\n",
      "[40]\ttrain's rmsle: 1.06183\tvalid's rmsle: 1.05948\n",
      "[60]\ttrain's rmsle: 1.01955\tvalid's rmsle: 1.0456\n",
      "[80]\ttrain's rmsle: 0.993493\tvalid's rmsle: 1.03974\n",
      "[100]\ttrain's rmsle: 0.976854\tvalid's rmsle: 1.03616\n",
      "[120]\ttrain's rmsle: 0.963967\tvalid's rmsle: 1.03478\n",
      "[140]\ttrain's rmsle: 0.953368\tvalid's rmsle: 1.03445\n",
      "[160]\ttrain's rmsle: 0.944403\tvalid's rmsle: 1.03525\n",
      "[180]\ttrain's rmsle: 0.935625\tvalid's rmsle: 1.03555\n",
      "[200]\ttrain's rmsle: 0.927981\tvalid's rmsle: 1.03661\n",
      "[220]\ttrain's rmsle: 0.921052\tvalid's rmsle: 1.03681\n",
      "[240]\ttrain's rmsle: 0.914045\tvalid's rmsle: 1.03756\n",
      "Early stopping, best iteration is:\n",
      "[141]\ttrain's rmsle: 0.952978\tvalid's rmsle: 1.03428\n",
      "train fold=4 1.292[s]\n",
      "Fold 3 RMSLE: 1.0343\n",
      "[LightGBM] [Warning] Auto-choosing col-wise multi-threading, the overhead of testing was 0.000787 seconds.\n",
      "You can set `force_col_wise=true` to remove the overhead.\n",
      "[LightGBM] [Info] Total Bins 797\n",
      "[LightGBM] [Info] Number of data points in the train set: 6688, number of used features: 8\n",
      "[LightGBM] [Info] Start training from score 3.021148\n",
      "Training until validation scores don't improve for 100 rounds\n",
      "[20]\ttrain's rmsle: 1.14848\tvalid's rmsle: 1.10407\n",
      "[40]\ttrain's rmsle: 1.05629\tvalid's rmsle: 1.05596\n",
      "[60]\ttrain's rmsle: 1.01587\tvalid's rmsle: 1.04187\n",
      "[80]\ttrain's rmsle: 0.990633\tvalid's rmsle: 1.03695\n",
      "[100]\ttrain's rmsle: 0.973333\tvalid's rmsle: 1.03517\n",
      "[120]\ttrain's rmsle: 0.96065\tvalid's rmsle: 1.03372\n",
      "[140]\ttrain's rmsle: 0.949422\tvalid's rmsle: 1.03444\n",
      "[160]\ttrain's rmsle: 0.940147\tvalid's rmsle: 1.03387\n",
      "[180]\ttrain's rmsle: 0.931276\tvalid's rmsle: 1.0344\n",
      "[200]\ttrain's rmsle: 0.923061\tvalid's rmsle: 1.03545\n",
      "Early stopping, best iteration is:\n",
      "[111]\ttrain's rmsle: 0.966027\tvalid's rmsle: 1.0332\n",
      "train fold=5 1.099[s]\n",
      "Fold 4 RMSLE: 1.0332\n",
      "FINISHED; whole score: 1.1057\n"
     ]
    },
    {
     "data": {
      "image/png": "[encoded data removed]",
      "text/plain": [
       "<Figure size 432x576 with 1 Axes>"
      ]
     },
     "metadata": {},
     "output_type": "display_data"
    }
   ],
   "source": [
    "with logger.start(experiment_name=settings['competition'], run_name=settings['name']):\n",
    "    oof, models, cv, importances = train(\n",
    "        settings,\n",
    "        logger,\n",
    "        df_f_train,\n",
    "        df_train,\n",
    "        df_train.loc[:, 'mod_Global_Sales'].values,\n",
    "        ckptdir\n",
    "    )\n",
    "    preds = predict(models, df_f_test, df_train, df_test)\n",
    "    sub_df = submit(preds, ckptdir)"
   ]
  },
  {
   "cell_type": "code",
   "execution_count": null,
   "metadata": {},
   "outputs": [],
   "source": []
  }
 ],
 "metadata": {
  "kernelspec": {
   "display_name": "Python 3",
   "language": "python",
   "name": "python3"
  },
  "language_info": {
   "codemirror_mode": {
    "name": "ipython",
    "version": 3
   },
   "file_extension": ".py",
   "mimetype": "text/x-python",
   "name": "python",
   "nbconvert_exporter": "python",
   "pygments_lexer": "ipython3",
   "version": "3.8.6"
  }
 },
 "nbformat": 4,
 "nbformat_minor": 4
}
