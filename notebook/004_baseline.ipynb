{
 "cells": [
  {
   "cell_type": "code",
   "execution_count": 1,
   "metadata": {},
   "outputs": [],
   "source": [
    "import os\n",
    "import warnings\n",
    "warnings.filterwarnings('ignore')\n",
    "from typing import Any, Dict, List, Tuple\n",
    "from pathlib import Path\n",
    "import yaml\n",
    "import pickle\n",
    "import copy\n",
    "\n",
    "import pandas as pd\n",
    "import matplotlib.pyplot as plt\n",
    "import seaborn as sns\n",
    "import numpy as np\n",
    "from pandas_profiling import ProfileReport # profile report を作る用\n",
    "from matplotlib_venn import venn2 # venn図を作成する用\n",
    "from tqdm import tqdm\n",
    "from contextlib import contextmanager\n",
    "from time import time\n",
    "\n",
    "from sklearn.model_selection import StratifiedKFold\n",
    "from sklearn.metrics import mean_squared_log_error\n",
    "import lightgbm as lgb\n",
    "\n",
    "from mykaggle.metric.rmsle import rmsle\n",
    "from mykaggle.util.ml_logger import MLLogger\n",
    "from mykaggle.lib.lgbm_util import compute_importances, save_importances\n",
    "from mykaggle.util.routine import fix_seed\n",
    "\n",
    "sns.set_style('darkgrid')"
   ]
  },
  {
   "cell_type": "code",
   "execution_count": 2,
   "metadata": {},
   "outputs": [
    {
     "name": "stderr",
     "output_type": "stream",
     "text": [
      "/home/jupyter/workspace/atmacup8/.venv/lib/python3.8/site-packages/ipykernel/ipkernel.py:287: DeprecationWarning: `should_run_async` will not call `transform_cell` automatically in the future. Please pass the result to `transformed_cell` argument and any exception that happen during thetransform in `preprocessing_exc_tuple` in IPython 7.17 and above.\n",
      "  and should_run_async(code)\n"
     ]
    }
   ],
   "source": [
    "settings = yaml.safe_load('''\n",
    "name: '004_baseline'\n",
    "competition: atmacup8\n",
    "seed: 1019\n",
    "training:\n",
    "    num_folds: 5\n",
    "    num_rounds: 1000\n",
    "    early_stopping_rounds: 100\n",
    "    verbose_eval: 20\n",
    "lgbm_params:\n",
    "    objective: regression\n",
    "    learning_rate: 0.05\n",
    "    max_depth: -1\n",
    "    num_leaves: 31\n",
    "    colsample_bytree: .7\n",
    "    metric: \"None\"\n",
    "''')"
   ]
  },
  {
   "cell_type": "code",
   "execution_count": 3,
   "metadata": {},
   "outputs": [],
   "source": [
    "fix_seed(settings['seed'])"
   ]
  },
  {
   "cell_type": "code",
   "execution_count": 4,
   "metadata": {},
   "outputs": [],
   "source": [
    "datadir = Path('../data/')\n",
    "ckptdir = Path('../ckpt/') / settings['name']\n",
    "if not ckptdir.exists():\n",
    "    ckptdir.mkdir()"
   ]
  },
  {
   "cell_type": "code",
   "execution_count": 5,
   "metadata": {},
   "outputs": [
    {
     "data": {
      "text/plain": [
       "((8359, 17), (8360, 12))"
      ]
     },
     "execution_count": 5,
     "metadata": {},
     "output_type": "execute_result"
    }
   ],
   "source": [
    "df_train = pd.read_csv(datadir / 'id_train.csv')\n",
    "df_test = pd.read_csv(datadir / 'id_test.csv')\n",
    "df_submission = pd.read_csv(datadir / 'atmaCup8_sample-submission.csv')\n",
    "df_train.shape, df_test.shape"
   ]
  },
  {
   "cell_type": "code",
   "execution_count": 6,
   "metadata": {},
   "outputs": [],
   "source": [
    "df_base_train = df_train.loc[:, ['id']]\n",
    "df_base_test = df_test.loc[:, ['id']]\n",
    "\n",
    "train_others = {\n",
    "    'main': df_train.copy(),\n",
    "    'another': df_test.copy()\n",
    "}\n",
    "test_others = {\n",
    "    'main': df_test.copy(),\n",
    "    'another': df_train.copy(),\n",
    "}"
   ]
  },
  {
   "cell_type": "code",
   "execution_count": 7,
   "metadata": {},
   "outputs": [],
   "source": [
    "from mykaggle.feature.le import LE\n",
    "from mykaggle.feature.score import Score"
   ]
  },
  {
   "cell_type": "code",
   "execution_count": 8,
   "metadata": {},
   "outputs": [],
   "source": [
    "le_train = LE(train=True)\n",
    "le_test = LE(train=False)\n",
    "score_train = Score(train=True)\n",
    "score_test = Score(train=False)"
   ]
  },
  {
   "cell_type": "code",
   "execution_count": 9,
   "metadata": {},
   "outputs": [
    {
     "data": {
      "text/plain": [
       "((8359, 9), (8360, 9))"
      ]
     },
     "execution_count": 9,
     "metadata": {},
     "output_type": "execute_result"
    }
   ],
   "source": [
    "df_f_train = df_base_train.copy()\n",
    "df_f_test = df_base_test.copy()\n",
    "\n",
    "df_f_train = le_train(df_f_train, others=train_others, use_cache=False, save_cache=True)\n",
    "df_f_test = le_test(df_f_test, others=test_others, use_cache=False, save_cache=True)\n",
    "df_f_train = score_train(df_f_train, others=train_others, use_cache=False, save_cache=True)\n",
    "df_f_test = score_test(df_f_test, others=test_others, use_cache=False, save_cache=True)\n",
    "\n",
    "df_f_train.shape, df_f_test.shape"
   ]
  },
  {
   "cell_type": "code",
   "execution_count": 10,
   "metadata": {},
   "outputs": [
    {
     "name": "stderr",
     "output_type": "stream",
     "text": [
      "/home/jupyter/workspace/atmacup8/.venv/lib/python3.8/site-packages/ipykernel/ipkernel.py:287: DeprecationWarning: `should_run_async` will not call `transform_cell` automatically in the future. Please pass the result to `transformed_cell` argument and any exception that happen during thetransform in `preprocessing_exc_tuple` in IPython 7.17 and above.\n",
      "  and should_run_async(code)\n"
     ]
    },
    {
     "data": {
      "text/html": [
       "<div>\n",
       "<style scoped>\n",
       "    .dataframe tbody tr th:only-of-type {\n",
       "        vertical-align: middle;\n",
       "    }\n",
       "\n",
       "    .dataframe tbody tr th {\n",
       "        vertical-align: top;\n",
       "    }\n",
       "\n",
       "    .dataframe thead th {\n",
       "        text-align: right;\n",
       "    }\n",
       "</style>\n",
       "<table border=\"1\" class=\"dataframe\">\n",
       "  <thead>\n",
       "    <tr style=\"text-align: right;\">\n",
       "      <th></th>\n",
       "      <th>id</th>\n",
       "      <th>Platform</th>\n",
       "      <th>Genre</th>\n",
       "      <th>Developer</th>\n",
       "      <th>Rating</th>\n",
       "      <th>Critic_Score</th>\n",
       "      <th>User_Score</th>\n",
       "      <th>Critic_Count</th>\n",
       "      <th>User_Count</th>\n",
       "    </tr>\n",
       "  </thead>\n",
       "  <tbody>\n",
       "    <tr>\n",
       "      <th>0</th>\n",
       "      <td>0</td>\n",
       "      <td>26</td>\n",
       "      <td>0</td>\n",
       "      <td>1512</td>\n",
       "      <td>2</td>\n",
       "      <td>0.74</td>\n",
       "      <td>0.79</td>\n",
       "      <td>17.0</td>\n",
       "      <td>22.0</td>\n",
       "    </tr>\n",
       "    <tr>\n",
       "      <th>1</th>\n",
       "      <td>1</td>\n",
       "      <td>26</td>\n",
       "      <td>0</td>\n",
       "      <td>1512</td>\n",
       "      <td>2</td>\n",
       "      <td>0.78</td>\n",
       "      <td>0.66</td>\n",
       "      <td>22.0</td>\n",
       "      <td>28.0</td>\n",
       "    </tr>\n",
       "    <tr>\n",
       "      <th>2</th>\n",
       "      <td>2</td>\n",
       "      <td>19</td>\n",
       "      <td>0</td>\n",
       "      <td>1512</td>\n",
       "      <td>2</td>\n",
       "      <td>0.73</td>\n",
       "      <td>0.74</td>\n",
       "      <td>5.0</td>\n",
       "      <td>10.0</td>\n",
       "    </tr>\n",
       "    <tr>\n",
       "      <th>3</th>\n",
       "      <td>3</td>\n",
       "      <td>0</td>\n",
       "      <td>0</td>\n",
       "      <td>977</td>\n",
       "      <td>6</td>\n",
       "      <td>NaN</td>\n",
       "      <td>NaN</td>\n",
       "      <td>NaN</td>\n",
       "      <td>NaN</td>\n",
       "    </tr>\n",
       "    <tr>\n",
       "      <th>4</th>\n",
       "      <td>4</td>\n",
       "      <td>26</td>\n",
       "      <td>0</td>\n",
       "      <td>1512</td>\n",
       "      <td>2</td>\n",
       "      <td>0.76</td>\n",
       "      <td>0.78</td>\n",
       "      <td>8.0</td>\n",
       "      <td>13.0</td>\n",
       "    </tr>\n",
       "  </tbody>\n",
       "</table>\n",
       "</div>"
      ],
      "text/plain": [
       "   id  Platform  Genre  Developer  Rating  Critic_Score  User_Score  \\\n",
       "0   0        26      0       1512       2          0.74        0.79   \n",
       "1   1        26      0       1512       2          0.78        0.66   \n",
       "2   2        19      0       1512       2          0.73        0.74   \n",
       "3   3         0      0        977       6           NaN         NaN   \n",
       "4   4        26      0       1512       2          0.76        0.78   \n",
       "\n",
       "   Critic_Count  User_Count  \n",
       "0          17.0        22.0  \n",
       "1          22.0        28.0  \n",
       "2           5.0        10.0  \n",
       "3           NaN         NaN  \n",
       "4           8.0        13.0  "
      ]
     },
     "execution_count": 10,
     "metadata": {},
     "output_type": "execute_result"
    }
   ],
   "source": [
    "df_f_train.head()"
   ]
  },
  {
   "cell_type": "code",
   "execution_count": 11,
   "metadata": {
    "scrolled": true
   },
   "outputs": [
    {
     "name": "stderr",
     "output_type": "stream",
     "text": [
      "/home/jupyter/workspace/atmacup8/.venv/lib/python3.8/site-packages/ipykernel/ipkernel.py:287: DeprecationWarning: `should_run_async` will not call `transform_cell` automatically in the future. Please pass the result to `transformed_cell` argument and any exception that happen during thetransform in `preprocessing_exc_tuple` in IPython 7.17 and above.\n",
      "  and should_run_async(code)\n"
     ]
    },
    {
     "data": {
      "text/plain": [
       "((8359, 9), (8360, 9))"
      ]
     },
     "execution_count": 11,
     "metadata": {},
     "output_type": "execute_result"
    }
   ],
   "source": [
    "# drop some columns\n",
    "# df_f_train = df_f_train.drop(['id'], axis=1)\n",
    "# df_f_test = df_f_test.drop(['id'], axis=1)\n",
    "df_f_train.shape, df_f_test.shape"
   ]
  },
  {
   "cell_type": "code",
   "execution_count": 12,
   "metadata": {},
   "outputs": [],
   "source": [
    "@contextmanager\n",
    "def timer(logger=None, format_str='{:.3f}[s]', prefix=None, suffix=None):\n",
    "    if prefix: format_str = str(prefix) + format_str\n",
    "    if suffix: format_str = format_str + str(suffix)\n",
    "    start = time()\n",
    "    yield\n",
    "    d = time() - start\n",
    "    out_str = format_str.format(d)\n",
    "    if logger:\n",
    "        logger.info(out_str)\n",
    "    else:\n",
    "        print(out_str)"
   ]
  },
  {
   "cell_type": "code",
   "execution_count": 13,
   "metadata": {},
   "outputs": [],
   "source": [
    "def get_oof_feature(\n",
    "    df_train: pd.DataFrame, df_valid: pd.DataFrame, y_train: np.ndarray,\n",
    "    df_train_original: pd.DataFrame, df_valid_original: pd.DataFrame\n",
    ") -> Tuple[pd.DataFrame, pd.DataFrame]:\n",
    "    df_train.loc[:, 'target'] = y_train.copy()\n",
    "    _train_others = copy.deepcopy(train_others)\n",
    "    _test_others = copy.deepcopy(test_others)\n",
    "    _train_others['main'] = df_train_original.copy()\n",
    "    _train_others['another'] = df_valid_original.copy()\n",
    "    _test_others['main'] = df_valid_original.copy()\n",
    "    _test_others['another'] = df_train_original.copy()\n",
    "#     df_train = f_date_te_train(df_train, others=_train_others, use_cache=False, save_cache=False)\n",
    "#     df_valid = f_date_te_test(df_valid, others=_test_others, use_cache=False, save_cache=False)\n",
    "    return df_train.drop(['id', 'target'], axis=1), df_valid.drop('id', axis=1)"
   ]
  },
  {
   "cell_type": "code",
   "execution_count": 14,
   "metadata": {},
   "outputs": [],
   "source": [
    "def train(\n",
    "    settings: Dict[str, Any],\n",
    "    logger: MLLogger,\n",
    "    df: pd.DataFrame,\n",
    "    df_original: pd.DataFrame,\n",
    "    y: np.ndarray,\n",
    "    ckptdir: Path\n",
    ") -> Tuple:\n",
    "    logger.log_params(settings['training'])\n",
    "    logger.log_params(settings['lgbm_params'])\n",
    "    X = df\n",
    "    lgbm_params = settings['lgbm_params']\n",
    "    models = []\n",
    "    oof_pred = np.zeros_like(y, dtype=np.float)\n",
    "    importances = pd.DataFrame()\n",
    "    splits = pickle.load(open(datadir / f'group_{settings[\"training\"][\"num_folds\"]}fold.pkl', 'rb'))\n",
    "\n",
    "    for i, (train_idx, valid_idx) in enumerate(splits): \n",
    "        x_train, y_train = X.iloc[train_idx], y[train_idx]\n",
    "        x_valid, y_valid = X.iloc[valid_idx], y[valid_idx]\n",
    "        x_train, x_valid = get_oof_feature(\n",
    "            x_train, x_valid, y_train,\n",
    "            df_original.iloc[train_idx], df_original.iloc[valid_idx]\n",
    "        )\n",
    "        train_data = lgb.Dataset(x_train.values, label=y_train.astype(np.float32))\n",
    "        valid_data = lgb.Dataset(x_valid.values, label=y_valid.astype(np.float32))\n",
    "\n",
    "        with timer(prefix='train fold={} '.format(i + 1)):\n",
    "            clf = lgb.train(\n",
    "                lgbm_params,\n",
    "                train_data, \n",
    "                num_boost_round=settings['training']['num_rounds'],\n",
    "                valid_names=['train', 'valid'],\n",
    "                valid_sets=[train_data, valid_data],  \n",
    "                early_stopping_rounds=settings['training']['early_stopping_rounds'],\n",
    "                feval=rmsle,\n",
    "                verbose_eval=settings['training']['verbose_eval']\n",
    "            )\n",
    "        pred_i = clf.predict(x_valid.values)\n",
    "        pred_i[pred_i < 0] = 0\n",
    "        oof_pred[valid_idx] = pred_i\n",
    "        models.append(clf)\n",
    "        importances = compute_importances(importances, x_train.columns, models[i], fold=i)\n",
    "        fold_score = mean_squared_log_error(y_valid, pred_i)\n",
    "        logger.log_metric(f'rmsle_fold_{i}', fold_score)\n",
    "        print(f'Fold {i} RMSLE: {fold_score:.4f}')\n",
    "        clf.save_model(str(ckptdir / f'model.txt'))\n",
    "        logger.log_artifact(str(ckptdir / f'model.txt'), artifact_path=f'{i}')\n",
    "\n",
    "    score = mean_squared_log_error(y, oof_pred)\n",
    "    logger.log_metric(f'pr_auc', score)\n",
    "    print('FINISHED; whole score: {:.4f}'.format(score))\n",
    "    save_importances(importances, ckptdir)\n",
    "    return oof_pred, models, score, importances"
   ]
  },
  {
   "cell_type": "code",
   "execution_count": 15,
   "metadata": {},
   "outputs": [],
   "source": [
    "def predict(\n",
    "    models: List[lgb.Booster],\n",
    "    df_test: pd.DataFrame,\n",
    "    df_train: pd.DataFrame,\n",
    "    df_test_original: pd.DataFrame\n",
    ") -> np.ndarray:\n",
    "    '''\n",
    "    fold 分のモデルと test の特徴 dataframe を受け取って、予測したものを返します。\n",
    "    :param models: kfold 分のモデル\n",
    "    :param test_df: test dataset の特徴\n",
    "    :return: 予測\n",
    "    '''\n",
    "    _, test = get_oof_feature(\n",
    "        df_train.copy(), df_test.copy(), df_train['Global_Sales'].values, df_train.copy(), df_test_original.copy()\n",
    "    )\n",
    "    preds = np.array([model.predict(test) for model in models])\n",
    "    preds = np.mean(preds, axis=0)\n",
    "    return preds\n",
    "\n",
    "    \n",
    "def submit(preds: np.ndarray, ckptdir: Path) -> pd.DataFrame:\n",
    "    '''\n",
    "    test data の prediction を受け取って submission ファイルを作成します。\n",
    "    :param preds: test data の予測\n",
    "    :param ckptdir: 保存場所\n",
    "    :return: submission df\n",
    "    '''\n",
    "    sub_df = pd.DataFrame({ 'Global_Sales': preds })\n",
    "    sub_df.to_csv(ckptdir / f'{settings[\"name\"]}.csv', index=False)\n",
    "    return sub_df"
   ]
  },
  {
   "cell_type": "code",
   "execution_count": 16,
   "metadata": {},
   "outputs": [],
   "source": [
    "logger = MLLogger('cfiken', ckptdir)"
   ]
  },
  {
   "cell_type": "code",
   "execution_count": 17,
   "metadata": {},
   "outputs": [
    {
     "name": "stdout",
     "output_type": "stream",
     "text": [
      "[LightGBM] [Warning] Auto-choosing col-wise multi-threading, the overhead of testing was 0.000961 seconds.\n",
      "You can set `force_col_wise=true` to remove the overhead.\n",
      "[LightGBM] [Info] Total Bins 796\n",
      "[LightGBM] [Info] Number of data points in the train set: 6687, number of used features: 8\n",
      "[LightGBM] [Info] Start training from score 65.720951\n",
      "Training until validation scores don't improve for 100 rounds\n",
      "[20]\ttrain's rmsle: 1.60549\tvalid's rmsle: 1.45002\n",
      "[40]\ttrain's rmsle: 1.46212\tvalid's rmsle: 1.34837\n",
      "[60]\ttrain's rmsle: 1.38351\tvalid's rmsle: 1.30558\n",
      "[80]\ttrain's rmsle: 1.34449\tvalid's rmsle: 1.29237\n",
      "[100]\ttrain's rmsle: 1.32728\tvalid's rmsle: 1.2927\n",
      "[120]\ttrain's rmsle: 1.31981\tvalid's rmsle: 1.31173\n",
      "[140]\ttrain's rmsle: 1.31838\tvalid's rmsle: 1.32916\n",
      "[160]\ttrain's rmsle: 1.31397\tvalid's rmsle: 1.3392\n",
      "[180]\ttrain's rmsle: 1.31348\tvalid's rmsle: 1.33826\n",
      "Early stopping, best iteration is:\n",
      "[87]\ttrain's rmsle: 1.33649\tvalid's rmsle: 1.29\n",
      "train fold=1 1.515[s]\n",
      "Fold 0 RMSLE: 1.6641\n",
      "[LightGBM] [Warning] Auto-choosing col-wise multi-threading, the overhead of testing was 0.020978 seconds.\n",
      "You can set `force_col_wise=true` to remove the overhead.\n",
      "[LightGBM] [Info] Total Bins 799\n",
      "[LightGBM] [Info] Number of data points in the train set: 6687, number of used features: 8\n",
      "[LightGBM] [Info] Start training from score 47.933154\n",
      "Training until validation scores don't improve for 100 rounds\n",
      "[20]\ttrain's rmsle: 1.40764\tvalid's rmsle: 1.48418\n",
      "[40]\ttrain's rmsle: 1.299\tvalid's rmsle: 1.41831\n",
      "[60]\ttrain's rmsle: 1.24777\tvalid's rmsle: 1.39632\n",
      "[80]\ttrain's rmsle: 1.21034\tvalid's rmsle: 1.37455\n",
      "[100]\ttrain's rmsle: 1.1887\tvalid's rmsle: 1.36562\n",
      "[120]\ttrain's rmsle: 1.179\tvalid's rmsle: 1.36359\n",
      "[140]\ttrain's rmsle: 1.17064\tvalid's rmsle: 1.35898\n",
      "[160]\ttrain's rmsle: 1.16161\tvalid's rmsle: 1.35651\n",
      "[180]\ttrain's rmsle: 1.15666\tvalid's rmsle: 1.35815\n",
      "[200]\ttrain's rmsle: 1.15131\tvalid's rmsle: 1.364\n",
      "[220]\ttrain's rmsle: 1.15048\tvalid's rmsle: 1.36905\n",
      "[240]\ttrain's rmsle: 1.1483\tvalid's rmsle: 1.37422\n",
      "[260]\ttrain's rmsle: 1.14869\tvalid's rmsle: 1.38402\n",
      "Early stopping, best iteration is:\n",
      "[160]\ttrain's rmsle: 1.16161\tvalid's rmsle: 1.35651\n",
      "train fold=2 1.946[s]\n",
      "Fold 1 RMSLE: 1.8401\n",
      "[LightGBM] [Warning] Auto-choosing col-wise multi-threading, the overhead of testing was 0.000836 seconds.\n",
      "You can set `force_col_wise=true` to remove the overhead.\n",
      "[LightGBM] [Info] Total Bins 800\n",
      "[LightGBM] [Info] Number of data points in the train set: 6687, number of used features: 8\n",
      "[LightGBM] [Info] Start training from score 67.227307\n",
      "Training until validation scores don't improve for 100 rounds\n",
      "[20]\ttrain's rmsle: 1.55693\tvalid's rmsle: 1.75622\n",
      "[40]\ttrain's rmsle: 1.43272\tvalid's rmsle: 1.60264\n",
      "[60]\ttrain's rmsle: 1.36989\tvalid's rmsle: 1.50803\n",
      "[80]\ttrain's rmsle: 1.33299\tvalid's rmsle: 1.4649\n",
      "[100]\ttrain's rmsle: 1.32137\tvalid's rmsle: 1.44376\n",
      "[120]\ttrain's rmsle: 1.31446\tvalid's rmsle: 1.4369\n",
      "[140]\ttrain's rmsle: 1.31164\tvalid's rmsle: 1.43481\n",
      "[160]\ttrain's rmsle: 1.30858\tvalid's rmsle: 1.43383\n",
      "[180]\ttrain's rmsle: 1.30578\tvalid's rmsle: 1.42962\n",
      "[200]\ttrain's rmsle: 1.30204\tvalid's rmsle: 1.42736\n",
      "[220]\ttrain's rmsle: 1.29832\tvalid's rmsle: 1.42384\n",
      "[240]\ttrain's rmsle: 1.297\tvalid's rmsle: 1.42064\n",
      "[260]\ttrain's rmsle: 1.29016\tvalid's rmsle: 1.41868\n",
      "[280]\ttrain's rmsle: 1.28901\tvalid's rmsle: 1.42089\n",
      "[300]\ttrain's rmsle: 1.28853\tvalid's rmsle: 1.42174\n",
      "[320]\ttrain's rmsle: 1.28483\tvalid's rmsle: 1.42831\n",
      "[340]\ttrain's rmsle: 1.28319\tvalid's rmsle: 1.43812\n",
      "Early stopping, best iteration is:\n",
      "[259]\ttrain's rmsle: 1.29024\tvalid's rmsle: 1.41867\n",
      "train fold=3 2.336[s]\n",
      "Fold 2 RMSLE: 2.0126\n",
      "[LightGBM] [Warning] Auto-choosing col-wise multi-threading, the overhead of testing was 0.000859 seconds.\n",
      "You can set `force_col_wise=true` to remove the overhead.\n",
      "[LightGBM] [Info] Total Bins 800\n",
      "[LightGBM] [Info] Number of data points in the train set: 6687, number of used features: 8\n",
      "[LightGBM] [Info] Start training from score 70.428892\n",
      "Training until validation scores don't improve for 100 rounds\n",
      "[20]\ttrain's rmsle: 1.58848\tvalid's rmsle: 1.77261\n",
      "[40]\ttrain's rmsle: 1.45598\tvalid's rmsle: 1.62633\n",
      "[60]\ttrain's rmsle: 1.38925\tvalid's rmsle: 1.54765\n",
      "[80]\ttrain's rmsle: 1.35219\tvalid's rmsle: 1.50776\n",
      "[100]\ttrain's rmsle: 1.33863\tvalid's rmsle: 1.49704\n",
      "[120]\ttrain's rmsle: 1.32792\tvalid's rmsle: 1.49663\n",
      "[140]\ttrain's rmsle: 1.32136\tvalid's rmsle: 1.49314\n",
      "[160]\ttrain's rmsle: 1.31925\tvalid's rmsle: 1.49929\n",
      "[180]\ttrain's rmsle: 1.3153\tvalid's rmsle: 1.50566\n",
      "[200]\ttrain's rmsle: 1.31036\tvalid's rmsle: 1.50395\n",
      "Early stopping, best iteration is:\n",
      "[105]\ttrain's rmsle: 1.33314\tvalid's rmsle: 1.49067\n",
      "train fold=4 1.403[s]\n",
      "Fold 3 RMSLE: 2.2221\n",
      "[LightGBM] [Warning] Auto-choosing col-wise multi-threading, the overhead of testing was 0.000875 seconds.\n",
      "You can set `force_col_wise=true` to remove the overhead.\n",
      "[LightGBM] [Info] Total Bins 797\n",
      "[LightGBM] [Info] Number of data points in the train set: 6688, number of used features: 8\n",
      "[LightGBM] [Info] Start training from score 65.548445\n",
      "Training until validation scores don't improve for 100 rounds\n",
      "[20]\ttrain's rmsle: 1.59718\tvalid's rmsle: 1.50593\n",
      "[40]\ttrain's rmsle: 1.456\tvalid's rmsle: 1.40376\n",
      "[60]\ttrain's rmsle: 1.37911\tvalid's rmsle: 1.36524\n",
      "[80]\ttrain's rmsle: 1.34426\tvalid's rmsle: 1.35688\n",
      "[100]\ttrain's rmsle: 1.32457\tvalid's rmsle: 1.35836\n",
      "[120]\ttrain's rmsle: 1.31692\tvalid's rmsle: 1.36671\n",
      "[140]\ttrain's rmsle: 1.31571\tvalid's rmsle: 1.37605\n",
      "[160]\ttrain's rmsle: 1.31166\tvalid's rmsle: 1.38812\n",
      "[180]\ttrain's rmsle: 1.3157\tvalid's rmsle: 1.40054\n",
      "Early stopping, best iteration is:\n",
      "[84]\ttrain's rmsle: 1.33911\tvalid's rmsle: 1.35497\n",
      "train fold=5 1.581[s]\n",
      "Fold 4 RMSLE: 1.8360\n",
      "FINISHED; whole score: 1.9150\n"
     ]
    },
    {
     "data": {
      "image/png": "[encoded data removed]",
      "text/plain": [
       "<Figure size 432x576 with 1 Axes>"
      ]
     },
     "metadata": {},
     "output_type": "display_data"
    }
   ],
   "source": [
    "with logger.start(experiment_name=settings['competition'], run_name=settings['name']):\n",
    "    oof, models, cv, importances = train(\n",
    "        settings,\n",
    "        logger,\n",
    "        df_f_train,\n",
    "        df_train,\n",
    "        df_train.loc[:, 'Global_Sales'].values,\n",
    "        ckptdir\n",
    "    )\n",
    "    preds = predict(models, df_f_test, df_train, df_test)\n",
    "    sub_df = submit(preds, ckptdir)"
   ]
  },
  {
   "cell_type": "code",
   "execution_count": null,
   "metadata": {},
   "outputs": [],
   "source": []
  }
 ],
 "metadata": {
  "kernelspec": {
   "display_name": "Python 3",
   "language": "python",
   "name": "python3"
  },
  "language_info": {
   "codemirror_mode": {
    "name": "ipython",
    "version": 3
   },
   "file_extension": ".py",
   "mimetype": "text/x-python",
   "name": "python",
   "nbconvert_exporter": "python",
   "pygments_lexer": "ipython3",
   "version": "3.8.6"
  }
 },
 "nbformat": 4,
 "nbformat_minor": 4
}
