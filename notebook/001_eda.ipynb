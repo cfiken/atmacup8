{
 "cells": [
  {
   "cell_type": "code",
   "execution_count": 1,
   "metadata": {},
   "outputs": [],
   "source": [
    "import os\n",
    "import warnings\n",
    "warnings.filterwarnings('ignore')\n",
    "from typing import Any, Dict, List, Tuple\n",
    "from pathlib import Path\n",
    "import yaml\n",
    "\n",
    "import pandas as pd\n",
    "import matplotlib.pyplot as plt\n",
    "import seaborn as sns\n",
    "import numpy as np\n",
    "from pandas_profiling import ProfileReport # profile report を作る用\n",
    "from matplotlib_venn import venn2 # venn図を作成する用\n",
    "from tqdm import tqdm\n",
    "from contextlib import contextmanager\n",
    "from time import time\n",
    "\n",
    "from sklearn.model_selection import StratifiedKFold\n",
    "import lightgbm as lgb\n",
    "\n",
    "from mykaggle.metric.mse import rmsle\n",
    "from mykaggle.util.ml_logger import MLLogger\n",
    "from mykaggle.lib.lgbm_util import compute_importances, save_importances\n",
    "from mykaggle.util.routine import fix_seed\n",
    "\n",
    "sns.set_style('darkgrid')"
   ]
  },
  {
   "cell_type": "code",
   "execution_count": 2,
   "metadata": {},
   "outputs": [
    {
     "name": "stderr",
     "output_type": "stream",
     "text": [
      "/home/jupyter/workspace/atmacup8/.venv/lib/python3.8/site-packages/ipykernel/ipkernel.py:287: DeprecationWarning: `should_run_async` will not call `transform_cell` automatically in the future. Please pass the result to `transformed_cell` argument and any exception that happen during thetransform in `preprocessing_exc_tuple` in IPython 7.17 and above.\n",
      "  and should_run_async(code)\n"
     ]
    }
   ],
   "source": [
    "settings = yaml.safe_load('''\n",
    "name: '001_eda'\n",
    "competition: atmacup8\n",
    "seed: 1019\n",
    "training:\n",
    "    num_folds: 5\n",
    "    num_rounds: 1000\n",
    "    early_stopping_rounds: 100\n",
    "    verbose_eval: 20\n",
    "lgbm_params:\n",
    "    objective: binary\n",
    "    learning_rate: 0.05\n",
    "    max_depth: -1\n",
    "    num_leaves: 31\n",
    "    colsample_bytree: .7\n",
    "    metric: \"None\"\n",
    "''')"
   ]
  },
  {
   "cell_type": "code",
   "execution_count": 3,
   "metadata": {},
   "outputs": [],
   "source": [
    "fix_seed(settings['seed'])"
   ]
  },
  {
   "cell_type": "code",
   "execution_count": 4,
   "metadata": {},
   "outputs": [],
   "source": [
    "datadir = Path('../data/')\n",
    "ckptdir = Path('../ckpt/') / settings['name']\n",
    "if not ckptdir.exists():\n",
    "    ckptdir.mkdir()"
   ]
  },
  {
   "cell_type": "code",
   "execution_count": 5,
   "metadata": {},
   "outputs": [
    {
     "data": {
      "text/plain": [
       "((8359, 16), (8360, 11))"
      ]
     },
     "execution_count": 5,
     "metadata": {},
     "output_type": "execute_result"
    }
   ],
   "source": [
    "df_train = pd.read_csv(datadir / 'train.csv')\n",
    "df_test = pd.read_csv(datadir / 'test.csv')\n",
    "df_submission = pd.read_csv(datadir / 'atmaCup8_sample-submission.csv')\n",
    "df_train.shape, df_test.shape"
   ]
  },
  {
   "cell_type": "code",
   "execution_count": 6,
   "metadata": {},
   "outputs": [
    {
     "data": {
      "text/html": [
       "<div>\n",
       "<style scoped>\n",
       "    .dataframe tbody tr th:only-of-type {\n",
       "        vertical-align: middle;\n",
       "    }\n",
       "\n",
       "    .dataframe tbody tr th {\n",
       "        vertical-align: top;\n",
       "    }\n",
       "\n",
       "    .dataframe thead th {\n",
       "        text-align: right;\n",
       "    }\n",
       "</style>\n",
       "<table border=\"1\" class=\"dataframe\">\n",
       "  <thead>\n",
       "    <tr style=\"text-align: right;\">\n",
       "      <th></th>\n",
       "      <th>0</th>\n",
       "      <th>1</th>\n",
       "      <th>2</th>\n",
       "      <th>3</th>\n",
       "      <th>4</th>\n",
       "    </tr>\n",
       "  </thead>\n",
       "  <tbody>\n",
       "    <tr>\n",
       "      <th>Name</th>\n",
       "      <td>LEGO Batman: The Videogame</td>\n",
       "      <td>LEGO Indiana Jones: The Original Adventures</td>\n",
       "      <td>LEGO Batman: The Videogame</td>\n",
       "      <td>Combat</td>\n",
       "      <td>LEGO Harry Potter: Years 5-7</td>\n",
       "    </tr>\n",
       "    <tr>\n",
       "      <th>Platform</th>\n",
       "      <td>Wii</td>\n",
       "      <td>Wii</td>\n",
       "      <td>PSP</td>\n",
       "      <td>2600</td>\n",
       "      <td>Wii</td>\n",
       "    </tr>\n",
       "    <tr>\n",
       "      <th>Year_of_Release</th>\n",
       "      <td>NaN</td>\n",
       "      <td>NaN</td>\n",
       "      <td>NaN</td>\n",
       "      <td>NaN</td>\n",
       "      <td>NaN</td>\n",
       "    </tr>\n",
       "    <tr>\n",
       "      <th>Genre</th>\n",
       "      <td>Action</td>\n",
       "      <td>Action</td>\n",
       "      <td>Action</td>\n",
       "      <td>Action</td>\n",
       "      <td>Action</td>\n",
       "    </tr>\n",
       "    <tr>\n",
       "      <th>Publisher</th>\n",
       "      <td>Warner Bros. Interactive Entertainment</td>\n",
       "      <td>LucasArts</td>\n",
       "      <td>Warner Bros. Interactive Entertainment</td>\n",
       "      <td>Atari</td>\n",
       "      <td>Warner Bros. Interactive Entertainment</td>\n",
       "    </tr>\n",
       "    <tr>\n",
       "      <th>NA_Sales</th>\n",
       "      <td>180</td>\n",
       "      <td>151</td>\n",
       "      <td>56</td>\n",
       "      <td>117</td>\n",
       "      <td>69</td>\n",
       "    </tr>\n",
       "    <tr>\n",
       "      <th>EU_Sales</th>\n",
       "      <td>97</td>\n",
       "      <td>61</td>\n",
       "      <td>44</td>\n",
       "      <td>7</td>\n",
       "      <td>42</td>\n",
       "    </tr>\n",
       "    <tr>\n",
       "      <th>JP_Sales</th>\n",
       "      <td>0</td>\n",
       "      <td>0</td>\n",
       "      <td>0</td>\n",
       "      <td>0</td>\n",
       "      <td>0</td>\n",
       "    </tr>\n",
       "    <tr>\n",
       "      <th>Other_Sales</th>\n",
       "      <td>28</td>\n",
       "      <td>21</td>\n",
       "      <td>27</td>\n",
       "      <td>1</td>\n",
       "      <td>12</td>\n",
       "    </tr>\n",
       "    <tr>\n",
       "      <th>Global_Sales</th>\n",
       "      <td>306</td>\n",
       "      <td>234</td>\n",
       "      <td>128</td>\n",
       "      <td>125</td>\n",
       "      <td>124</td>\n",
       "    </tr>\n",
       "    <tr>\n",
       "      <th>Critic_Score</th>\n",
       "      <td>74</td>\n",
       "      <td>78</td>\n",
       "      <td>73</td>\n",
       "      <td>NaN</td>\n",
       "      <td>76</td>\n",
       "    </tr>\n",
       "    <tr>\n",
       "      <th>Critic_Count</th>\n",
       "      <td>17</td>\n",
       "      <td>22</td>\n",
       "      <td>5</td>\n",
       "      <td>NaN</td>\n",
       "      <td>8</td>\n",
       "    </tr>\n",
       "    <tr>\n",
       "      <th>User_Score</th>\n",
       "      <td>7.9</td>\n",
       "      <td>6.6</td>\n",
       "      <td>7.4</td>\n",
       "      <td>NaN</td>\n",
       "      <td>7.8</td>\n",
       "    </tr>\n",
       "    <tr>\n",
       "      <th>User_Count</th>\n",
       "      <td>22</td>\n",
       "      <td>28</td>\n",
       "      <td>10</td>\n",
       "      <td>NaN</td>\n",
       "      <td>13</td>\n",
       "    </tr>\n",
       "    <tr>\n",
       "      <th>Developer</th>\n",
       "      <td>Traveller's Tales</td>\n",
       "      <td>Traveller's Tales</td>\n",
       "      <td>Traveller's Tales</td>\n",
       "      <td>NaN</td>\n",
       "      <td>Traveller's Tales</td>\n",
       "    </tr>\n",
       "    <tr>\n",
       "      <th>Rating</th>\n",
       "      <td>E10+</td>\n",
       "      <td>E10+</td>\n",
       "      <td>E10+</td>\n",
       "      <td>NaN</td>\n",
       "      <td>E10+</td>\n",
       "    </tr>\n",
       "  </tbody>\n",
       "</table>\n",
       "</div>"
      ],
      "text/plain": [
       "                                                      0  \\\n",
       "Name                         LEGO Batman: The Videogame   \n",
       "Platform                                            Wii   \n",
       "Year_of_Release                                     NaN   \n",
       "Genre                                            Action   \n",
       "Publisher        Warner Bros. Interactive Entertainment   \n",
       "NA_Sales                                            180   \n",
       "EU_Sales                                             97   \n",
       "JP_Sales                                              0   \n",
       "Other_Sales                                          28   \n",
       "Global_Sales                                        306   \n",
       "Critic_Score                                         74   \n",
       "Critic_Count                                         17   \n",
       "User_Score                                          7.9   \n",
       "User_Count                                           22   \n",
       "Developer                             Traveller's Tales   \n",
       "Rating                                             E10+   \n",
       "\n",
       "                                                           1  \\\n",
       "Name             LEGO Indiana Jones: The Original Adventures   \n",
       "Platform                                                 Wii   \n",
       "Year_of_Release                                          NaN   \n",
       "Genre                                                 Action   \n",
       "Publisher                                          LucasArts   \n",
       "NA_Sales                                                 151   \n",
       "EU_Sales                                                  61   \n",
       "JP_Sales                                                   0   \n",
       "Other_Sales                                               21   \n",
       "Global_Sales                                             234   \n",
       "Critic_Score                                              78   \n",
       "Critic_Count                                              22   \n",
       "User_Score                                               6.6   \n",
       "User_Count                                                28   \n",
       "Developer                                  Traveller's Tales   \n",
       "Rating                                                  E10+   \n",
       "\n",
       "                                                      2       3  \\\n",
       "Name                         LEGO Batman: The Videogame  Combat   \n",
       "Platform                                            PSP    2600   \n",
       "Year_of_Release                                     NaN     NaN   \n",
       "Genre                                            Action  Action   \n",
       "Publisher        Warner Bros. Interactive Entertainment   Atari   \n",
       "NA_Sales                                             56     117   \n",
       "EU_Sales                                             44       7   \n",
       "JP_Sales                                              0       0   \n",
       "Other_Sales                                          27       1   \n",
       "Global_Sales                                        128     125   \n",
       "Critic_Score                                         73     NaN   \n",
       "Critic_Count                                          5     NaN   \n",
       "User_Score                                          7.4     NaN   \n",
       "User_Count                                           10     NaN   \n",
       "Developer                             Traveller's Tales     NaN   \n",
       "Rating                                             E10+     NaN   \n",
       "\n",
       "                                                      4  \n",
       "Name                       LEGO Harry Potter: Years 5-7  \n",
       "Platform                                            Wii  \n",
       "Year_of_Release                                     NaN  \n",
       "Genre                                            Action  \n",
       "Publisher        Warner Bros. Interactive Entertainment  \n",
       "NA_Sales                                             69  \n",
       "EU_Sales                                             42  \n",
       "JP_Sales                                              0  \n",
       "Other_Sales                                          12  \n",
       "Global_Sales                                        124  \n",
       "Critic_Score                                         76  \n",
       "Critic_Count                                          8  \n",
       "User_Score                                          7.8  \n",
       "User_Count                                           13  \n",
       "Developer                             Traveller's Tales  \n",
       "Rating                                             E10+  "
      ]
     },
     "execution_count": 6,
     "metadata": {},
     "output_type": "execute_result"
    }
   ],
   "source": [
    "df_train.head().T"
   ]
  },
  {
   "cell_type": "code",
   "execution_count": 7,
   "metadata": {},
   "outputs": [
    {
     "name": "stderr",
     "output_type": "stream",
     "text": [
      "/home/jupyter/workspace/atmacup8/.venv/lib/python3.8/site-packages/ipykernel/ipkernel.py:287: DeprecationWarning: `should_run_async` will not call `transform_cell` automatically in the future. Please pass the result to `transformed_cell` argument and any exception that happen during thetransform in `preprocessing_exc_tuple` in IPython 7.17 and above.\n",
      "  and should_run_async(code)\n"
     ]
    },
    {
     "data": {
      "text/html": [
       "<div>\n",
       "<style scoped>\n",
       "    .dataframe tbody tr th:only-of-type {\n",
       "        vertical-align: middle;\n",
       "    }\n",
       "\n",
       "    .dataframe tbody tr th {\n",
       "        vertical-align: top;\n",
       "    }\n",
       "\n",
       "    .dataframe thead th {\n",
       "        text-align: right;\n",
       "    }\n",
       "</style>\n",
       "<table border=\"1\" class=\"dataframe\">\n",
       "  <thead>\n",
       "    <tr style=\"text-align: right;\">\n",
       "      <th></th>\n",
       "      <th>0</th>\n",
       "      <th>1</th>\n",
       "      <th>2</th>\n",
       "      <th>3</th>\n",
       "      <th>4</th>\n",
       "    </tr>\n",
       "  </thead>\n",
       "  <tbody>\n",
       "    <tr>\n",
       "      <th>Name</th>\n",
       "      <td>Hitman 2: Silent Assassin</td>\n",
       "      <td>Legacy of Kain: Soul Reaver</td>\n",
       "      <td>Metal Gear Solid 2: Substance</td>\n",
       "      <td>Silent Hill: Homecoming</td>\n",
       "      <td>Silent Hill: Homecoming</td>\n",
       "    </tr>\n",
       "    <tr>\n",
       "      <th>Platform</th>\n",
       "      <td>XB</td>\n",
       "      <td>PS</td>\n",
       "      <td>XB</td>\n",
       "      <td>X360</td>\n",
       "      <td>PS3</td>\n",
       "    </tr>\n",
       "    <tr>\n",
       "      <th>Year_of_Release</th>\n",
       "      <td>NaN</td>\n",
       "      <td>NaN</td>\n",
       "      <td>NaN</td>\n",
       "      <td>NaN</td>\n",
       "      <td>NaN</td>\n",
       "    </tr>\n",
       "    <tr>\n",
       "      <th>Genre</th>\n",
       "      <td>Action</td>\n",
       "      <td>Action</td>\n",
       "      <td>Action</td>\n",
       "      <td>Action</td>\n",
       "      <td>Action</td>\n",
       "    </tr>\n",
       "    <tr>\n",
       "      <th>Publisher</th>\n",
       "      <td>Eidos Interactive</td>\n",
       "      <td>Eidos Interactive</td>\n",
       "      <td>Konami Digital Entertainment</td>\n",
       "      <td>Konami Digital Entertainment</td>\n",
       "      <td>Konami Digital Entertainment</td>\n",
       "    </tr>\n",
       "    <tr>\n",
       "      <th>Critic_Score</th>\n",
       "      <td>84</td>\n",
       "      <td>91</td>\n",
       "      <td>87</td>\n",
       "      <td>70</td>\n",
       "      <td>71</td>\n",
       "    </tr>\n",
       "    <tr>\n",
       "      <th>Critic_Count</th>\n",
       "      <td>23</td>\n",
       "      <td>17</td>\n",
       "      <td>28</td>\n",
       "      <td>54</td>\n",
       "      <td>41</td>\n",
       "    </tr>\n",
       "    <tr>\n",
       "      <th>User_Score</th>\n",
       "      <td>8</td>\n",
       "      <td>9</td>\n",
       "      <td>8.5</td>\n",
       "      <td>6.9</td>\n",
       "      <td>6.9</td>\n",
       "    </tr>\n",
       "    <tr>\n",
       "      <th>User_Count</th>\n",
       "      <td>19</td>\n",
       "      <td>132</td>\n",
       "      <td>39</td>\n",
       "      <td>180</td>\n",
       "      <td>143</td>\n",
       "    </tr>\n",
       "    <tr>\n",
       "      <th>Developer</th>\n",
       "      <td>Io Interactive</td>\n",
       "      <td>Crystal Dynamics</td>\n",
       "      <td>KCEJ</td>\n",
       "      <td>Double Helix Games</td>\n",
       "      <td>Double Helix Games</td>\n",
       "    </tr>\n",
       "    <tr>\n",
       "      <th>Rating</th>\n",
       "      <td>M</td>\n",
       "      <td>T</td>\n",
       "      <td>M</td>\n",
       "      <td>M</td>\n",
       "      <td>M</td>\n",
       "    </tr>\n",
       "  </tbody>\n",
       "</table>\n",
       "</div>"
      ],
      "text/plain": [
       "                                         0                            1  \\\n",
       "Name             Hitman 2: Silent Assassin  Legacy of Kain: Soul Reaver   \n",
       "Platform                                XB                           PS   \n",
       "Year_of_Release                        NaN                          NaN   \n",
       "Genre                               Action                       Action   \n",
       "Publisher                Eidos Interactive            Eidos Interactive   \n",
       "Critic_Score                            84                           91   \n",
       "Critic_Count                            23                           17   \n",
       "User_Score                               8                            9   \n",
       "User_Count                              19                          132   \n",
       "Developer                   Io Interactive             Crystal Dynamics   \n",
       "Rating                                   M                            T   \n",
       "\n",
       "                                             2                             3  \\\n",
       "Name             Metal Gear Solid 2: Substance       Silent Hill: Homecoming   \n",
       "Platform                                    XB                          X360   \n",
       "Year_of_Release                            NaN                           NaN   \n",
       "Genre                                   Action                        Action   \n",
       "Publisher         Konami Digital Entertainment  Konami Digital Entertainment   \n",
       "Critic_Score                                87                            70   \n",
       "Critic_Count                                28                            54   \n",
       "User_Score                                 8.5                           6.9   \n",
       "User_Count                                  39                           180   \n",
       "Developer                                 KCEJ            Double Helix Games   \n",
       "Rating                                       M                             M   \n",
       "\n",
       "                                            4  \n",
       "Name                  Silent Hill: Homecoming  \n",
       "Platform                                  PS3  \n",
       "Year_of_Release                           NaN  \n",
       "Genre                                  Action  \n",
       "Publisher        Konami Digital Entertainment  \n",
       "Critic_Score                               71  \n",
       "Critic_Count                               41  \n",
       "User_Score                                6.9  \n",
       "User_Count                                143  \n",
       "Developer                  Double Helix Games  \n",
       "Rating                                      M  "
      ]
     },
     "execution_count": 7,
     "metadata": {},
     "output_type": "execute_result"
    }
   ],
   "source": [
    "df_test.head().T"
   ]
  },
  {
   "cell_type": "code",
   "execution_count": 8,
   "metadata": {},
   "outputs": [
    {
     "name": "stderr",
     "output_type": "stream",
     "text": [
      "/home/jupyter/workspace/atmacup8/.venv/lib/python3.8/site-packages/ipykernel/ipkernel.py:287: DeprecationWarning: `should_run_async` will not call `transform_cell` automatically in the future. Please pass the result to `transformed_cell` argument and any exception that happen during thetransform in `preprocessing_exc_tuple` in IPython 7.17 and above.\n",
      "  and should_run_async(code)\n"
     ]
    },
    {
     "data": {
      "text/html": [
       "<div>\n",
       "<style scoped>\n",
       "    .dataframe tbody tr th:only-of-type {\n",
       "        vertical-align: middle;\n",
       "    }\n",
       "\n",
       "    .dataframe tbody tr th {\n",
       "        vertical-align: top;\n",
       "    }\n",
       "\n",
       "    .dataframe thead th {\n",
       "        text-align: right;\n",
       "    }\n",
       "</style>\n",
       "<table border=\"1\" class=\"dataframe\">\n",
       "  <thead>\n",
       "    <tr style=\"text-align: right;\">\n",
       "      <th></th>\n",
       "      <th>Global_Sales</th>\n",
       "    </tr>\n",
       "  </thead>\n",
       "  <tbody>\n",
       "    <tr>\n",
       "      <th>0</th>\n",
       "      <td>63.371815</td>\n",
       "    </tr>\n",
       "    <tr>\n",
       "      <th>1</th>\n",
       "      <td>63.371815</td>\n",
       "    </tr>\n",
       "    <tr>\n",
       "      <th>2</th>\n",
       "      <td>63.371815</td>\n",
       "    </tr>\n",
       "    <tr>\n",
       "      <th>3</th>\n",
       "      <td>63.371815</td>\n",
       "    </tr>\n",
       "    <tr>\n",
       "      <th>4</th>\n",
       "      <td>63.371815</td>\n",
       "    </tr>\n",
       "  </tbody>\n",
       "</table>\n",
       "</div>"
      ],
      "text/plain": [
       "   Global_Sales\n",
       "0     63.371815\n",
       "1     63.371815\n",
       "2     63.371815\n",
       "3     63.371815\n",
       "4     63.371815"
      ]
     },
     "execution_count": 8,
     "metadata": {},
     "output_type": "execute_result"
    }
   ],
   "source": [
    "df_submission.head()"
   ]
  },
  {
   "cell_type": "code",
   "execution_count": 9,
   "metadata": {},
   "outputs": [
    {
     "name": "stderr",
     "output_type": "stream",
     "text": [
      "/home/jupyter/workspace/atmacup8/.venv/lib/python3.8/site-packages/ipykernel/ipkernel.py:287: DeprecationWarning: `should_run_async` will not call `transform_cell` automatically in the future. Please pass the result to `transformed_cell` argument and any exception that happen during thetransform in `preprocessing_exc_tuple` in IPython 7.17 and above.\n",
      "  and should_run_async(code)\n"
     ]
    },
    {
     "data": {
      "text/html": [
       "<div>\n",
       "<style scoped>\n",
       "    .dataframe tbody tr th:only-of-type {\n",
       "        vertical-align: middle;\n",
       "    }\n",
       "\n",
       "    .dataframe tbody tr th {\n",
       "        vertical-align: top;\n",
       "    }\n",
       "\n",
       "    .dataframe thead th {\n",
       "        text-align: right;\n",
       "    }\n",
       "</style>\n",
       "<table border=\"1\" class=\"dataframe\">\n",
       "  <thead>\n",
       "    <tr style=\"text-align: right;\">\n",
       "      <th></th>\n",
       "      <th>index</th>\n",
       "      <th>Name</th>\n",
       "      <th>Platform</th>\n",
       "      <th>Year_of_Release</th>\n",
       "      <th>Genre</th>\n",
       "      <th>Publisher</th>\n",
       "      <th>NA_Sales</th>\n",
       "      <th>EU_Sales</th>\n",
       "      <th>JP_Sales</th>\n",
       "      <th>Other_Sales</th>\n",
       "      <th>Global_Sales</th>\n",
       "      <th>Critic_Score</th>\n",
       "      <th>Critic_Count</th>\n",
       "      <th>User_Score</th>\n",
       "      <th>User_Count</th>\n",
       "      <th>Developer</th>\n",
       "      <th>Rating</th>\n",
       "    </tr>\n",
       "  </thead>\n",
       "  <tbody>\n",
       "    <tr>\n",
       "      <th>0</th>\n",
       "      <td>0</td>\n",
       "      <td>LEGO Batman: The Videogame</td>\n",
       "      <td>Wii</td>\n",
       "      <td>NaN</td>\n",
       "      <td>Action</td>\n",
       "      <td>Warner Bros. Interactive Entertainment</td>\n",
       "      <td>180</td>\n",
       "      <td>97</td>\n",
       "      <td>0</td>\n",
       "      <td>28</td>\n",
       "      <td>306</td>\n",
       "      <td>74.0</td>\n",
       "      <td>17.0</td>\n",
       "      <td>7.9</td>\n",
       "      <td>22.0</td>\n",
       "      <td>Traveller's Tales</td>\n",
       "      <td>E10+</td>\n",
       "    </tr>\n",
       "    <tr>\n",
       "      <th>1</th>\n",
       "      <td>1</td>\n",
       "      <td>LEGO Indiana Jones: The Original Adventures</td>\n",
       "      <td>Wii</td>\n",
       "      <td>NaN</td>\n",
       "      <td>Action</td>\n",
       "      <td>LucasArts</td>\n",
       "      <td>151</td>\n",
       "      <td>61</td>\n",
       "      <td>0</td>\n",
       "      <td>21</td>\n",
       "      <td>234</td>\n",
       "      <td>78.0</td>\n",
       "      <td>22.0</td>\n",
       "      <td>6.6</td>\n",
       "      <td>28.0</td>\n",
       "      <td>Traveller's Tales</td>\n",
       "      <td>E10+</td>\n",
       "    </tr>\n",
       "    <tr>\n",
       "      <th>2</th>\n",
       "      <td>2</td>\n",
       "      <td>LEGO Batman: The Videogame</td>\n",
       "      <td>PSP</td>\n",
       "      <td>NaN</td>\n",
       "      <td>Action</td>\n",
       "      <td>Warner Bros. Interactive Entertainment</td>\n",
       "      <td>56</td>\n",
       "      <td>44</td>\n",
       "      <td>0</td>\n",
       "      <td>27</td>\n",
       "      <td>128</td>\n",
       "      <td>73.0</td>\n",
       "      <td>5.0</td>\n",
       "      <td>7.4</td>\n",
       "      <td>10.0</td>\n",
       "      <td>Traveller's Tales</td>\n",
       "      <td>E10+</td>\n",
       "    </tr>\n",
       "    <tr>\n",
       "      <th>3</th>\n",
       "      <td>3</td>\n",
       "      <td>Combat</td>\n",
       "      <td>2600</td>\n",
       "      <td>NaN</td>\n",
       "      <td>Action</td>\n",
       "      <td>Atari</td>\n",
       "      <td>117</td>\n",
       "      <td>7</td>\n",
       "      <td>0</td>\n",
       "      <td>1</td>\n",
       "      <td>125</td>\n",
       "      <td>NaN</td>\n",
       "      <td>NaN</td>\n",
       "      <td>NaN</td>\n",
       "      <td>NaN</td>\n",
       "      <td>NaN</td>\n",
       "      <td>NaN</td>\n",
       "    </tr>\n",
       "    <tr>\n",
       "      <th>4</th>\n",
       "      <td>4</td>\n",
       "      <td>LEGO Harry Potter: Years 5-7</td>\n",
       "      <td>Wii</td>\n",
       "      <td>NaN</td>\n",
       "      <td>Action</td>\n",
       "      <td>Warner Bros. Interactive Entertainment</td>\n",
       "      <td>69</td>\n",
       "      <td>42</td>\n",
       "      <td>0</td>\n",
       "      <td>12</td>\n",
       "      <td>124</td>\n",
       "      <td>76.0</td>\n",
       "      <td>8.0</td>\n",
       "      <td>7.8</td>\n",
       "      <td>13.0</td>\n",
       "      <td>Traveller's Tales</td>\n",
       "      <td>E10+</td>\n",
       "    </tr>\n",
       "    <tr>\n",
       "      <th>...</th>\n",
       "      <td>...</td>\n",
       "      <td>...</td>\n",
       "      <td>...</td>\n",
       "      <td>...</td>\n",
       "      <td>...</td>\n",
       "      <td>...</td>\n",
       "      <td>...</td>\n",
       "      <td>...</td>\n",
       "      <td>...</td>\n",
       "      <td>...</td>\n",
       "      <td>...</td>\n",
       "      <td>...</td>\n",
       "      <td>...</td>\n",
       "      <td>...</td>\n",
       "      <td>...</td>\n",
       "      <td>...</td>\n",
       "      <td>...</td>\n",
       "    </tr>\n",
       "    <tr>\n",
       "      <th>8354</th>\n",
       "      <td>8354</td>\n",
       "      <td>Stellaris</td>\n",
       "      <td>PC</td>\n",
       "      <td>2016.0</td>\n",
       "      <td>Strategy</td>\n",
       "      <td>Paradox Interactive</td>\n",
       "      <td>0</td>\n",
       "      <td>4</td>\n",
       "      <td>0</td>\n",
       "      <td>0</td>\n",
       "      <td>4</td>\n",
       "      <td>78.0</td>\n",
       "      <td>57.0</td>\n",
       "      <td>8</td>\n",
       "      <td>569.0</td>\n",
       "      <td>Paradox Development Studio</td>\n",
       "      <td>NaN</td>\n",
       "    </tr>\n",
       "    <tr>\n",
       "      <th>8355</th>\n",
       "      <td>8355</td>\n",
       "      <td>Total War Attila: Tyrants &amp; Kings</td>\n",
       "      <td>PC</td>\n",
       "      <td>2016.0</td>\n",
       "      <td>Strategy</td>\n",
       "      <td>Koch Media</td>\n",
       "      <td>0</td>\n",
       "      <td>1</td>\n",
       "      <td>0</td>\n",
       "      <td>0</td>\n",
       "      <td>1</td>\n",
       "      <td>NaN</td>\n",
       "      <td>NaN</td>\n",
       "      <td>NaN</td>\n",
       "      <td>NaN</td>\n",
       "      <td>NaN</td>\n",
       "      <td>NaN</td>\n",
       "    </tr>\n",
       "    <tr>\n",
       "      <th>8356</th>\n",
       "      <td>8356</td>\n",
       "      <td>Brothers Conflict: Precious Baby</td>\n",
       "      <td>PSV</td>\n",
       "      <td>2017.0</td>\n",
       "      <td>Action</td>\n",
       "      <td>Idea Factory</td>\n",
       "      <td>0</td>\n",
       "      <td>0</td>\n",
       "      <td>1</td>\n",
       "      <td>0</td>\n",
       "      <td>1</td>\n",
       "      <td>NaN</td>\n",
       "      <td>NaN</td>\n",
       "      <td>NaN</td>\n",
       "      <td>NaN</td>\n",
       "      <td>NaN</td>\n",
       "      <td>NaN</td>\n",
       "    </tr>\n",
       "    <tr>\n",
       "      <th>8357</th>\n",
       "      <td>8357</td>\n",
       "      <td>Phantasy Star Online 2 Episode 4: Deluxe Package</td>\n",
       "      <td>PS4</td>\n",
       "      <td>2017.0</td>\n",
       "      <td>Role-Playing</td>\n",
       "      <td>Sega</td>\n",
       "      <td>0</td>\n",
       "      <td>0</td>\n",
       "      <td>4</td>\n",
       "      <td>0</td>\n",
       "      <td>4</td>\n",
       "      <td>NaN</td>\n",
       "      <td>NaN</td>\n",
       "      <td>NaN</td>\n",
       "      <td>NaN</td>\n",
       "      <td>NaN</td>\n",
       "      <td>NaN</td>\n",
       "    </tr>\n",
       "    <tr>\n",
       "      <th>8358</th>\n",
       "      <td>8358</td>\n",
       "      <td>Phantasy Star Online 2 Episode 4: Deluxe Package</td>\n",
       "      <td>PSV</td>\n",
       "      <td>2017.0</td>\n",
       "      <td>Role-Playing</td>\n",
       "      <td>Sega</td>\n",
       "      <td>0</td>\n",
       "      <td>0</td>\n",
       "      <td>1</td>\n",
       "      <td>0</td>\n",
       "      <td>1</td>\n",
       "      <td>NaN</td>\n",
       "      <td>NaN</td>\n",
       "      <td>NaN</td>\n",
       "      <td>NaN</td>\n",
       "      <td>NaN</td>\n",
       "      <td>NaN</td>\n",
       "    </tr>\n",
       "  </tbody>\n",
       "</table>\n",
       "<p>8359 rows × 17 columns</p>\n",
       "</div>"
      ],
      "text/plain": [
       "      index                                              Name Platform  \\\n",
       "0         0                        LEGO Batman: The Videogame      Wii   \n",
       "1         1       LEGO Indiana Jones: The Original Adventures      Wii   \n",
       "2         2                        LEGO Batman: The Videogame      PSP   \n",
       "3         3                                            Combat     2600   \n",
       "4         4                      LEGO Harry Potter: Years 5-7      Wii   \n",
       "...     ...                                               ...      ...   \n",
       "8354   8354                                         Stellaris       PC   \n",
       "8355   8355                 Total War Attila: Tyrants & Kings       PC   \n",
       "8356   8356                  Brothers Conflict: Precious Baby      PSV   \n",
       "8357   8357  Phantasy Star Online 2 Episode 4: Deluxe Package      PS4   \n",
       "8358   8358  Phantasy Star Online 2 Episode 4: Deluxe Package      PSV   \n",
       "\n",
       "      Year_of_Release         Genre                               Publisher  \\\n",
       "0                 NaN        Action  Warner Bros. Interactive Entertainment   \n",
       "1                 NaN        Action                               LucasArts   \n",
       "2                 NaN        Action  Warner Bros. Interactive Entertainment   \n",
       "3                 NaN        Action                                   Atari   \n",
       "4                 NaN        Action  Warner Bros. Interactive Entertainment   \n",
       "...               ...           ...                                     ...   \n",
       "8354           2016.0      Strategy                     Paradox Interactive   \n",
       "8355           2016.0      Strategy                              Koch Media   \n",
       "8356           2017.0        Action                            Idea Factory   \n",
       "8357           2017.0  Role-Playing                                    Sega   \n",
       "8358           2017.0  Role-Playing                                    Sega   \n",
       "\n",
       "      NA_Sales  EU_Sales  JP_Sales  Other_Sales  Global_Sales  Critic_Score  \\\n",
       "0          180        97         0           28           306          74.0   \n",
       "1          151        61         0           21           234          78.0   \n",
       "2           56        44         0           27           128          73.0   \n",
       "3          117         7         0            1           125           NaN   \n",
       "4           69        42         0           12           124          76.0   \n",
       "...        ...       ...       ...          ...           ...           ...   \n",
       "8354         0         4         0            0             4          78.0   \n",
       "8355         0         1         0            0             1           NaN   \n",
       "8356         0         0         1            0             1           NaN   \n",
       "8357         0         0         4            0             4           NaN   \n",
       "8358         0         0         1            0             1           NaN   \n",
       "\n",
       "      Critic_Count User_Score  User_Count                   Developer Rating  \n",
       "0             17.0        7.9        22.0           Traveller's Tales   E10+  \n",
       "1             22.0        6.6        28.0           Traveller's Tales   E10+  \n",
       "2              5.0        7.4        10.0           Traveller's Tales   E10+  \n",
       "3              NaN        NaN         NaN                         NaN    NaN  \n",
       "4              8.0        7.8        13.0           Traveller's Tales   E10+  \n",
       "...            ...        ...         ...                         ...    ...  \n",
       "8354          57.0          8       569.0  Paradox Development Studio    NaN  \n",
       "8355           NaN        NaN         NaN                         NaN    NaN  \n",
       "8356           NaN        NaN         NaN                         NaN    NaN  \n",
       "8357           NaN        NaN         NaN                         NaN    NaN  \n",
       "8358           NaN        NaN         NaN                         NaN    NaN  \n",
       "\n",
       "[8359 rows x 17 columns]"
      ]
     },
     "execution_count": 9,
     "metadata": {},
     "output_type": "execute_result"
    }
   ],
   "source": [
    "df_train.reset_index()"
   ]
  },
  {
   "cell_type": "markdown",
   "metadata": {},
   "source": [
    "# train"
   ]
  },
  {
   "cell_type": "code",
   "execution_count": 10,
   "metadata": {},
   "outputs": [
    {
     "name": "stderr",
     "output_type": "stream",
     "text": [
      "/home/jupyter/workspace/atmacup8/.venv/lib/python3.8/site-packages/ipykernel/ipkernel.py:287: DeprecationWarning: `should_run_async` will not call `transform_cell` automatically in the future. Please pass the result to `transformed_cell` argument and any exception that happen during thetransform in `preprocessing_exc_tuple` in IPython 7.17 and above.\n",
      "  and should_run_async(code)\n"
     ]
    },
    {
     "data": {
      "text/plain": [
       "(16,\n",
       " ['Name',\n",
       "  'Platform',\n",
       "  'Year_of_Release',\n",
       "  'Genre',\n",
       "  'Publisher',\n",
       "  'NA_Sales',\n",
       "  'EU_Sales',\n",
       "  'JP_Sales',\n",
       "  'Other_Sales',\n",
       "  'Global_Sales',\n",
       "  'Critic_Score',\n",
       "  'Critic_Count',\n",
       "  'User_Score',\n",
       "  'User_Count',\n",
       "  'Developer',\n",
       "  'Rating'])"
      ]
     },
     "execution_count": 10,
     "metadata": {},
     "output_type": "execute_result"
    }
   ],
   "source": [
    "len(list(df_train.columns)), list(df_train.columns)"
   ]
  },
  {
   "cell_type": "markdown",
   "metadata": {},
   "source": [
    "# df_train と df_test の venn"
   ]
  },
  {
   "cell_type": "code",
   "execution_count": 11,
   "metadata": {},
   "outputs": [
    {
     "data": {
      "text/plain": [
       "7"
      ]
     },
     "execution_count": 11,
     "metadata": {},
     "output_type": "execute_result"
    }
   ],
   "source": [
    "discrete_columns = [\n",
    " 'Name',\n",
    " 'Platform',\n",
    " 'Year_of_Release',\n",
    " 'Genre',\n",
    " 'Publisher',\n",
    " 'Developer',\n",
    " 'Rating'\n",
    "]\n",
    "len(discrete_columns)"
   ]
  },
  {
   "cell_type": "code",
   "execution_count": 12,
   "metadata": {},
   "outputs": [],
   "source": [
    "def show_venn(train, test, column, i = None):\n",
    "    train_ = train.copy()\n",
    "    test_ = test.copy()\n",
    "    if i is not None:\n",
    "        plt.subplot(6, 4, i)\n",
    "    test_[column] = test_[column].fillna(0)\n",
    "    train_[column] = train_[column].fillna(0)\n",
    "    venn2([set(train_[column]), set(test_[column])])\n",
    "    title = column + f'; train - test: {len(set(train_[column]) - set(test_[column]))}\\n'\n",
    "    title += f'train null: {np.sum(train_[column].isna())}, {np.mean(train_[column].isna())*100:.1f}%\\n'\n",
    "    title += f'test null: {np.sum(test_[column].isna())}, {np.mean(test_[column].isna())*100:.1f}%\\n'\n",
    "    plt.title(title)"
   ]
  },
  {
   "cell_type": "code",
   "execution_count": 13,
   "metadata": {},
   "outputs": [
    {
     "data": {
      "image/png": "[encoded data removed]",
      "text/plain": [
       "<Figure size 864x1440 with 7 Axes>"
      ]
     },
     "metadata": {},
     "output_type": "display_data"
    }
   ],
   "source": [
    "plt.figure(figsize=(12, 20))\n",
    "plt.rcParams[\"font.size\"] = 12\n",
    "for i, column in enumerate(discrete_columns):\n",
    "    show_venn(df_train, df_test, column, i + 1)\n",
    "plt.tight_layout()"
   ]
  },
  {
   "cell_type": "markdown",
   "metadata": {},
   "source": [
    "# train/test "
   ]
  },
  {
   "cell_type": "code",
   "execution_count": 14,
   "metadata": {},
   "outputs": [
    {
     "data": {
      "text/html": [
       "<div>\n",
       "<style scoped>\n",
       "    .dataframe tbody tr th:only-of-type {\n",
       "        vertical-align: middle;\n",
       "    }\n",
       "\n",
       "    .dataframe tbody tr th {\n",
       "        vertical-align: top;\n",
       "    }\n",
       "\n",
       "    .dataframe thead th {\n",
       "        text-align: right;\n",
       "    }\n",
       "</style>\n",
       "<table border=\"1\" class=\"dataframe\">\n",
       "  <thead>\n",
       "    <tr style=\"text-align: right;\">\n",
       "      <th></th>\n",
       "      <th>Name</th>\n",
       "      <th>Platform</th>\n",
       "      <th>Year_of_Release</th>\n",
       "      <th>Genre</th>\n",
       "      <th>Publisher</th>\n",
       "      <th>NA_Sales</th>\n",
       "      <th>EU_Sales</th>\n",
       "      <th>JP_Sales</th>\n",
       "      <th>Other_Sales</th>\n",
       "      <th>Global_Sales</th>\n",
       "      <th>Critic_Score</th>\n",
       "      <th>Critic_Count</th>\n",
       "      <th>User_Score</th>\n",
       "      <th>User_Count</th>\n",
       "      <th>Developer</th>\n",
       "      <th>Rating</th>\n",
       "      <th>is_test</th>\n",
       "    </tr>\n",
       "  </thead>\n",
       "  <tbody>\n",
       "    <tr>\n",
       "      <th>0</th>\n",
       "      <td>LEGO Batman: The Videogame</td>\n",
       "      <td>Wii</td>\n",
       "      <td>NaN</td>\n",
       "      <td>Action</td>\n",
       "      <td>Warner Bros. Interactive Entertainment</td>\n",
       "      <td>180.0</td>\n",
       "      <td>97.0</td>\n",
       "      <td>0.0</td>\n",
       "      <td>28.0</td>\n",
       "      <td>306.0</td>\n",
       "      <td>74.0</td>\n",
       "      <td>17.0</td>\n",
       "      <td>7.9</td>\n",
       "      <td>22.0</td>\n",
       "      <td>Traveller's Tales</td>\n",
       "      <td>E10+</td>\n",
       "      <td>False</td>\n",
       "    </tr>\n",
       "    <tr>\n",
       "      <th>1</th>\n",
       "      <td>LEGO Indiana Jones: The Original Adventures</td>\n",
       "      <td>Wii</td>\n",
       "      <td>NaN</td>\n",
       "      <td>Action</td>\n",
       "      <td>LucasArts</td>\n",
       "      <td>151.0</td>\n",
       "      <td>61.0</td>\n",
       "      <td>0.0</td>\n",
       "      <td>21.0</td>\n",
       "      <td>234.0</td>\n",
       "      <td>78.0</td>\n",
       "      <td>22.0</td>\n",
       "      <td>6.6</td>\n",
       "      <td>28.0</td>\n",
       "      <td>Traveller's Tales</td>\n",
       "      <td>E10+</td>\n",
       "      <td>False</td>\n",
       "    </tr>\n",
       "    <tr>\n",
       "      <th>2</th>\n",
       "      <td>LEGO Batman: The Videogame</td>\n",
       "      <td>PSP</td>\n",
       "      <td>NaN</td>\n",
       "      <td>Action</td>\n",
       "      <td>Warner Bros. Interactive Entertainment</td>\n",
       "      <td>56.0</td>\n",
       "      <td>44.0</td>\n",
       "      <td>0.0</td>\n",
       "      <td>27.0</td>\n",
       "      <td>128.0</td>\n",
       "      <td>73.0</td>\n",
       "      <td>5.0</td>\n",
       "      <td>7.4</td>\n",
       "      <td>10.0</td>\n",
       "      <td>Traveller's Tales</td>\n",
       "      <td>E10+</td>\n",
       "      <td>False</td>\n",
       "    </tr>\n",
       "    <tr>\n",
       "      <th>3</th>\n",
       "      <td>Combat</td>\n",
       "      <td>2600</td>\n",
       "      <td>NaN</td>\n",
       "      <td>Action</td>\n",
       "      <td>Atari</td>\n",
       "      <td>117.0</td>\n",
       "      <td>7.0</td>\n",
       "      <td>0.0</td>\n",
       "      <td>1.0</td>\n",
       "      <td>125.0</td>\n",
       "      <td>NaN</td>\n",
       "      <td>NaN</td>\n",
       "      <td>NaN</td>\n",
       "      <td>NaN</td>\n",
       "      <td>NaN</td>\n",
       "      <td>NaN</td>\n",
       "      <td>False</td>\n",
       "    </tr>\n",
       "    <tr>\n",
       "      <th>4</th>\n",
       "      <td>LEGO Harry Potter: Years 5-7</td>\n",
       "      <td>Wii</td>\n",
       "      <td>NaN</td>\n",
       "      <td>Action</td>\n",
       "      <td>Warner Bros. Interactive Entertainment</td>\n",
       "      <td>69.0</td>\n",
       "      <td>42.0</td>\n",
       "      <td>0.0</td>\n",
       "      <td>12.0</td>\n",
       "      <td>124.0</td>\n",
       "      <td>76.0</td>\n",
       "      <td>8.0</td>\n",
       "      <td>7.8</td>\n",
       "      <td>13.0</td>\n",
       "      <td>Traveller's Tales</td>\n",
       "      <td>E10+</td>\n",
       "      <td>False</td>\n",
       "    </tr>\n",
       "  </tbody>\n",
       "</table>\n",
       "</div>"
      ],
      "text/plain": [
       "                                          Name Platform  Year_of_Release  \\\n",
       "0                   LEGO Batman: The Videogame      Wii              NaN   \n",
       "1  LEGO Indiana Jones: The Original Adventures      Wii              NaN   \n",
       "2                   LEGO Batman: The Videogame      PSP              NaN   \n",
       "3                                       Combat     2600              NaN   \n",
       "4                 LEGO Harry Potter: Years 5-7      Wii              NaN   \n",
       "\n",
       "    Genre                               Publisher  NA_Sales  EU_Sales  \\\n",
       "0  Action  Warner Bros. Interactive Entertainment     180.0      97.0   \n",
       "1  Action                               LucasArts     151.0      61.0   \n",
       "2  Action  Warner Bros. Interactive Entertainment      56.0      44.0   \n",
       "3  Action                                   Atari     117.0       7.0   \n",
       "4  Action  Warner Bros. Interactive Entertainment      69.0      42.0   \n",
       "\n",
       "   JP_Sales  Other_Sales  Global_Sales  Critic_Score  Critic_Count User_Score  \\\n",
       "0       0.0         28.0         306.0          74.0          17.0        7.9   \n",
       "1       0.0         21.0         234.0          78.0          22.0        6.6   \n",
       "2       0.0         27.0         128.0          73.0           5.0        7.4   \n",
       "3       0.0          1.0         125.0           NaN           NaN        NaN   \n",
       "4       0.0         12.0         124.0          76.0           8.0        7.8   \n",
       "\n",
       "   User_Count          Developer Rating  is_test  \n",
       "0        22.0  Traveller's Tales   E10+    False  \n",
       "1        28.0  Traveller's Tales   E10+    False  \n",
       "2        10.0  Traveller's Tales   E10+    False  \n",
       "3         NaN                NaN    NaN    False  \n",
       "4        13.0  Traveller's Tales   E10+    False  "
      ]
     },
     "execution_count": 14,
     "metadata": {},
     "output_type": "execute_result"
    }
   ],
   "source": [
    "train = df_train.copy()\n",
    "test = df_test.copy()\n",
    "\n",
    "train.loc[:, 'is_test'] = False\n",
    "test.loc[:, 'is_test'] = True\n",
    "whole = pd.concat([train, test])\n",
    "whole.head()"
   ]
  },
  {
   "cell_type": "markdown",
   "metadata": {},
   "source": [
    "## categry を見る"
   ]
  },
  {
   "cell_type": "code",
   "execution_count": 15,
   "metadata": {},
   "outputs": [
    {
     "name": "stderr",
     "output_type": "stream",
     "text": [
      "/home/jupyter/workspace/atmacup8/.venv/lib/python3.8/site-packages/ipykernel/ipkernel.py:287: DeprecationWarning: `should_run_async` will not call `transform_cell` automatically in the future. Please pass the result to `transformed_cell` argument and any exception that happen during thetransform in `preprocessing_exc_tuple` in IPython 7.17 and above.\n",
      "  and should_run_async(code)\n"
     ]
    }
   ],
   "source": [
    "def countplot(df: pd.DataFrame, column: str) -> None:\n",
    "    print(f'{column}: {len(df.loc[:, column].unique())}, {df.loc[:, column].unique()}')\n",
    "    plt.figure(figsize=(20, 8))\n",
    "    sns.countplot(data=df, x=column, hue='is_test')\n",
    "    plt.title(column)\n",
    "    plt.tight_layout()"
   ]
  },
  {
   "cell_type": "code",
   "execution_count": 16,
   "metadata": {},
   "outputs": [
    {
     "name": "stdout",
     "output_type": "stream",
     "text": [
      "Platform: 31, ['Wii' 'PSP' '2600' 'X360' 'PS3' 'GBA' 'DS' '3DS' 'PC' 'GC' 'GB' 'PS2'\n",
      " 'N64' 'PSV' 'XB' 'NES' 'GEN' 'SNES' 'GG' 'NG' 'SCD' 'PS' 'SAT' '3DO'\n",
      " 'TG16' 'PCFX' 'DC' 'WS' 'WiiU' 'PS4' 'XOne']\n"
     ]
    },
    {
     "data": {
      "image/png": "[encoded data removed]",
      "text/plain": [
       "<Figure size 1440x576 with 1 Axes>"
      ]
     },
     "metadata": {},
     "output_type": "display_data"
    }
   ],
   "source": [
    "countplot(whole, 'Platform')"
   ]
  },
  {
   "cell_type": "code",
   "execution_count": 17,
   "metadata": {},
   "outputs": [
    {
     "name": "stderr",
     "output_type": "stream",
     "text": [
      "/home/jupyter/workspace/atmacup8/.venv/lib/python3.8/site-packages/ipykernel/ipkernel.py:287: DeprecationWarning: `should_run_async` will not call `transform_cell` automatically in the future. Please pass the result to `transformed_cell` argument and any exception that happen during thetransform in `preprocessing_exc_tuple` in IPython 7.17 and above.\n",
      "  and should_run_async(code)\n"
     ]
    },
    {
     "name": "stdout",
     "output_type": "stream",
     "text": [
      "Year_of_Release: 40, [  nan 1980. 1981. 1982. 1983. 1984. 1985. 1986. 1987. 1988. 1989. 1990.\n",
      " 1991. 1992. 1993. 1994. 1995. 1996. 1997. 1998. 1999. 2000. 2001. 2002.\n",
      " 2003. 2004. 2005. 2006. 2007. 2008. 2009. 2010. 2011. 2012. 2013. 2014.\n",
      " 2015. 2016. 2017. 2020.]\n"
     ]
    },
    {
     "data": {
      "image/png": "[encoded data removed]",
      "text/plain": [
       "<Figure size 1440x576 with 1 Axes>"
      ]
     },
     "metadata": {},
     "output_type": "display_data"
    }
   ],
   "source": [
    "countplot(whole, 'Year_of_Release')"
   ]
  },
  {
   "cell_type": "code",
   "execution_count": 18,
   "metadata": {},
   "outputs": [
    {
     "name": "stderr",
     "output_type": "stream",
     "text": [
      "/home/jupyter/workspace/atmacup8/.venv/lib/python3.8/site-packages/ipykernel/ipkernel.py:287: DeprecationWarning: `should_run_async` will not call `transform_cell` automatically in the future. Please pass the result to `transformed_cell` argument and any exception that happen during thetransform in `preprocessing_exc_tuple` in IPython 7.17 and above.\n",
      "  and should_run_async(code)\n"
     ]
    },
    {
     "name": "stdout",
     "output_type": "stream",
     "text": [
      "Genre: 13, ['Action' 'Adventure' 'Fighting' 'Misc' 'Platform' 'Puzzle' 'Racing'\n",
      " 'Role-Playing' 'Shooter' 'Simulation' 'Sports' 'Strategy' nan]\n"
     ]
    },
    {
     "data": {
      "image/png": "[encoded data removed]",
      "text/plain": [
       "<Figure size 1440x576 with 1 Axes>"
      ]
     },
     "metadata": {},
     "output_type": "display_data"
    }
   ],
   "source": [
    "countplot(whole, 'Genre')"
   ]
  },
  {
   "cell_type": "code",
   "execution_count": 19,
   "metadata": {
    "scrolled": true
   },
   "outputs": [
    {
     "name": "stderr",
     "output_type": "stream",
     "text": [
      "/home/jupyter/workspace/atmacup8/.venv/lib/python3.8/site-packages/ipykernel/ipkernel.py:287: DeprecationWarning: `should_run_async` will not call `transform_cell` automatically in the future. Please pass the result to `transformed_cell` argument and any exception that happen during thetransform in `preprocessing_exc_tuple` in IPython 7.17 and above.\n",
      "  and should_run_async(code)\n"
     ]
    },
    {
     "name": "stdout",
     "output_type": "stream",
     "text": [
      "Publisher: 582, ['Warner Bros. Interactive Entertainment' 'LucasArts' 'Atari' 'Sega'\n",
      " 'Disney Interactive Studios' 'Vivendi Games' 'Square Enix' 'Nintendo'\n",
      " 'Ignition Entertainment' 'THQ' 'Focus Home Interactive' 'Capcom'\n",
      " 'MTV Games' 'Funsta' 'Majesco Entertainment' 'System 3 Arcade Software'\n",
      " 'Nippon Ichi Software' 'Idea Factory' 'Bethesda Softworks'\n",
      " 'Take-Two Interactive' 'D3Publisher' 'Kalypso Media'\n",
      " 'Sony Computer Entertainment' 'Oxygen Interactive' 'Ghostlight'\n",
      " 'Slitherine Software' 'Parker Bros.' 'Mystique' 'Men-A-Vision'\n",
      " 'Tigervision' 'Mattel Interactive' 'Coleco' 'Imagic' 'Taito'\n",
      " 'ITT Family Games' 'Bomb' 'Quelle' 'Mycom' 'Enix Corporation'\n",
      " 'SquareSoft' 'Maxis' 'Palcom' 'HAL Laboratory' 'Tecmo Koei' 'Epoch'\n",
      " 'Square' 'Kemco' 'Imagineer' 'Banpresto' 'ChunSoft' 'Takara'\n",
      " 'Video System' 'id Software' 'SNK' 'Sammy Corporation' 'Imax' 'Laguna'\n",
      " 'TOHO' 'Red Orb' 'Hasbro Interactive' 'Micro Cabin' 'Atlus' 'Game Arts'\n",
      " 'From Software' 'Core Design Ltd.' 'Media Rings' 'Asmik Corp' 'ArtDink'\n",
      " 'NEC' 'New' 'Tomy Corporation' 'SNK Playmore' 'Seta Corporation' 'Jaleco'\n",
      " 'Sonnet' 'U.S. Gold' 'Pow' 'MediaQuest' 'Panther Software'\n",
      " 'Riverhillsoft' 'Mindscape' 'American Softworks' 'Adeline Software'\n",
      " 'Gremlin Interactive Ltd' 'Pioneer LDC' 'Societa'\n",
      " 'BMG Interactive Entertainment' 'Accolade' 'ASC Games' 'Kadokawa Shoten'\n",
      " 'CTO SpA' 'Gaga' 'Microsoft Game Studios' 'Elite' 'NEC Interchannel'\n",
      " 'NCS' 'Gust' 'Playmates' '989 Studios' 'Interplay Productions'\n",
      " 'Hudson Entertainment' 'UEP Systems' 'Agetec' 'Swing! Entertainment'\n",
      " 'Fortyfive' 'KID' 'NewKidCo' 'DreamWorks Interactive'\n",
      " 'Culture Publishers' 'TYO' 'MTO' 'Crave Entertainment' 'Locus' 'Success'\n",
      " 'Mitsui' 'Axela' 'General Entertainment' 'Genki' 'Square EA'\n",
      " 'Red Storm Entertainment' 'Jorudan' '989 Sports' 'Athena'\n",
      " 'PopTop Software' 'BAM! Entertainment' 'Pony Canyon'\n",
      " 'Vatical Entertainment' 'Havas Interactive' 'Wanadoo' 'TDK Mediactive'\n",
      " 'Berkeley' 'Encore' 'Sony Music Entertainment' 'Rage Software'\n",
      " 'TalonSoft' 'Altron' 'Sony Computer Entertainment Europe' 'Blue Byte'\n",
      " 'Activision Value' 'Strategy First' 'LSP Games' 'Microids' '505 Games'\n",
      " 'Datam Polystar' 'Marvelous Interactive' 'Arika' 'Media Entertainment'\n",
      " 'Play It' 'Jester Interactive' 'Liquid Games' 'Big Ben Interactive'\n",
      " 'DigiCube' 'Knowledge Adventure' 'CCP' 'Aspyr' 'Hip Interactive'\n",
      " 'Indie Games' 'MC2 Entertainment' 'Global Star' 'Mad Catz'\n",
      " 'Agatsuma Entertainment' 'O3 Entertainment' 'responDESIGN' 'Summitsoft'\n",
      " 'DSI Games' 'NovaLogic' 'Groove Games' 'Graphsim Entertainment'\n",
      " 'Valcon Games' 'Acquire' 'Takara Tomy' 'Alchemist' 'Aria' 'Interchannel'\n",
      " 'Yeti' 'Zenrin' 'Yamasa Entertainment' 'Mumbo Jumbo' 'PopCap Games'\n",
      " 'Kando Games' 'Mastertronic' 'Broccoli' 'CokeM Interactive'\n",
      " 'Blast! Entertainment Ltd' 'Destineer' 'Nobilis' 'Neko Entertainment'\n",
      " 'AQ Interactive' 'Brash Entertainment' 'Benesse' 'Tommo' 'Phenomedia'\n",
      " 'Data Design Interactive' 'Mercury Games' 'Phoenix Games' 'Warashi'\n",
      " 'Touchstone' 'Monte Christo Multimedia' 'Lighthouse Interactive' 'RTL'\n",
      " 'Detn8 Games' 'Paradox Interactive' 'Koch Media' 'Gamebridge' 'Gamecock'\n",
      " 'Arc System Works' 'Legacy Interactive' 'Mamba Games' 'Crimson Cow'\n",
      " 'System Soft' 'GSP' 'Pinnacle' 'Zoo Games' 'Cave' 'HMH Interactive'\n",
      " 'Dorart' 'Naxat Soft' 'Commseed' 'Rondomedia' 'Ivolgamus' '2D Boy'\n",
      " 'Vir2L Studios' 'Graffiti' 'GOA' 'Moss' 'Milestone' 'fonfun'\n",
      " 'Merscom LLC' 'Level 5' 'TGL' 'PlayV' 'Number None'\n",
      " 'Performance Designed Products' 'Genterprise' 'O-Games'\n",
      " 'Enjoy Gaming ltd.' 'Phantom EFX' 'Reef Entertainment'\n",
      " 'Alawar Entertainment' 'Asylum Entertainment' 'Foreign Media Games'\n",
      " 'NetRevo' 'RED Entertainment' 'Piacci' 'Virtual Play Games' 'Kamui'\n",
      " 'Karin Entertainment' 'Funcom' 'Devolver Digital' 'Aerosoft'\n",
      " 'GameMill Entertainment' 'Alternative Software' 'Funbox Media'\n",
      " 'Telltale Games' 'iWin' 'Iceberg Interactive' 'Valve' 'Wargaming.net'\n",
      " 'Square Enix ' 'Nihon Falcom Corporation' 'SCS Software'\n",
      " 'Avanquest Software' 'Giza10' 'Easy Interactive' 'Ascaron Entertainment'\n",
      " 'Seventh Chord' 'Headup Games' 'Boost On' 'Otomate' 'Paon Corporation'\n",
      " 'Bohemia Interactive' 'Office Create' 'Happinet' 'Giga' 'dramatic create'\n",
      " 'Sony Computer Entertainment America' 'mixi, Inc' 'Marvel Entertainment'\n",
      " 'HuneX' 'Mojang' 'Revolution Software' 'Marvelous Games'\n",
      " 'Harmonix Music Systems' 'Yacht Club Games' 'inXile Entertainment'\n",
      " 'Extreme Entertainment Group' 'Rebellion Developments'\n",
      " 'Bigben Interactive' 'Sold Out' 'Inti Creates' 'Red Flagship'\n",
      " 'Dusenberry Martin Racing' 'Gearbox Software' 'UIG Entertainment'\n",
      " 'MLB.com' 'Eidos Interactive' 'Konami Digital Entertainment' 'Unknown'\n",
      " nan 'Activision' 'Electronic Arts' 'Universal Interactive'\n",
      " 'Namco Bandai Games' 'Deep Silver' 'Infogrames' 'Ultravision' 'Ubisoft'\n",
      " 'Empire Interactive' 'TopWare Interactive' 'DTP Entertainment'\n",
      " 'Midway Games' 'Sears' 'Avanquest' 'Black Bean Games' 'Codemasters'\n",
      " 'Rising Star Games' 'City Interactive' 'Home Entertainment Suppliers'\n",
      " 'Microprose' '20th Century Fox Video Games' 'Data Age' 'Starpath Corp.'\n",
      " 'Universal Gamex' 'Wizard Video Games' 'CPG Products' 'Answer Software'\n",
      " 'CBS Electronics' 'Avalon Interactive' 'Hudson Soft'\n",
      " 'Human Entertainment' 'BPS' 'Angel Studios' 'Culture Brain'\n",
      " 'Virgin Interactive' 'Arena Entertainment' 'Ocean' 'New World Computing'\n",
      " 'Acclaim Entertainment' 'Titus' 'Coconuts Japan' 'Interplay' 'Hect'\n",
      " 'T&E Soft' 'Victor Interactive' 'Misawa' 'Psygnosis' 'Sunsoft' 'JVC'\n",
      " 'Time Warner Interactive' 'Vap' 'ASCII Entertainment' 'Shogakukan'\n",
      " 'Yumedia' 'Pack-In-Video' 'Fuji' 'Kokopeli Digital Studios' 'Nichibutsu'\n",
      " 'Crystal Dynamics' 'Compile' 'Quest' 'Data East' 'GT Interactive'\n",
      " 'Telstar' 'Imageworks' 'Technos Japan Corporation' 'Glams'\n",
      " 'Electronic Arts Victor' 'Elf' 'Vic Tokai' 'Asmik Ace Entertainment'\n",
      " 'Nippon Telenet' 'Media Works' 'ASK' 'KSS' 'FunSoft' 'Fox Interactive'\n",
      " 'Hearty Robin' 'Natsume' 'SPS' 'SSI' 'Imadio' 'Warp' 'Xing Entertainment'\n",
      " 'Midas Interactive Entertainment' 'ESP' 'On Demand' 'Origin Systems'\n",
      " 'Starfish' 'Aques' '3DO' 'Evolution Games' 'Saurus'\n",
      " 'Gainax Network Systems' 'Quintet' 'Syscom' 'GameTek' 'TechnoSoft'\n",
      " 'Irem Software Engineering' 'Magical Company' 'LEGO Media' 'Aqua Plus'\n",
      " 'SouthPeak Games' 'Aruze Corp' 'Pack In Soft' 'Telegames'\n",
      " 'Westwood Studios' 'EON Digital Entertainment' 'TDK Core'\n",
      " 'Sunrise Interactive' 'Media Factory' 'The Learning Company'\n",
      " 'Conspiracy Entertainment' 'Spike' 'Magix' 'DreamCatcher Interactive'\n",
      " 'Destination Software, Inc' 'Rebellion' 'Gathering of Developers'\n",
      " 'Enterbrain' 'Metro 3D' 'Max Five' 'Black Label Games'\n",
      " 'Hamster Corporation' 'Zoo Digital Publishing' 'Princess Soft' 'Playmore'\n",
      " 'Pacific Century Cyber Works' 'Nippon Amuse' 'XS Games'\n",
      " 'Xicat Interactive' 'King Records' 'Gotham Games' 'SCi' 'NDA Productions'\n",
      " 'Phantagram' 'Simon & Schuster Interactive' 'JoWood Productions'\n",
      " 'Game Factory' 'Sony Online Entertainment' 'Mud Duck Productions'\n",
      " 'Kool Kizz' 'Illusion Softworks' 'Evolved Games' 'Sting' 'Mastiff'\n",
      " 'Ascaron Entertainment GmbH' 'Sunflowers' 'Flashpoint Games' 'RedOctane'\n",
      " 'Jack of All Games' 'ValuSoft' 'Xplosiv' \"Yuke's\" 'NCSoft'\n",
      " 'Essential Games' 'Playlogic Game Factory' 'CDV Software Entertainment'\n",
      " 'Sweets' '10TACLE Studios' 'GN Software' 'Rocket Company' 'IE Institute'\n",
      " 'Daito' 'Myelin Media' 'Edia' 'Global A Entertainment' 'Michaelsoft'\n",
      " 'Ongakukan' 'Popcorn Arcade' 'Nordcurrent' 'PQube' 'Zushi Games'\n",
      " 'Kids Station' 'Prototype' 'CyberFront' 'Grand Prix Games' 'Gameloft'\n",
      " 'Paon' 'Hackberry' 'Gakken' 'Scholastic Inc.' 'White Park Bay Software'\n",
      " 'DHM Interactive' 'Flight-Plan' 'Falcom Corporation' 'Game Life' 'Ertain'\n",
      " 'Lexicon Entertainment' 'Russel' 'UFO Interactive' 'Interchannel-Holon'\n",
      " 'The Adventure Company' 'ASCII Media Works' '5pb' 'Minato Station'\n",
      " 'Aksys Games' 'Big Fish Games' 'GungHo' 'Tryfirst' 'Nordic Games'\n",
      " 'Tivola' 'Mirai Shounen' 'Creative Core' 'Compile Heart'\n",
      " 'Codemasters Online' 'Navarre Corp' 'Ubisoft Annecy' 'Daedalic'\n",
      " 'Ackkstudios' 'Storm City Games' 'Revolution (Japan)' 'Ecole'\n",
      " 'Mentor Interactive' 'PM Studios' 'P2 Games' 'Alvion' 'Astragon'\n",
      " 'bitComposer Games' '1C Company' 'Valve Software' 'G.Rev' '49Games'\n",
      " 'Abylight' 'Comfort' 'FuRyu' 'Asgard' 'Nexon' 'Little Orbit'\n",
      " 'Just Flight' 'Griffin International' 'Tradewest' 'Team17 Software'\n",
      " 'Her Interactive' 'Quinrose' 'Takuyo' '7G//AMES' 'Plenty' 'Tetris Online'\n",
      " 'Tripwire Interactive' 'Visco' 'Excalibur Publishing' 'Masque Publishing'\n",
      " 'Marvelous Entertainment' 'Maximum Family Games' 'Licensed 4U' 'Views'\n",
      " 'BushiRoad' 'Daedalic Entertainment' 'Cloud Imperium Games Corporation'\n",
      " 'Nippon Columbia' 'Fields' 'Focus Multimedia' 'Xseed Games' 'Image Epoch'\n",
      " 'Kadokawa Games' 'EA Games' 'Interworks Unlimited, Inc.' 'Trion Worlds'\n",
      " 'Screenlife' 'Kaga Create' 'System 3' 'Activision Blizzard'\n",
      " 'Idea Factory International' 'Type-Moon' 'imageepoch Inc.' 'Nitroplus'\n",
      " 'Milestone S.r.l.' 'Experience Inc.' 'Tru Blu Entertainment'\n",
      " 'FuRyu Corporation' 'WayForward Technologies' 'Cygames'\n",
      " 'Slightly Mad Studios' 'Hello Games' 'Crytek' 'Insomniac Games'\n",
      " 'Games Workshop' 'Introversion Software' 'Epic Games' 'Stainless Games'\n",
      " 'Milestone S.r.l' 'Paradox Development']\n"
     ]
    },
    {
     "data": {
      "image/png": "[encoded data removed]",
      "text/plain": [
       "<Figure size 1440x576 with 1 Axes>"
      ]
     },
     "metadata": {},
     "output_type": "display_data"
    }
   ],
   "source": [
    "countplot(whole, 'Publisher')"
   ]
  },
  {
   "cell_type": "code",
   "execution_count": 20,
   "metadata": {},
   "outputs": [
    {
     "name": "stderr",
     "output_type": "stream",
     "text": [
      "/home/jupyter/workspace/atmacup8/.venv/lib/python3.8/site-packages/ipykernel/ipkernel.py:287: DeprecationWarning: `should_run_async` will not call `transform_cell` automatically in the future. Please pass the result to `transformed_cell` argument and any exception that happen during thetransform in `preprocessing_exc_tuple` in IPython 7.17 and above.\n",
      "  and should_run_async(code)\n"
     ]
    },
    {
     "name": "stdout",
     "output_type": "stream",
     "text": [
      "Developer: 1697, [\"Traveller's Tales\" nan 'Ryu ga Gotoku Studios' ...\n",
      " 'EA Sports, EA Vancouver' 'EA Canada, EA Vancouver'\n",
      " 'The Digital Lounge, Dino Dini']\n"
     ]
    },
    {
     "data": {
      "image/png": "[encoded data removed]",
      "text/plain": [
       "<Figure size 1440x576 with 1 Axes>"
      ]
     },
     "metadata": {},
     "output_type": "display_data"
    }
   ],
   "source": [
    "countplot(whole, 'Developer')"
   ]
  },
  {
   "cell_type": "code",
   "execution_count": 21,
   "metadata": {},
   "outputs": [
    {
     "name": "stderr",
     "output_type": "stream",
     "text": [
      "/home/jupyter/workspace/atmacup8/.venv/lib/python3.8/site-packages/ipykernel/ipkernel.py:287: DeprecationWarning: `should_run_async` will not call `transform_cell` automatically in the future. Please pass the result to `transformed_cell` argument and any exception that happen during thetransform in `preprocessing_exc_tuple` in IPython 7.17 and above.\n",
      "  and should_run_async(code)\n"
     ]
    },
    {
     "name": "stdout",
     "output_type": "stream",
     "text": [
      "Rating: 9, ['E10+' nan 'M' 'E' 'T' 'K-A' 'AO' 'EC' 'RP']\n"
     ]
    },
    {
     "data": {
      "image/png": "[encoded data removed]",
      "text/plain": [
       "<Figure size 1440x576 with 1 Axes>"
      ]
     },
     "metadata": {},
     "output_type": "display_data"
    }
   ],
   "source": [
    "countplot(whole, 'Rating')"
   ]
  },
  {
   "cell_type": "code",
   "execution_count": null,
   "metadata": {},
   "outputs": [],
   "source": [
    "# 一定期間のデータを Publisher で分割したっぽい"
   ]
  },
  {
   "cell_type": "code",
   "execution_count": null,
   "metadata": {},
   "outputs": [],
   "source": [
    "# publisher"
   ]
  },
  {
   "cell_type": "code",
   "execution_count": null,
   "metadata": {},
   "outputs": [],
   "source": [
    "publisher_count = whole.loc[:, 'Publisher'].value_counts()\n",
    "publisher_count.shape"
   ]
  },
  {
   "cell_type": "code",
   "execution_count": null,
   "metadata": {},
   "outputs": [],
   "source": [
    "for n in range(10):\n",
    "    print(f'{n}:', publisher_count[publisher_count == n].shape[0], 'cumsum:', publisher_count[publisher_count <= n].shape[0])"
   ]
  },
  {
   "cell_type": "markdown",
   "metadata": {},
   "source": [
    "# Name をみる"
   ]
  },
  {
   "cell_type": "code",
   "execution_count": null,
   "metadata": {},
   "outputs": [],
   "source": [
    "whole.loc[:, ['Name']].value_counts()"
   ]
  },
  {
   "cell_type": "code",
   "execution_count": null,
   "metadata": {},
   "outputs": [],
   "source": [
    "whole[whole['Name'] == 'FIFA 14']"
   ]
  },
  {
   "cell_type": "markdown",
   "metadata": {},
   "source": [
    "Name がかぶってるやつは複数 Platform で出てるやつ"
   ]
  },
  {
   "cell_type": "markdown",
   "metadata": {},
   "source": [
    "# Score, Count をみる"
   ]
  },
  {
   "cell_type": "code",
   "execution_count": null,
   "metadata": {},
   "outputs": [],
   "source": [
    "train = df_train.copy()\n",
    "test = df_test.copy()\n",
    "\n",
    "train.loc[:, 'is_test'] = False\n",
    "test.loc[:, 'is_test'] = True\n",
    "whole = pd.concat([train, test])"
   ]
  },
  {
   "cell_type": "code",
   "execution_count": null,
   "metadata": {},
   "outputs": [],
   "source": [
    "train.loc[:, 'User_Count']"
   ]
  },
  {
   "cell_type": "code",
   "execution_count": null,
   "metadata": {},
   "outputs": [],
   "source": [
    "train.loc[:, 'User_Score'] / 10.0"
   ]
  },
  {
   "cell_type": "code",
   "execution_count": null,
   "metadata": {},
   "outputs": [],
   "source": [
    "# nan の割合\n",
    "print('User_Score train:', train[train['User_Score'].isna()].shape[0], train[train['User_Score'].isna()].shape[0] / train.shape[0])\n",
    "print('User_Score test:', test[test['User_Score'].isna()].shape[0], test[test['User_Score'].isna()].shape[0] / test.shape[0])\n",
    "print('Critic_Score train:', train[train['Critic_Score'].isna()].shape[0], train[train['Critic_Score'].isna()].shape[0] / train.shape[0])\n",
    "print('Critic_Score test:', test[test['Critic_Score'].isna()].shape[0], test[test['Critic_Score'].isna()].shape[0] / test.shape[0])"
   ]
  },
  {
   "cell_type": "code",
   "execution_count": null,
   "metadata": {},
   "outputs": [],
   "source": [
    "# 数字でも NaN でもないやつある? -> ある。tbd が 1132 個\n",
    "train[~train['User_Score'].isna() & train['User_Score'].str.isalpha()]['User_Score'].value_counts()"
   ]
  },
  {
   "cell_type": "code",
   "execution_count": null,
   "metadata": {},
   "outputs": [],
   "source": [
    "# train[~train['Critic_Score'].isna() & train['Critic_Score'].str.isalpha()]['Critic_Score'].value_counts()\n",
    "# Critic_Score にはない"
   ]
  },
  {
   "cell_type": "code",
   "execution_count": null,
   "metadata": {},
   "outputs": [],
   "source": [
    "# tbd をみる。User_Count は nan になる\n",
    "train[~train['User_Score'].isna() & train['User_Score'].str.isalpha()].head()"
   ]
  },
  {
   "cell_type": "code",
   "execution_count": null,
   "metadata": {},
   "outputs": [],
   "source": [
    "# tbd と nan 何が違う?\n",
    "train[train['User_Score'].isna()]"
   ]
  },
  {
   "cell_type": "code",
   "execution_count": null,
   "metadata": {},
   "outputs": [],
   "source": [
    "train.loc[train['User_Score'] == 'tbd', 'User_Score'] = np.nan"
   ]
  },
  {
   "cell_type": "code",
   "execution_count": null,
   "metadata": {},
   "outputs": [],
   "source": [
    "train['User_Score'].astype(np.float32)"
   ]
  },
  {
   "cell_type": "code",
   "execution_count": null,
   "metadata": {},
   "outputs": [],
   "source": [
    "train['User_Score'].astype(np.float32) / 10.0"
   ]
  },
  {
   "cell_type": "code",
   "execution_count": null,
   "metadata": {},
   "outputs": [],
   "source": [
    "train['User_Score'] = train.loc[:, 'User_Score'].fillna(-1)\n",
    "train['Critic_Score'] = train.loc[:, 'Critic_Score'].fillna(-1)"
   ]
  },
  {
   "cell_type": "code",
   "execution_count": null,
   "metadata": {},
   "outputs": [],
   "source": [
    "print(train['User_Score'].astype(np.float32).describe())\n",
    "sns.distplot(train['User_Score'])"
   ]
  },
  {
   "cell_type": "code",
   "execution_count": null,
   "metadata": {},
   "outputs": [],
   "source": [
    "print(train['Critic_Score'].describe())\n",
    "sns.distplot(train['Critic_Score'])"
   ]
  },
  {
   "cell_type": "code",
   "execution_count": null,
   "metadata": {},
   "outputs": [],
   "source": [
    "print(train['User_Count'].describe())\n",
    "sns.distplot(train['User_Count'])"
   ]
  },
  {
   "cell_type": "code",
   "execution_count": null,
   "metadata": {},
   "outputs": [],
   "source": [
    "print(train['Critic_Count'].describe())\n",
    "sns.distplot(train['Critic_Count'])"
   ]
  },
  {
   "cell_type": "code",
   "execution_count": null,
   "metadata": {},
   "outputs": [],
   "source": [
    "# Sales"
   ]
  },
  {
   "cell_type": "code",
   "execution_count": null,
   "metadata": {},
   "outputs": [],
   "source": [
    "df_train.loc[:, 'Global_Sales'].describe()"
   ]
  },
  {
   "cell_type": "code",
   "execution_count": null,
   "metadata": {},
   "outputs": [],
   "source": []
  }
 ],
 "metadata": {
  "kernelspec": {
   "display_name": "Python 3",
   "language": "python",
   "name": "python3"
  },
  "language_info": {
   "codemirror_mode": {
    "name": "ipython",
    "version": 3
   },
   "file_extension": ".py",
   "mimetype": "text/x-python",
   "name": "python",
   "nbconvert_exporter": "python",
   "pygments_lexer": "ipython3",
   "version": "3.8.6"
  }
 },
 "nbformat": 4,
 "nbformat_minor": 4
}
