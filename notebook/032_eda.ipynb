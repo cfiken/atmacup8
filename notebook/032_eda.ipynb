{
 "cells": [
  {
   "cell_type": "code",
   "execution_count": 58,
   "metadata": {},
   "outputs": [],
   "source": [
    "import os\n",
    "import warnings\n",
    "warnings.filterwarnings('ignore')\n",
    "from typing import Any, Dict, List, Tuple\n",
    "from pathlib import Path\n",
    "import yaml\n",
    "\n",
    "import pandas as pd\n",
    "import matplotlib.pyplot as plt\n",
    "import seaborn as sns\n",
    "import numpy as np\n",
    "from pandas_profiling import ProfileReport # profile report を作る用\n",
    "from matplotlib_venn import venn2 # venn図を作成する用\n",
    "from tqdm import tqdm\n",
    "from contextlib import contextmanager\n",
    "from time import time\n",
    "\n",
    "from sklearn.model_selection import StratifiedKFold\n",
    "from sklearn.preprocessing import LabelEncoder\n",
    "from sklearn.metrics import mean_squared_log_error, mean_squared_error\n",
    "import lightgbm as lgb\n",
    "\n",
    "from mykaggle.metric.mse import rmsle\n",
    "from mykaggle.util.ml_logger import MLLogger\n",
    "from mykaggle.lib.lgbm_util import compute_importances, save_importances\n",
    "from mykaggle.lib.pandas_util import change_column_name\n",
    "from mykaggle.util.routine import fix_seed\n",
    "\n",
    "sns.set_style('darkgrid')"
   ]
  },
  {
   "cell_type": "code",
   "execution_count": 4,
   "metadata": {},
   "outputs": [],
   "source": [
    "settings = yaml.safe_load('''\n",
    "name: '032_eda'\n",
    "competition: atmacup8\n",
    "seed: 1019\n",
    "training:\n",
    "    num_folds: 5\n",
    "    num_rounds: 1000\n",
    "    early_stopping_rounds: 100\n",
    "    verbose_eval: 20\n",
    "lgbm_params:\n",
    "    objective: binary\n",
    "    learning_rate: 0.05\n",
    "    max_depth: -1\n",
    "    num_leaves: 31\n",
    "    colsample_bytree: .7\n",
    "    metric: \"None\"\n",
    "''')"
   ]
  },
  {
   "cell_type": "code",
   "execution_count": 5,
   "metadata": {},
   "outputs": [],
   "source": [
    "fix_seed(settings['seed'])"
   ]
  },
  {
   "cell_type": "code",
   "execution_count": 6,
   "metadata": {},
   "outputs": [],
   "source": [
    "datadir = Path('../data/')\n",
    "ckptdir = Path('../ckpt/') / settings['name']\n",
    "if not ckptdir.exists():\n",
    "    ckptdir.mkdir()"
   ]
  },
  {
   "cell_type": "code",
   "execution_count": 7,
   "metadata": {},
   "outputs": [
    {
     "data": {
      "text/plain": [
       "((8359, 17), (8360, 12))"
      ]
     },
     "execution_count": 7,
     "metadata": {},
     "output_type": "execute_result"
    }
   ],
   "source": [
    "df_train = pd.read_csv(datadir / 'id_train.csv')\n",
    "df_test = pd.read_csv(datadir / 'id_test.csv')\n",
    "df_submission = pd.read_csv(datadir / 'atmaCup8_sample-submission.csv')\n",
    "df_train.shape, df_test.shape"
   ]
  },
  {
   "cell_type": "code",
   "execution_count": 8,
   "metadata": {},
   "outputs": [
    {
     "data": {
      "text/html": [
       "<div>\n",
       "<style scoped>\n",
       "    .dataframe tbody tr th:only-of-type {\n",
       "        vertical-align: middle;\n",
       "    }\n",
       "\n",
       "    .dataframe tbody tr th {\n",
       "        vertical-align: top;\n",
       "    }\n",
       "\n",
       "    .dataframe thead th {\n",
       "        text-align: right;\n",
       "    }\n",
       "</style>\n",
       "<table border=\"1\" class=\"dataframe\">\n",
       "  <thead>\n",
       "    <tr style=\"text-align: right;\">\n",
       "      <th></th>\n",
       "      <th>0</th>\n",
       "      <th>1</th>\n",
       "      <th>2</th>\n",
       "      <th>3</th>\n",
       "      <th>4</th>\n",
       "    </tr>\n",
       "  </thead>\n",
       "  <tbody>\n",
       "    <tr>\n",
       "      <th>Name</th>\n",
       "      <td>LEGO Batman: The Videogame</td>\n",
       "      <td>LEGO Indiana Jones: The Original Adventures</td>\n",
       "      <td>LEGO Batman: The Videogame</td>\n",
       "      <td>Combat</td>\n",
       "      <td>LEGO Harry Potter: Years 5-7</td>\n",
       "    </tr>\n",
       "    <tr>\n",
       "      <th>Platform</th>\n",
       "      <td>Wii</td>\n",
       "      <td>Wii</td>\n",
       "      <td>PSP</td>\n",
       "      <td>2600</td>\n",
       "      <td>Wii</td>\n",
       "    </tr>\n",
       "    <tr>\n",
       "      <th>Year_of_Release</th>\n",
       "      <td>NaN</td>\n",
       "      <td>NaN</td>\n",
       "      <td>NaN</td>\n",
       "      <td>NaN</td>\n",
       "      <td>NaN</td>\n",
       "    </tr>\n",
       "    <tr>\n",
       "      <th>Genre</th>\n",
       "      <td>Action</td>\n",
       "      <td>Action</td>\n",
       "      <td>Action</td>\n",
       "      <td>Action</td>\n",
       "      <td>Action</td>\n",
       "    </tr>\n",
       "    <tr>\n",
       "      <th>Publisher</th>\n",
       "      <td>Warner Bros. Interactive Entertainment</td>\n",
       "      <td>LucasArts</td>\n",
       "      <td>Warner Bros. Interactive Entertainment</td>\n",
       "      <td>Atari</td>\n",
       "      <td>Warner Bros. Interactive Entertainment</td>\n",
       "    </tr>\n",
       "    <tr>\n",
       "      <th>NA_Sales</th>\n",
       "      <td>180</td>\n",
       "      <td>151</td>\n",
       "      <td>56</td>\n",
       "      <td>117</td>\n",
       "      <td>69</td>\n",
       "    </tr>\n",
       "    <tr>\n",
       "      <th>EU_Sales</th>\n",
       "      <td>97</td>\n",
       "      <td>61</td>\n",
       "      <td>44</td>\n",
       "      <td>7</td>\n",
       "      <td>42</td>\n",
       "    </tr>\n",
       "    <tr>\n",
       "      <th>JP_Sales</th>\n",
       "      <td>0</td>\n",
       "      <td>0</td>\n",
       "      <td>0</td>\n",
       "      <td>0</td>\n",
       "      <td>0</td>\n",
       "    </tr>\n",
       "    <tr>\n",
       "      <th>Other_Sales</th>\n",
       "      <td>28</td>\n",
       "      <td>21</td>\n",
       "      <td>27</td>\n",
       "      <td>1</td>\n",
       "      <td>12</td>\n",
       "    </tr>\n",
       "    <tr>\n",
       "      <th>Global_Sales</th>\n",
       "      <td>306</td>\n",
       "      <td>234</td>\n",
       "      <td>128</td>\n",
       "      <td>125</td>\n",
       "      <td>124</td>\n",
       "    </tr>\n",
       "    <tr>\n",
       "      <th>Critic_Score</th>\n",
       "      <td>74</td>\n",
       "      <td>78</td>\n",
       "      <td>73</td>\n",
       "      <td>NaN</td>\n",
       "      <td>76</td>\n",
       "    </tr>\n",
       "    <tr>\n",
       "      <th>Critic_Count</th>\n",
       "      <td>17</td>\n",
       "      <td>22</td>\n",
       "      <td>5</td>\n",
       "      <td>NaN</td>\n",
       "      <td>8</td>\n",
       "    </tr>\n",
       "    <tr>\n",
       "      <th>User_Score</th>\n",
       "      <td>7.9</td>\n",
       "      <td>6.6</td>\n",
       "      <td>7.4</td>\n",
       "      <td>NaN</td>\n",
       "      <td>7.8</td>\n",
       "    </tr>\n",
       "    <tr>\n",
       "      <th>User_Count</th>\n",
       "      <td>22</td>\n",
       "      <td>28</td>\n",
       "      <td>10</td>\n",
       "      <td>NaN</td>\n",
       "      <td>13</td>\n",
       "    </tr>\n",
       "    <tr>\n",
       "      <th>Developer</th>\n",
       "      <td>Traveller's Tales</td>\n",
       "      <td>Traveller's Tales</td>\n",
       "      <td>Traveller's Tales</td>\n",
       "      <td>NaN</td>\n",
       "      <td>Traveller's Tales</td>\n",
       "    </tr>\n",
       "    <tr>\n",
       "      <th>Rating</th>\n",
       "      <td>E10+</td>\n",
       "      <td>E10+</td>\n",
       "      <td>E10+</td>\n",
       "      <td>NaN</td>\n",
       "      <td>E10+</td>\n",
       "    </tr>\n",
       "    <tr>\n",
       "      <th>id</th>\n",
       "      <td>0</td>\n",
       "      <td>1</td>\n",
       "      <td>2</td>\n",
       "      <td>3</td>\n",
       "      <td>4</td>\n",
       "    </tr>\n",
       "  </tbody>\n",
       "</table>\n",
       "</div>"
      ],
      "text/plain": [
       "                                                      0  \\\n",
       "Name                         LEGO Batman: The Videogame   \n",
       "Platform                                            Wii   \n",
       "Year_of_Release                                     NaN   \n",
       "Genre                                            Action   \n",
       "Publisher        Warner Bros. Interactive Entertainment   \n",
       "NA_Sales                                            180   \n",
       "EU_Sales                                             97   \n",
       "JP_Sales                                              0   \n",
       "Other_Sales                                          28   \n",
       "Global_Sales                                        306   \n",
       "Critic_Score                                         74   \n",
       "Critic_Count                                         17   \n",
       "User_Score                                          7.9   \n",
       "User_Count                                           22   \n",
       "Developer                             Traveller's Tales   \n",
       "Rating                                             E10+   \n",
       "id                                                    0   \n",
       "\n",
       "                                                           1  \\\n",
       "Name             LEGO Indiana Jones: The Original Adventures   \n",
       "Platform                                                 Wii   \n",
       "Year_of_Release                                          NaN   \n",
       "Genre                                                 Action   \n",
       "Publisher                                          LucasArts   \n",
       "NA_Sales                                                 151   \n",
       "EU_Sales                                                  61   \n",
       "JP_Sales                                                   0   \n",
       "Other_Sales                                               21   \n",
       "Global_Sales                                             234   \n",
       "Critic_Score                                              78   \n",
       "Critic_Count                                              22   \n",
       "User_Score                                               6.6   \n",
       "User_Count                                                28   \n",
       "Developer                                  Traveller's Tales   \n",
       "Rating                                                  E10+   \n",
       "id                                                         1   \n",
       "\n",
       "                                                      2       3  \\\n",
       "Name                         LEGO Batman: The Videogame  Combat   \n",
       "Platform                                            PSP    2600   \n",
       "Year_of_Release                                     NaN     NaN   \n",
       "Genre                                            Action  Action   \n",
       "Publisher        Warner Bros. Interactive Entertainment   Atari   \n",
       "NA_Sales                                             56     117   \n",
       "EU_Sales                                             44       7   \n",
       "JP_Sales                                              0       0   \n",
       "Other_Sales                                          27       1   \n",
       "Global_Sales                                        128     125   \n",
       "Critic_Score                                         73     NaN   \n",
       "Critic_Count                                          5     NaN   \n",
       "User_Score                                          7.4     NaN   \n",
       "User_Count                                           10     NaN   \n",
       "Developer                             Traveller's Tales     NaN   \n",
       "Rating                                             E10+     NaN   \n",
       "id                                                    2       3   \n",
       "\n",
       "                                                      4  \n",
       "Name                       LEGO Harry Potter: Years 5-7  \n",
       "Platform                                            Wii  \n",
       "Year_of_Release                                     NaN  \n",
       "Genre                                            Action  \n",
       "Publisher        Warner Bros. Interactive Entertainment  \n",
       "NA_Sales                                             69  \n",
       "EU_Sales                                             42  \n",
       "JP_Sales                                              0  \n",
       "Other_Sales                                          12  \n",
       "Global_Sales                                        124  \n",
       "Critic_Score                                         76  \n",
       "Critic_Count                                          8  \n",
       "User_Score                                          7.8  \n",
       "User_Count                                           13  \n",
       "Developer                             Traveller's Tales  \n",
       "Rating                                             E10+  \n",
       "id                                                    4  "
      ]
     },
     "execution_count": 8,
     "metadata": {},
     "output_type": "execute_result"
    }
   ],
   "source": [
    "df_train.head().T"
   ]
  },
  {
   "cell_type": "code",
   "execution_count": 9,
   "metadata": {},
   "outputs": [
    {
     "data": {
      "text/html": [
       "<div>\n",
       "<style scoped>\n",
       "    .dataframe tbody tr th:only-of-type {\n",
       "        vertical-align: middle;\n",
       "    }\n",
       "\n",
       "    .dataframe tbody tr th {\n",
       "        vertical-align: top;\n",
       "    }\n",
       "\n",
       "    .dataframe thead th {\n",
       "        text-align: right;\n",
       "    }\n",
       "</style>\n",
       "<table border=\"1\" class=\"dataframe\">\n",
       "  <thead>\n",
       "    <tr style=\"text-align: right;\">\n",
       "      <th></th>\n",
       "      <th>0</th>\n",
       "      <th>1</th>\n",
       "      <th>2</th>\n",
       "      <th>3</th>\n",
       "      <th>4</th>\n",
       "    </tr>\n",
       "  </thead>\n",
       "  <tbody>\n",
       "    <tr>\n",
       "      <th>Name</th>\n",
       "      <td>Hitman 2: Silent Assassin</td>\n",
       "      <td>Legacy of Kain: Soul Reaver</td>\n",
       "      <td>Metal Gear Solid 2: Substance</td>\n",
       "      <td>Silent Hill: Homecoming</td>\n",
       "      <td>Silent Hill: Homecoming</td>\n",
       "    </tr>\n",
       "    <tr>\n",
       "      <th>Platform</th>\n",
       "      <td>XB</td>\n",
       "      <td>PS</td>\n",
       "      <td>XB</td>\n",
       "      <td>X360</td>\n",
       "      <td>PS3</td>\n",
       "    </tr>\n",
       "    <tr>\n",
       "      <th>Year_of_Release</th>\n",
       "      <td>NaN</td>\n",
       "      <td>NaN</td>\n",
       "      <td>NaN</td>\n",
       "      <td>NaN</td>\n",
       "      <td>NaN</td>\n",
       "    </tr>\n",
       "    <tr>\n",
       "      <th>Genre</th>\n",
       "      <td>Action</td>\n",
       "      <td>Action</td>\n",
       "      <td>Action</td>\n",
       "      <td>Action</td>\n",
       "      <td>Action</td>\n",
       "    </tr>\n",
       "    <tr>\n",
       "      <th>Publisher</th>\n",
       "      <td>Eidos Interactive</td>\n",
       "      <td>Eidos Interactive</td>\n",
       "      <td>Konami Digital Entertainment</td>\n",
       "      <td>Konami Digital Entertainment</td>\n",
       "      <td>Konami Digital Entertainment</td>\n",
       "    </tr>\n",
       "    <tr>\n",
       "      <th>Critic_Score</th>\n",
       "      <td>84</td>\n",
       "      <td>91</td>\n",
       "      <td>87</td>\n",
       "      <td>70</td>\n",
       "      <td>71</td>\n",
       "    </tr>\n",
       "    <tr>\n",
       "      <th>Critic_Count</th>\n",
       "      <td>23</td>\n",
       "      <td>17</td>\n",
       "      <td>28</td>\n",
       "      <td>54</td>\n",
       "      <td>41</td>\n",
       "    </tr>\n",
       "    <tr>\n",
       "      <th>User_Score</th>\n",
       "      <td>8</td>\n",
       "      <td>9</td>\n",
       "      <td>8.5</td>\n",
       "      <td>6.9</td>\n",
       "      <td>6.9</td>\n",
       "    </tr>\n",
       "    <tr>\n",
       "      <th>User_Count</th>\n",
       "      <td>19</td>\n",
       "      <td>132</td>\n",
       "      <td>39</td>\n",
       "      <td>180</td>\n",
       "      <td>143</td>\n",
       "    </tr>\n",
       "    <tr>\n",
       "      <th>Developer</th>\n",
       "      <td>Io Interactive</td>\n",
       "      <td>Crystal Dynamics</td>\n",
       "      <td>KCEJ</td>\n",
       "      <td>Double Helix Games</td>\n",
       "      <td>Double Helix Games</td>\n",
       "    </tr>\n",
       "    <tr>\n",
       "      <th>Rating</th>\n",
       "      <td>M</td>\n",
       "      <td>T</td>\n",
       "      <td>M</td>\n",
       "      <td>M</td>\n",
       "      <td>M</td>\n",
       "    </tr>\n",
       "    <tr>\n",
       "      <th>id</th>\n",
       "      <td>8359</td>\n",
       "      <td>8360</td>\n",
       "      <td>8361</td>\n",
       "      <td>8362</td>\n",
       "      <td>8363</td>\n",
       "    </tr>\n",
       "  </tbody>\n",
       "</table>\n",
       "</div>"
      ],
      "text/plain": [
       "                                         0                            1  \\\n",
       "Name             Hitman 2: Silent Assassin  Legacy of Kain: Soul Reaver   \n",
       "Platform                                XB                           PS   \n",
       "Year_of_Release                        NaN                          NaN   \n",
       "Genre                               Action                       Action   \n",
       "Publisher                Eidos Interactive            Eidos Interactive   \n",
       "Critic_Score                            84                           91   \n",
       "Critic_Count                            23                           17   \n",
       "User_Score                               8                            9   \n",
       "User_Count                              19                          132   \n",
       "Developer                   Io Interactive             Crystal Dynamics   \n",
       "Rating                                   M                            T   \n",
       "id                                    8359                         8360   \n",
       "\n",
       "                                             2                             3  \\\n",
       "Name             Metal Gear Solid 2: Substance       Silent Hill: Homecoming   \n",
       "Platform                                    XB                          X360   \n",
       "Year_of_Release                            NaN                           NaN   \n",
       "Genre                                   Action                        Action   \n",
       "Publisher         Konami Digital Entertainment  Konami Digital Entertainment   \n",
       "Critic_Score                                87                            70   \n",
       "Critic_Count                                28                            54   \n",
       "User_Score                                 8.5                           6.9   \n",
       "User_Count                                  39                           180   \n",
       "Developer                                 KCEJ            Double Helix Games   \n",
       "Rating                                       M                             M   \n",
       "id                                        8361                          8362   \n",
       "\n",
       "                                            4  \n",
       "Name                  Silent Hill: Homecoming  \n",
       "Platform                                  PS3  \n",
       "Year_of_Release                           NaN  \n",
       "Genre                                  Action  \n",
       "Publisher        Konami Digital Entertainment  \n",
       "Critic_Score                               71  \n",
       "Critic_Count                               41  \n",
       "User_Score                                6.9  \n",
       "User_Count                                143  \n",
       "Developer                  Double Helix Games  \n",
       "Rating                                      M  \n",
       "id                                       8363  "
      ]
     },
     "execution_count": 9,
     "metadata": {},
     "output_type": "execute_result"
    }
   ],
   "source": [
    "df_test.head().T"
   ]
  },
  {
   "cell_type": "code",
   "execution_count": 10,
   "metadata": {},
   "outputs": [
    {
     "data": {
      "text/html": [
       "<div>\n",
       "<style scoped>\n",
       "    .dataframe tbody tr th:only-of-type {\n",
       "        vertical-align: middle;\n",
       "    }\n",
       "\n",
       "    .dataframe tbody tr th {\n",
       "        vertical-align: top;\n",
       "    }\n",
       "\n",
       "    .dataframe thead th {\n",
       "        text-align: right;\n",
       "    }\n",
       "</style>\n",
       "<table border=\"1\" class=\"dataframe\">\n",
       "  <thead>\n",
       "    <tr style=\"text-align: right;\">\n",
       "      <th></th>\n",
       "      <th>Global_Sales</th>\n",
       "    </tr>\n",
       "  </thead>\n",
       "  <tbody>\n",
       "    <tr>\n",
       "      <th>0</th>\n",
       "      <td>63.371815</td>\n",
       "    </tr>\n",
       "    <tr>\n",
       "      <th>1</th>\n",
       "      <td>63.371815</td>\n",
       "    </tr>\n",
       "    <tr>\n",
       "      <th>2</th>\n",
       "      <td>63.371815</td>\n",
       "    </tr>\n",
       "    <tr>\n",
       "      <th>3</th>\n",
       "      <td>63.371815</td>\n",
       "    </tr>\n",
       "    <tr>\n",
       "      <th>4</th>\n",
       "      <td>63.371815</td>\n",
       "    </tr>\n",
       "  </tbody>\n",
       "</table>\n",
       "</div>"
      ],
      "text/plain": [
       "   Global_Sales\n",
       "0     63.371815\n",
       "1     63.371815\n",
       "2     63.371815\n",
       "3     63.371815\n",
       "4     63.371815"
      ]
     },
     "execution_count": 10,
     "metadata": {},
     "output_type": "execute_result"
    }
   ],
   "source": [
    "df_submission.head()"
   ]
  },
  {
   "cell_type": "code",
   "execution_count": 11,
   "metadata": {},
   "outputs": [],
   "source": [
    "train = df_train.copy()\n",
    "test = df_test.copy()\n",
    "train['is_test'] = False\n",
    "test['is_test'] = True\n",
    "whole = pd.concat([train, test])"
   ]
  },
  {
   "cell_type": "markdown",
   "metadata": {},
   "source": [
    "## categry を見る"
   ]
  },
  {
   "cell_type": "code",
   "execution_count": 12,
   "metadata": {},
   "outputs": [],
   "source": [
    "def countplot(df: pd.DataFrame, column: str) -> None:\n",
    "    print(f'{column}: {df.loc[:, column].unique()}')\n",
    "    plt.figure(figsize=(20, 8))\n",
    "    sns.countplot(data=df, x=column, hue='is_test')\n",
    "    plt.title(column)\n",
    "    plt.tight_layout()"
   ]
  },
  {
   "cell_type": "code",
   "execution_count": 13,
   "metadata": {},
   "outputs": [
    {
     "name": "stdout",
     "output_type": "stream",
     "text": [
      "Platform: ['Wii' 'PSP' '2600' 'X360' 'PS3' 'GBA' 'DS' '3DS' 'PC' 'GC' 'GB' 'PS2'\n",
      " 'N64' 'PSV' 'XB' 'NES' 'GEN' 'SNES' 'GG' 'NG' 'SCD' 'PS' 'SAT' '3DO'\n",
      " 'TG16' 'PCFX' 'DC' 'WS' 'WiiU' 'PS4' 'XOne']\n"
     ]
    },
    {
     "data": {
      "image/png": "[encoded data removed]",
      "text/plain": [
       "<Figure size 1440x576 with 1 Axes>"
      ]
     },
     "metadata": {},
     "output_type": "display_data"
    }
   ],
   "source": [
    "countplot(whole, 'Platform')"
   ]
  },
  {
   "cell_type": "code",
   "execution_count": 14,
   "metadata": {},
   "outputs": [
    {
     "name": "stdout",
     "output_type": "stream",
     "text": [
      "Year_of_Release: [  nan 1980. 1981. 1982. 1983. 1984. 1985. 1986. 1987. 1988. 1989. 1990.\n",
      " 1991. 1992. 1993. 1994. 1995. 1996. 1997. 1998. 1999. 2000. 2001. 2002.\n",
      " 2003. 2004. 2005. 2006. 2007. 2008. 2009. 2010. 2011. 2012. 2013. 2014.\n",
      " 2015. 2016. 2017. 2020.]\n"
     ]
    },
    {
     "data": {
      "image/png": "[encoded data removed]",
      "text/plain": [
       "<Figure size 1440x576 with 1 Axes>"
      ]
     },
     "metadata": {},
     "output_type": "display_data"
    }
   ],
   "source": [
    "countplot(whole, 'Year_of_Release')"
   ]
  },
  {
   "cell_type": "code",
   "execution_count": 15,
   "metadata": {},
   "outputs": [],
   "source": [
    "# Global_Sales で重み付け"
   ]
  },
  {
   "cell_type": "code",
   "execution_count": 68,
   "metadata": {},
   "outputs": [
    {
     "data": {
      "text/plain": [
       "<AxesSubplot:xlabel='Global_Sales', ylabel='Density'>"
      ]
     },
     "execution_count": 68,
     "metadata": {},
     "output_type": "execute_result"
    },
    {
     "data": {
      "image/png": "[encoded data removed]",
      "text/plain": [
       "<Figure size 432x288 with 1 Axes>"
      ]
     },
     "metadata": {},
     "output_type": "display_data"
    }
   ],
   "source": [
    "sns.distplot(train.loc[:, 'Global_Sales'])"
   ]
  },
  {
   "cell_type": "code",
   "execution_count": 81,
   "metadata": {},
   "outputs": [
    {
     "name": "stdout",
     "output_type": "stream",
     "text": [
      "69\n"
     ]
    },
    {
     "data": {
      "text/plain": [
       "<AxesSubplot:xlabel='Global_Sales', ylabel='Density'>"
      ]
     },
     "execution_count": 81,
     "metadata": {},
     "output_type": "execute_result"
    },
    {
     "data": {
      "image/png": "[encoded data removed]",
      "text/plain": [
       "<Figure size 432x288 with 1 Axes>"
      ]
     },
     "metadata": {},
     "output_type": "display_data"
    }
   ],
   "source": [
    "print(df_train[df_train.loc[:, 'Global_Sales'] > 800].shape[0])\n",
    "sns.distplot(df_train.loc[df_train.loc[:, 'Global_Sales'] > 800, 'Global_Sales'])"
   ]
  },
  {
   "cell_type": "code",
   "execution_count": 34,
   "metadata": {},
   "outputs": [],
   "source": [
    "# こんな感じで値段高いやつに weight 足すのはどうだろう"
   ]
  },
  {
   "cell_type": "code",
   "execution_count": 49,
   "metadata": {},
   "outputs": [
    {
     "data": {
      "text/plain": [
       "[<matplotlib.lines.Line2D at 0x7f26718aa100>]"
      ]
     },
     "execution_count": 49,
     "metadata": {},
     "output_type": "execute_result"
    },
    {
     "data": {
      "image/png": "[encoded data removed]",
      "text/plain": [
       "<Figure size 432x288 with 1 Axes>"
      ]
     },
     "metadata": {},
     "output_type": "display_data"
    }
   ],
   "source": [
    "# 軽め\n",
    "x = np.arange(0, 8000)\n",
    "def weight(x):\n",
    "    return np.log1p(x / 100.0) / 10.0 + 0.8\n",
    "plt.plot(x, weight(x))"
   ]
  },
  {
   "cell_type": "code",
   "execution_count": 47,
   "metadata": {},
   "outputs": [
    {
     "data": {
      "text/plain": [
       "[<matplotlib.lines.Line2D at 0x7f26718fa520>]"
      ]
     },
     "execution_count": 47,
     "metadata": {},
     "output_type": "execute_result"
    },
    {
     "data": {
      "image/png": "[encoded data removed]",
      "text/plain": [
       "<Figure size 432x288 with 1 Axes>"
      ]
     },
     "metadata": {},
     "output_type": "display_data"
    }
   ],
   "source": [
    "# 普通\n",
    "x = np.arange(0, 8000)\n",
    "def weight(x):\n",
    "    return np.log1p(x / 100.0) / 2.0 + 0.8\n",
    "plt.plot(x, weight(x))"
   ]
  },
  {
   "cell_type": "code",
   "execution_count": 78,
   "metadata": {},
   "outputs": [
    {
     "data": {
      "text/plain": [
       "[<matplotlib.lines.Line2D at 0x7f266effbdf0>]"
      ]
     },
     "execution_count": 78,
     "metadata": {},
     "output_type": "execute_result"
    },
    {
     "data": {
      "image/png": "[encoded data removed]",
      "text/plain": [
       "<Figure size 432x288 with 1 Axes>"
      ]
     },
     "metadata": {},
     "output_type": "display_data"
    }
   ],
   "source": [
    "# 重め\n",
    "x = np.arange(0, 8000)\n",
    "def weight(x):\n",
    "    return np.log1p(x / 100.0)\n",
    "plt.plot(x, weight(x))"
   ]
  },
  {
   "cell_type": "code",
   "execution_count": 85,
   "metadata": {},
   "outputs": [
    {
     "data": {
      "text/plain": [
       "[<matplotlib.lines.Line2D at 0x7f266ed9e400>]"
      ]
     },
     "execution_count": 85,
     "metadata": {},
     "output_type": "execute_result"
    },
    {
     "data": {
      "image/png": "[encoded data removed]",
      "text/plain": [
       "<Figure size 432x288 with 1 Axes>"
      ]
     },
     "metadata": {},
     "output_type": "display_data"
    }
   ],
   "source": [
    "x = np.arange(0, 8000)\n",
    "def weight(x):\n",
    "    return np.log1p(x / 10000.0) / 0.02 + 1.0\n",
    "plt.plot(x, weight(x))"
   ]
  },
  {
   "cell_type": "code",
   "execution_count": 66,
   "metadata": {},
   "outputs": [
    {
     "data": {
      "text/plain": [
       "0.8368468768792238"
      ]
     },
     "execution_count": 66,
     "metadata": {},
     "output_type": "execute_result"
    }
   ],
   "source": [
    "mean_squared_log_error([400], [1000])"
   ]
  },
  {
   "cell_type": "code",
   "execution_count": null,
   "metadata": {},
   "outputs": [],
   "source": []
  }
 ],
 "metadata": {
  "kernelspec": {
   "display_name": "Python 3",
   "language": "python",
   "name": "python3"
  },
  "language_info": {
   "codemirror_mode": {
    "name": "ipython",
    "version": 3
   },
   "file_extension": ".py",
   "mimetype": "text/x-python",
   "name": "python",
   "nbconvert_exporter": "python",
   "pygments_lexer": "ipython3",
   "version": "3.8.6"
  }
 },
 "nbformat": 4,
 "nbformat_minor": 4
}
