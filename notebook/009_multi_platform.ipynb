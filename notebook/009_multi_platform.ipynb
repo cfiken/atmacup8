{
 "cells": [
  {
   "cell_type": "code",
   "execution_count": 1,
   "metadata": {},
   "outputs": [],
   "source": [
    "import os\n",
    "import warnings\n",
    "warnings.filterwarnings('ignore')\n",
    "from typing import Any, Dict, List, Tuple\n",
    "from pathlib import Path\n",
    "import yaml\n",
    "import pickle\n",
    "import copy\n",
    "\n",
    "import pandas as pd\n",
    "import matplotlib.pyplot as plt\n",
    "import seaborn as sns\n",
    "import numpy as np\n",
    "from pandas_profiling import ProfileReport # profile report を作る用\n",
    "from matplotlib_venn import venn2 # venn図を作成する用\n",
    "from tqdm import tqdm\n",
    "from contextlib import contextmanager\n",
    "from time import time\n",
    "\n",
    "from sklearn.model_selection import StratifiedKFold\n",
    "from sklearn.metrics import mean_squared_log_error, mean_squared_error\n",
    "import lightgbm as lgb\n",
    "\n",
    "from mykaggle.metric.mse import rmse\n",
    "from mykaggle.util.ml_logger import MLLogger\n",
    "from mykaggle.lib.lgbm_util import compute_importances, save_importances\n",
    "from mykaggle.util.routine import fix_seed\n",
    "\n",
    "sns.set_style('darkgrid')"
   ]
  },
  {
   "cell_type": "code",
   "execution_count": 2,
   "metadata": {},
   "outputs": [
    {
     "name": "stderr",
     "output_type": "stream",
     "text": [
      "/home/jupyter/workspace/atmacup8/.venv/lib/python3.8/site-packages/ipykernel/ipkernel.py:287: DeprecationWarning: `should_run_async` will not call `transform_cell` automatically in the future. Please pass the result to `transformed_cell` argument and any exception that happen during thetransform in `preprocessing_exc_tuple` in IPython 7.17 and above.\n",
      "  and should_run_async(code)\n"
     ]
    }
   ],
   "source": [
    "settings = yaml.safe_load('''\n",
    "name: '009_multi_platform'\n",
    "competition: atmacup8\n",
    "seed: 1019\n",
    "training:\n",
    "    num_folds: 5\n",
    "    num_rounds: 1000\n",
    "    early_stopping_rounds: 100\n",
    "    verbose_eval: 20\n",
    "lgbm_params:\n",
    "    objective: regression\n",
    "    learning_rate: 0.05\n",
    "    max_depth: -1\n",
    "    num_leaves: 31\n",
    "    colsample_bytree: .7\n",
    "    metric: \"None\"\n",
    "''')"
   ]
  },
  {
   "cell_type": "code",
   "execution_count": 3,
   "metadata": {},
   "outputs": [],
   "source": [
    "fix_seed(settings['seed'])"
   ]
  },
  {
   "cell_type": "code",
   "execution_count": 4,
   "metadata": {},
   "outputs": [],
   "source": [
    "datadir = Path('../data/')\n",
    "ckptdir = Path('../ckpt/') / settings['name']\n",
    "if not ckptdir.exists():\n",
    "    ckptdir.mkdir()"
   ]
  },
  {
   "cell_type": "code",
   "execution_count": 5,
   "metadata": {},
   "outputs": [
    {
     "data": {
      "text/plain": [
       "((8359, 17), (8360, 12))"
      ]
     },
     "execution_count": 5,
     "metadata": {},
     "output_type": "execute_result"
    }
   ],
   "source": [
    "df_train = pd.read_csv(datadir / 'id_train.csv')\n",
    "df_test = pd.read_csv(datadir / 'id_test.csv')\n",
    "df_submission = pd.read_csv(datadir / 'atmaCup8_sample-submission.csv')\n",
    "df_train.shape, df_test.shape"
   ]
  },
  {
   "cell_type": "code",
   "execution_count": 6,
   "metadata": {},
   "outputs": [],
   "source": [
    "# target の用意\n",
    "target_columns = ['Global_Sales']\n",
    "train_target_columns = target_columns + ['NA_Sales', 'EU_Sales', 'JP_Sales', 'Other_Sales']\n",
    "\n",
    "for c in train_target_columns:\n",
    "    df_train.loc[:, 'mod_' + c] = df_train.loc[:, c].apply(lambda x: np.log1p(x))"
   ]
  },
  {
   "cell_type": "code",
   "execution_count": 7,
   "metadata": {},
   "outputs": [],
   "source": [
    "df_base_train = df_train.loc[:, ['id']]\n",
    "df_base_test = df_test.loc[:, ['id']]\n",
    "\n",
    "train_others = {\n",
    "    'main': df_train.copy(),\n",
    "    'another': df_test.copy()\n",
    "}\n",
    "test_others = {\n",
    "    'main': df_test.copy(),\n",
    "    'another': df_train.copy(),\n",
    "}"
   ]
  },
  {
   "cell_type": "code",
   "execution_count": 8,
   "metadata": {},
   "outputs": [],
   "source": [
    "from mykaggle.feature.le import LE\n",
    "from mykaggle.feature.score import Score\n",
    "from mykaggle.feature.score_tbd import ScoreTBD\n",
    "from mykaggle.feature.multi_platform import MultiPlatform"
   ]
  },
  {
   "cell_type": "code",
   "execution_count": 9,
   "metadata": {},
   "outputs": [],
   "source": [
    "le_train = LE(train=True)\n",
    "le_test = LE(train=False)\n",
    "score_train = Score(train=True)\n",
    "score_test = Score(train=False)\n",
    "score_tbd_train = ScoreTBD(train=True)\n",
    "score_tbd_test = ScoreTBD(train=False)\n",
    "mp_train = MultiPlatform(train=True)\n",
    "mp_test = MultiPlatform(train=False)"
   ]
  },
  {
   "cell_type": "code",
   "execution_count": 10,
   "metadata": {},
   "outputs": [
    {
     "data": {
      "text/plain": [
       "((8359, 11), (8360, 11))"
      ]
     },
     "execution_count": 10,
     "metadata": {},
     "output_type": "execute_result"
    }
   ],
   "source": [
    "df_f_train = df_base_train.copy()\n",
    "df_f_test = df_base_test.copy()\n",
    "\n",
    "df_f_train = le_train(df_f_train, others=train_others, use_cache=False, save_cache=True)\n",
    "df_f_test = le_test(df_f_test, others=test_others, use_cache=False, save_cache=True)\n",
    "df_f_train = score_train(df_f_train, others=train_others, use_cache=False, save_cache=True)\n",
    "df_f_test = score_test(df_f_test, others=test_others, use_cache=False, save_cache=True)\n",
    "df_f_train = score_tbd_train(df_f_train, others=train_others, use_cache=False, save_cache=True)\n",
    "df_f_test = score_tbd_test(df_f_test, others=test_others, use_cache=False, save_cache=True)\n",
    "df_f_train = mp_train(df_f_train, others=train_others, use_cache=False, save_cache=True)\n",
    "df_f_test = mp_test(df_f_test, others=test_others, use_cache=False, save_cache=True)\n",
    "\n",
    "df_f_train.shape, df_f_test.shape"
   ]
  },
  {
   "cell_type": "code",
   "execution_count": 11,
   "metadata": {},
   "outputs": [
    {
     "name": "stderr",
     "output_type": "stream",
     "text": [
      "/home/jupyter/workspace/atmacup8/.venv/lib/python3.8/site-packages/ipykernel/ipkernel.py:287: DeprecationWarning: `should_run_async` will not call `transform_cell` automatically in the future. Please pass the result to `transformed_cell` argument and any exception that happen during thetransform in `preprocessing_exc_tuple` in IPython 7.17 and above.\n",
      "  and should_run_async(code)\n"
     ]
    },
    {
     "data": {
      "text/plain": [
       "((8359, 10), (8360, 10))"
      ]
     },
     "execution_count": 11,
     "metadata": {},
     "output_type": "execute_result"
    }
   ],
   "source": [
    "# drop some columns\n",
    "df_f_train = df_f_train.drop(['le_Developer'], axis=1)\n",
    "df_f_test = df_f_test.drop(['le_Developer'], axis=1)\n",
    "df_f_train.shape, df_f_test.shape"
   ]
  },
  {
   "cell_type": "code",
   "execution_count": 12,
   "metadata": {},
   "outputs": [
    {
     "data": {
      "text/html": [
       "<div>\n",
       "<style scoped>\n",
       "    .dataframe tbody tr th:only-of-type {\n",
       "        vertical-align: middle;\n",
       "    }\n",
       "\n",
       "    .dataframe tbody tr th {\n",
       "        vertical-align: top;\n",
       "    }\n",
       "\n",
       "    .dataframe thead th {\n",
       "        text-align: right;\n",
       "    }\n",
       "</style>\n",
       "<table border=\"1\" class=\"dataframe\">\n",
       "  <thead>\n",
       "    <tr style=\"text-align: right;\">\n",
       "      <th></th>\n",
       "      <th>id</th>\n",
       "      <th>le_Platform</th>\n",
       "      <th>le_Genre</th>\n",
       "      <th>le_Rating</th>\n",
       "      <th>Critic_Score</th>\n",
       "      <th>User_Score</th>\n",
       "      <th>Critic_Count</th>\n",
       "      <th>User_Count</th>\n",
       "      <th>is_tbd</th>\n",
       "      <th>multi_pf_count</th>\n",
       "    </tr>\n",
       "  </thead>\n",
       "  <tbody>\n",
       "    <tr>\n",
       "      <th>0</th>\n",
       "      <td>0</td>\n",
       "      <td>26</td>\n",
       "      <td>0</td>\n",
       "      <td>2</td>\n",
       "      <td>0.74</td>\n",
       "      <td>0.79</td>\n",
       "      <td>17.0</td>\n",
       "      <td>22.0</td>\n",
       "      <td>False</td>\n",
       "      <td>7</td>\n",
       "    </tr>\n",
       "    <tr>\n",
       "      <th>1</th>\n",
       "      <td>1</td>\n",
       "      <td>26</td>\n",
       "      <td>0</td>\n",
       "      <td>2</td>\n",
       "      <td>0.78</td>\n",
       "      <td>0.66</td>\n",
       "      <td>22.0</td>\n",
       "      <td>28.0</td>\n",
       "      <td>False</td>\n",
       "      <td>7</td>\n",
       "    </tr>\n",
       "  </tbody>\n",
       "</table>\n",
       "</div>"
      ],
      "text/plain": [
       "   id  le_Platform  le_Genre  le_Rating  Critic_Score  User_Score  \\\n",
       "0   0           26         0          2          0.74        0.79   \n",
       "1   1           26         0          2          0.78        0.66   \n",
       "\n",
       "   Critic_Count  User_Count  is_tbd  multi_pf_count  \n",
       "0          17.0        22.0   False               7  \n",
       "1          22.0        28.0   False               7  "
      ]
     },
     "execution_count": 12,
     "metadata": {},
     "output_type": "execute_result"
    }
   ],
   "source": [
    "df_f_train.head(2)"
   ]
  },
  {
   "cell_type": "code",
   "execution_count": 13,
   "metadata": {},
   "outputs": [
    {
     "name": "stderr",
     "output_type": "stream",
     "text": [
      "/home/jupyter/workspace/atmacup8/.venv/lib/python3.8/site-packages/ipykernel/ipkernel.py:287: DeprecationWarning: `should_run_async` will not call `transform_cell` automatically in the future. Please pass the result to `transformed_cell` argument and any exception that happen during thetransform in `preprocessing_exc_tuple` in IPython 7.17 and above.\n",
      "  and should_run_async(code)\n"
     ]
    }
   ],
   "source": [
    "@contextmanager\n",
    "def timer(logger=None, format_str='{:.3f}[s]', prefix=None, suffix=None):\n",
    "    if prefix: format_str = str(prefix) + format_str\n",
    "    if suffix: format_str = format_str + str(suffix)\n",
    "    start = time()\n",
    "    yield\n",
    "    d = time() - start\n",
    "    out_str = format_str.format(d)\n",
    "    if logger:\n",
    "        logger.info(out_str)\n",
    "    else:\n",
    "        print(out_str)"
   ]
  },
  {
   "cell_type": "code",
   "execution_count": 14,
   "metadata": {},
   "outputs": [],
   "source": [
    "def get_oof_feature(\n",
    "    df_train: pd.DataFrame, df_valid: pd.DataFrame, y_train: np.ndarray,\n",
    "    df_train_original: pd.DataFrame, df_valid_original: pd.DataFrame\n",
    ") -> Tuple[pd.DataFrame, pd.DataFrame]:\n",
    "    df_train.loc[:, 'target'] = y_train.copy()\n",
    "    _train_others = copy.deepcopy(train_others)\n",
    "    _test_others = copy.deepcopy(test_others)\n",
    "    _train_others['main'] = df_train_original.copy()\n",
    "    _train_others['another'] = df_valid_original.copy()\n",
    "    _test_others['main'] = df_valid_original.copy()\n",
    "    _test_others['another'] = df_train_original.copy()\n",
    "#     df_train = f_date_te_train(df_train, others=_train_others, use_cache=False, save_cache=False)\n",
    "#     df_valid = f_date_te_test(df_valid, others=_test_others, use_cache=False, save_cache=False)\n",
    "    return df_train.drop(['id', 'target'], axis=1), df_valid.drop('id', axis=1)"
   ]
  },
  {
   "cell_type": "code",
   "execution_count": 15,
   "metadata": {},
   "outputs": [],
   "source": [
    "def train(\n",
    "    settings: Dict[str, Any],\n",
    "    logger: MLLogger,\n",
    "    df: pd.DataFrame,\n",
    "    df_original: pd.DataFrame,\n",
    "    y: np.ndarray,\n",
    "    ckptdir: Path\n",
    ") -> Tuple:\n",
    "    logger.log_params(settings['training'])\n",
    "    logger.log_params(settings['lgbm_params'])\n",
    "    X = df\n",
    "    lgbm_params = settings['lgbm_params']\n",
    "    models = []\n",
    "    oof_pred = np.zeros_like(y, dtype=np.float)\n",
    "    importances = pd.DataFrame()\n",
    "    splits = pickle.load(open(datadir / f'group_{settings[\"training\"][\"num_folds\"]}fold.pkl', 'rb'))\n",
    "\n",
    "    for i, (train_idx, valid_idx) in enumerate(splits): \n",
    "        x_train, y_train = X.iloc[train_idx], y[train_idx]\n",
    "        x_valid, y_valid = X.iloc[valid_idx], y[valid_idx]\n",
    "        x_train, x_valid = get_oof_feature(\n",
    "            x_train, x_valid, y_train,\n",
    "            df_original.iloc[train_idx], df_original.iloc[valid_idx]\n",
    "        )\n",
    "        train_data = lgb.Dataset(x_train.values, label=y_train.astype(np.float32))\n",
    "        valid_data = lgb.Dataset(x_valid.values, label=y_valid.astype(np.float32))\n",
    "\n",
    "        with timer(prefix='train fold={} '.format(i + 1)):\n",
    "            clf = lgb.train(\n",
    "                lgbm_params,\n",
    "                train_data, \n",
    "                num_boost_round=settings['training']['num_rounds'],\n",
    "                valid_names=['train', 'valid'],\n",
    "                valid_sets=[train_data, valid_data],  \n",
    "                early_stopping_rounds=settings['training']['early_stopping_rounds'],\n",
    "                feval=rmse,\n",
    "                verbose_eval=settings['training']['verbose_eval']\n",
    "            )\n",
    "        pred_i = clf.predict(x_valid.values)\n",
    "        oof_pred[valid_idx] = pred_i\n",
    "        models.append(clf)\n",
    "        importances = compute_importances(importances, x_train.columns, models[i], fold=i)\n",
    "        fold_score = mean_squared_error(y_valid, pred_i) ** 0.5\n",
    "        logger.log_metric(f'rmsle_fold_{i}', fold_score)\n",
    "        print(f'Fold {i} RMSLE: {fold_score:.4f}')\n",
    "        clf.save_model(str(ckptdir / f'model.txt'))\n",
    "        logger.log_artifact(str(ckptdir / f'model.txt'), artifact_path=f'{i}')\n",
    "\n",
    "    score = mean_squared_error(y, oof_pred) ** 0.5\n",
    "    logger.log_metric(f'RMSLE', score)\n",
    "    print('FINISHED; whole score: {:.4f}'.format(score))\n",
    "    save_importances(importances, ckptdir)\n",
    "    return oof_pred, models, score, importances"
   ]
  },
  {
   "cell_type": "code",
   "execution_count": 16,
   "metadata": {},
   "outputs": [],
   "source": [
    "def predict(\n",
    "    models: List[lgb.Booster],\n",
    "    df_test: pd.DataFrame,\n",
    "    df_train: pd.DataFrame,\n",
    "    df_test_original: pd.DataFrame\n",
    ") -> np.ndarray:\n",
    "    '''\n",
    "    fold 分のモデルと test の特徴 dataframe を受け取って、予測したものを返します。\n",
    "    :param models: kfold 分のモデル\n",
    "    :param test_df: test dataset の特徴\n",
    "    :return: 予測\n",
    "    '''\n",
    "    _, test = get_oof_feature(\n",
    "        df_train.copy(), df_test.copy(), df_train['Global_Sales'].values, df_train.copy(), df_test_original.copy()\n",
    "    )\n",
    "    preds = np.array([model.predict(test) for model in models])\n",
    "    preds = np.expm1(preds)\n",
    "    preds = np.mean(preds, axis=0)\n",
    "    return preds\n",
    "\n",
    "    \n",
    "def submit(preds: np.ndarray, ckptdir: Path) -> pd.DataFrame:\n",
    "    '''\n",
    "    test data の prediction を受け取って submission ファイルを作成します。\n",
    "    :param preds: test data の予測\n",
    "    :param ckptdir: 保存場所\n",
    "    :return: submission df\n",
    "    '''\n",
    "    sub_df = pd.DataFrame({ 'Global_Sales': preds })\n",
    "    sub_df.to_csv(ckptdir / f'{settings[\"name\"]}.csv', index=False)\n",
    "    return sub_df"
   ]
  },
  {
   "cell_type": "code",
   "execution_count": 17,
   "metadata": {},
   "outputs": [],
   "source": [
    "logger = MLLogger('cfiken', ckptdir)"
   ]
  },
  {
   "cell_type": "code",
   "execution_count": 18,
   "metadata": {},
   "outputs": [
    {
     "name": "stdout",
     "output_type": "stream",
     "text": [
      "[LightGBM] [Warning] Auto-choosing col-wise multi-threading, the overhead of testing was 0.016586 seconds.\n",
      "You can set `force_col_wise=true` to remove the overhead.\n",
      "[LightGBM] [Info] Total Bins 559\n",
      "[LightGBM] [Info] Number of data points in the train set: 6687, number of used features: 9\n",
      "[LightGBM] [Info] Start training from score 3.008886\n",
      "Training until validation scores don't improve for 100 rounds\n",
      "[20]\ttrain's rmsle: 1.1372\tvalid's rmsle: 1.07874\n",
      "[40]\ttrain's rmsle: 1.04546\tvalid's rmsle: 1.02739\n",
      "[60]\ttrain's rmsle: 1.00512\tvalid's rmsle: 1.01188\n",
      "[80]\ttrain's rmsle: 0.980707\tvalid's rmsle: 1.00664\n",
      "[100]\ttrain's rmsle: 0.96367\tvalid's rmsle: 1.00492\n",
      "[120]\ttrain's rmsle: 0.951727\tvalid's rmsle: 1.0049\n",
      "[140]\ttrain's rmsle: 0.941719\tvalid's rmsle: 1.005\n",
      "[160]\ttrain's rmsle: 0.932715\tvalid's rmsle: 1.00431\n",
      "[180]\ttrain's rmsle: 0.925137\tvalid's rmsle: 1.00621\n",
      "[200]\ttrain's rmsle: 0.917598\tvalid's rmsle: 1.00657\n",
      "[220]\ttrain's rmsle: 0.911065\tvalid's rmsle: 1.00736\n",
      "Early stopping, best iteration is:\n",
      "[126]\ttrain's rmsle: 0.948274\tvalid's rmsle: 1.00409\n",
      "train fold=1 1.607[s]\n",
      "Fold 0 RMSLE: 1.0041\n",
      "[LightGBM] [Warning] Auto-choosing row-wise multi-threading, the overhead of testing was 0.077064 seconds.\n",
      "You can set `force_row_wise=true` to remove the overhead.\n",
      "And if memory is not enough, you can set `force_col_wise=true`.\n",
      "[LightGBM] [Info] Total Bins 561\n",
      "[LightGBM] [Info] Number of data points in the train set: 6687, number of used features: 9\n",
      "[LightGBM] [Info] Start training from score 2.941452\n",
      "Training until validation scores don't improve for 100 rounds\n",
      "[20]\ttrain's rmsle: 1.06011\tvalid's rmsle: 1.46534\n",
      "[40]\ttrain's rmsle: 0.978451\tvalid's rmsle: 1.40279\n",
      "[60]\ttrain's rmsle: 0.943866\tvalid's rmsle: 1.37538\n",
      "[80]\ttrain's rmsle: 0.922245\tvalid's rmsle: 1.36174\n",
      "[100]\ttrain's rmsle: 0.906863\tvalid's rmsle: 1.35373\n",
      "[120]\ttrain's rmsle: 0.895398\tvalid's rmsle: 1.35116\n",
      "[140]\ttrain's rmsle: 0.885174\tvalid's rmsle: 1.34714\n",
      "[160]\ttrain's rmsle: 0.876532\tvalid's rmsle: 1.34423\n",
      "[180]\ttrain's rmsle: 0.868441\tvalid's rmsle: 1.34284\n",
      "[200]\ttrain's rmsle: 0.861532\tvalid's rmsle: 1.34116\n",
      "[220]\ttrain's rmsle: 0.854889\tvalid's rmsle: 1.33982\n",
      "[240]\ttrain's rmsle: 0.848183\tvalid's rmsle: 1.33766\n",
      "[260]\ttrain's rmsle: 0.842105\tvalid's rmsle: 1.33616\n",
      "[280]\ttrain's rmsle: 0.837097\tvalid's rmsle: 1.33589\n",
      "[300]\ttrain's rmsle: 0.831794\tvalid's rmsle: 1.33506\n",
      "[320]\ttrain's rmsle: 0.827252\tvalid's rmsle: 1.33567\n",
      "[340]\ttrain's rmsle: 0.822635\tvalid's rmsle: 1.33497\n",
      "[360]\ttrain's rmsle: 0.818522\tvalid's rmsle: 1.33606\n",
      "[380]\ttrain's rmsle: 0.814649\tvalid's rmsle: 1.33615\n",
      "[400]\ttrain's rmsle: 0.810982\tvalid's rmsle: 1.33706\n",
      "Early stopping, best iteration is:\n",
      "[307]\ttrain's rmsle: 0.830115\tvalid's rmsle: 1.33477\n",
      "train fold=2 3.191[s]\n",
      "Fold 1 RMSLE: 1.3348\n",
      "[LightGBM] [Warning] Auto-choosing col-wise multi-threading, the overhead of testing was 0.000889 seconds.\n",
      "You can set `force_col_wise=true` to remove the overhead.\n",
      "[LightGBM] [Info] Total Bins 562\n",
      "[LightGBM] [Info] Number of data points in the train set: 6687, number of used features: 9\n",
      "[LightGBM] [Info] Start training from score 3.100235\n",
      "Training until validation scores don't improve for 100 rounds\n",
      "[20]\ttrain's rmsle: 1.12184\tvalid's rmsle: 1.17285\n",
      "[40]\ttrain's rmsle: 1.03606\tvalid's rmsle: 1.09275\n",
      "[60]\ttrain's rmsle: 0.995859\tvalid's rmsle: 1.06701\n",
      "[80]\ttrain's rmsle: 0.973843\tvalid's rmsle: 1.05525\n",
      "[100]\ttrain's rmsle: 0.958113\tvalid's rmsle: 1.05037\n",
      "[120]\ttrain's rmsle: 0.945539\tvalid's rmsle: 1.04706\n",
      "[140]\ttrain's rmsle: 0.934952\tvalid's rmsle: 1.04615\n",
      "[160]\ttrain's rmsle: 0.926626\tvalid's rmsle: 1.0454\n",
      "[180]\ttrain's rmsle: 0.91835\tvalid's rmsle: 1.04416\n",
      "[200]\ttrain's rmsle: 0.911344\tvalid's rmsle: 1.04318\n",
      "[220]\ttrain's rmsle: 0.904352\tvalid's rmsle: 1.04346\n",
      "[240]\ttrain's rmsle: 0.897694\tvalid's rmsle: 1.04575\n",
      "[260]\ttrain's rmsle: 0.891913\tvalid's rmsle: 1.0461\n",
      "[280]\ttrain's rmsle: 0.886923\tvalid's rmsle: 1.0467\n",
      "[300]\ttrain's rmsle: 0.882059\tvalid's rmsle: 1.04679\n",
      "Early stopping, best iteration is:\n",
      "[210]\ttrain's rmsle: 0.90768\tvalid's rmsle: 1.04271\n",
      "train fold=3 1.838[s]\n",
      "Fold 2 RMSLE: 1.0427\n",
      "[LightGBM] [Warning] Auto-choosing col-wise multi-threading, the overhead of testing was 0.000867 seconds.\n",
      "You can set `force_col_wise=true` to remove the overhead.\n",
      "[LightGBM] [Info] Total Bins 561\n",
      "[LightGBM] [Info] Number of data points in the train set: 6687, number of used features: 9\n",
      "[LightGBM] [Info] Start training from score 3.116040\n",
      "Training until validation scores don't improve for 100 rounds\n",
      "[20]\ttrain's rmsle: 1.13564\tvalid's rmsle: 1.09654\n",
      "[40]\ttrain's rmsle: 1.04655\tvalid's rmsle: 1.04056\n",
      "[60]\ttrain's rmsle: 1.00621\tvalid's rmsle: 1.02375\n",
      "[80]\ttrain's rmsle: 0.982199\tvalid's rmsle: 1.01805\n",
      "[100]\ttrain's rmsle: 0.965108\tvalid's rmsle: 1.01609\n",
      "[120]\ttrain's rmsle: 0.95356\tvalid's rmsle: 1.01436\n",
      "[140]\ttrain's rmsle: 0.942964\tvalid's rmsle: 1.01518\n",
      "[160]\ttrain's rmsle: 0.935146\tvalid's rmsle: 1.01461\n",
      "[180]\ttrain's rmsle: 0.927121\tvalid's rmsle: 1.01485\n",
      "[200]\ttrain's rmsle: 0.920085\tvalid's rmsle: 1.01459\n",
      "[220]\ttrain's rmsle: 0.912974\tvalid's rmsle: 1.01573\n",
      "[240]\ttrain's rmsle: 0.907059\tvalid's rmsle: 1.01627\n",
      "[260]\ttrain's rmsle: 0.900846\tvalid's rmsle: 1.01761\n",
      "Early stopping, best iteration is:\n",
      "[165]\ttrain's rmsle: 0.933437\tvalid's rmsle: 1.01432\n",
      "train fold=4 1.504[s]\n",
      "Fold 3 RMSLE: 1.0143\n",
      "[LightGBM] [Warning] Auto-choosing col-wise multi-threading, the overhead of testing was 0.000810 seconds.\n",
      "You can set `force_col_wise=true` to remove the overhead.\n",
      "[LightGBM] [Info] Total Bins 560\n",
      "[LightGBM] [Info] Number of data points in the train set: 6688, number of used features: 9\n",
      "[LightGBM] [Info] Start training from score 3.021148\n",
      "Training until validation scores don't improve for 100 rounds\n",
      "[20]\ttrain's rmsle: 1.13536\tvalid's rmsle: 1.08358\n",
      "[40]\ttrain's rmsle: 1.04448\tvalid's rmsle: 1.0354\n",
      "[60]\ttrain's rmsle: 1.00452\tvalid's rmsle: 1.02302\n",
      "[80]\ttrain's rmsle: 0.980592\tvalid's rmsle: 1.01356\n",
      "[100]\ttrain's rmsle: 0.964699\tvalid's rmsle: 1.00992\n",
      "[120]\ttrain's rmsle: 0.953181\tvalid's rmsle: 1.00895\n",
      "[140]\ttrain's rmsle: 0.942834\tvalid's rmsle: 1.00774\n",
      "[160]\ttrain's rmsle: 0.934129\tvalid's rmsle: 1.00784\n",
      "[180]\ttrain's rmsle: 0.925309\tvalid's rmsle: 1.00993\n",
      "[200]\ttrain's rmsle: 0.918051\tvalid's rmsle: 1.0106\n",
      "[220]\ttrain's rmsle: 0.911532\tvalid's rmsle: 1.01102\n",
      "[240]\ttrain's rmsle: 0.905401\tvalid's rmsle: 1.01189\n",
      "Early stopping, best iteration is:\n",
      "[146]\ttrain's rmsle: 0.94024\tvalid's rmsle: 1.00731\n",
      "train fold=5 1.557[s]\n",
      "Fold 4 RMSLE: 1.0073\n",
      "FINISHED; whole score: 1.0882\n"
     ]
    },
    {
     "data": {
      "image/png": "[encoded data removed]",
      "text/plain": [
       "<Figure size 432x576 with 1 Axes>"
      ]
     },
     "metadata": {},
     "output_type": "display_data"
    }
   ],
   "source": [
    "with logger.start(experiment_name=settings['competition'], run_name=settings['name']):\n",
    "    oof, models, cv, importances = train(\n",
    "        settings,\n",
    "        logger,\n",
    "        df_f_train,\n",
    "        df_train,\n",
    "        df_train.loc[:, 'mod_Global_Sales'].values,\n",
    "        ckptdir\n",
    "    )\n",
    "    preds = predict(models, df_f_test, df_train, df_test)\n",
    "    sub_df = submit(preds, ckptdir)"
   ]
  },
  {
   "cell_type": "code",
   "execution_count": null,
   "metadata": {},
   "outputs": [],
   "source": []
  }
 ],
 "metadata": {
  "kernelspec": {
   "display_name": "Python 3",
   "language": "python",
   "name": "python3"
  },
  "language_info": {
   "codemirror_mode": {
    "name": "ipython",
    "version": 3
   },
   "file_extension": ".py",
   "mimetype": "text/x-python",
   "name": "python",
   "nbconvert_exporter": "python",
   "pygments_lexer": "ipython3",
   "version": "3.8.6"
  }
 },
 "nbformat": 4,
 "nbformat_minor": 4
}
