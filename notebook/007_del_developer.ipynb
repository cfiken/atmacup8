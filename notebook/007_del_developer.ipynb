{
 "cells": [
  {
   "cell_type": "code",
   "execution_count": 1,
   "metadata": {},
   "outputs": [],
   "source": [
    "import os\n",
    "import warnings\n",
    "warnings.filterwarnings('ignore')\n",
    "from typing import Any, Dict, List, Tuple\n",
    "from pathlib import Path\n",
    "import yaml\n",
    "import pickle\n",
    "import copy\n",
    "\n",
    "import pandas as pd\n",
    "import matplotlib.pyplot as plt\n",
    "import seaborn as sns\n",
    "import numpy as np\n",
    "from pandas_profiling import ProfileReport # profile report を作る用\n",
    "from matplotlib_venn import venn2 # venn図を作成する用\n",
    "from tqdm import tqdm\n",
    "from contextlib import contextmanager\n",
    "from time import time\n",
    "\n",
    "from sklearn.model_selection import StratifiedKFold\n",
    "from sklearn.metrics import mean_squared_log_error, mean_squared_error\n",
    "import lightgbm as lgb\n",
    "\n",
    "from mykaggle.metric.mse import rmse\n",
    "from mykaggle.util.ml_logger import MLLogger\n",
    "from mykaggle.lib.lgbm_util import compute_importances, save_importances\n",
    "from mykaggle.util.routine import fix_seed\n",
    "\n",
    "sns.set_style('darkgrid')"
   ]
  },
  {
   "cell_type": "code",
   "execution_count": 2,
   "metadata": {},
   "outputs": [
    {
     "name": "stderr",
     "output_type": "stream",
     "text": [
      "/home/jupyter/workspace/atmacup8/.venv/lib/python3.8/site-packages/ipykernel/ipkernel.py:287: DeprecationWarning: `should_run_async` will not call `transform_cell` automatically in the future. Please pass the result to `transformed_cell` argument and any exception that happen during thetransform in `preprocessing_exc_tuple` in IPython 7.17 and above.\n",
      "  and should_run_async(code)\n"
     ]
    }
   ],
   "source": [
    "settings = yaml.safe_load('''\n",
    "name: '007_del_developer'\n",
    "competition: atmacup8\n",
    "seed: 1019\n",
    "training:\n",
    "    num_folds: 5\n",
    "    num_rounds: 1000\n",
    "    early_stopping_rounds: 100\n",
    "    verbose_eval: 20\n",
    "lgbm_params:\n",
    "    objective: regression\n",
    "    learning_rate: 0.05\n",
    "    max_depth: -1\n",
    "    num_leaves: 31\n",
    "    colsample_bytree: .7\n",
    "    metric: \"None\"\n",
    "''')"
   ]
  },
  {
   "cell_type": "code",
   "execution_count": 3,
   "metadata": {},
   "outputs": [],
   "source": [
    "fix_seed(settings['seed'])"
   ]
  },
  {
   "cell_type": "code",
   "execution_count": 4,
   "metadata": {},
   "outputs": [],
   "source": [
    "datadir = Path('../data/')\n",
    "ckptdir = Path('../ckpt/') / settings['name']\n",
    "if not ckptdir.exists():\n",
    "    ckptdir.mkdir()"
   ]
  },
  {
   "cell_type": "code",
   "execution_count": 5,
   "metadata": {},
   "outputs": [
    {
     "data": {
      "text/plain": [
       "((8359, 17), (8360, 12))"
      ]
     },
     "execution_count": 5,
     "metadata": {},
     "output_type": "execute_result"
    }
   ],
   "source": [
    "df_train = pd.read_csv(datadir / 'id_train.csv')\n",
    "df_test = pd.read_csv(datadir / 'id_test.csv')\n",
    "df_submission = pd.read_csv(datadir / 'atmaCup8_sample-submission.csv')\n",
    "df_train.shape, df_test.shape"
   ]
  },
  {
   "cell_type": "code",
   "execution_count": 6,
   "metadata": {},
   "outputs": [],
   "source": [
    "# target の用意\n",
    "target_columns = ['Global_Sales']\n",
    "train_target_columns = target_columns + ['NA_Sales', 'EU_Sales', 'JP_Sales', 'Other_Sales']\n",
    "\n",
    "for c in train_target_columns:\n",
    "    df_train.loc[:, 'mod_' + c] = df_train.loc[:, c].apply(lambda x: np.log1p(x))"
   ]
  },
  {
   "cell_type": "code",
   "execution_count": 7,
   "metadata": {},
   "outputs": [],
   "source": [
    "df_base_train = df_train.loc[:, ['id']]\n",
    "df_base_test = df_test.loc[:, ['id']]\n",
    "\n",
    "train_others = {\n",
    "    'main': df_train.copy(),\n",
    "    'another': df_test.copy()\n",
    "}\n",
    "test_others = {\n",
    "    'main': df_test.copy(),\n",
    "    'another': df_train.copy(),\n",
    "}"
   ]
  },
  {
   "cell_type": "code",
   "execution_count": 8,
   "metadata": {},
   "outputs": [],
   "source": [
    "from mykaggle.feature.le import LE\n",
    "from mykaggle.feature.score import Score"
   ]
  },
  {
   "cell_type": "code",
   "execution_count": 9,
   "metadata": {},
   "outputs": [],
   "source": [
    "le_train = LE(train=True)\n",
    "le_test = LE(train=False)\n",
    "score_train = Score(train=True)\n",
    "score_test = Score(train=False)"
   ]
  },
  {
   "cell_type": "code",
   "execution_count": 10,
   "metadata": {},
   "outputs": [
    {
     "data": {
      "text/plain": [
       "((8359, 9), (8360, 9))"
      ]
     },
     "execution_count": 10,
     "metadata": {},
     "output_type": "execute_result"
    }
   ],
   "source": [
    "df_f_train = df_base_train.copy()\n",
    "df_f_test = df_base_test.copy()\n",
    "\n",
    "df_f_train = le_train(df_f_train, others=train_others, use_cache=False, save_cache=True)\n",
    "df_f_test = le_test(df_f_test, others=test_others, use_cache=False, save_cache=True)\n",
    "df_f_train = score_train(df_f_train, others=train_others, use_cache=False, save_cache=True)\n",
    "df_f_test = score_test(df_f_test, others=test_others, use_cache=False, save_cache=True)\n",
    "\n",
    "df_f_train.shape, df_f_test.shape"
   ]
  },
  {
   "cell_type": "code",
   "execution_count": 11,
   "metadata": {},
   "outputs": [
    {
     "name": "stderr",
     "output_type": "stream",
     "text": [
      "/home/jupyter/workspace/atmacup8/.venv/lib/python3.8/site-packages/ipykernel/ipkernel.py:287: DeprecationWarning: `should_run_async` will not call `transform_cell` automatically in the future. Please pass the result to `transformed_cell` argument and any exception that happen during thetransform in `preprocessing_exc_tuple` in IPython 7.17 and above.\n",
      "  and should_run_async(code)\n"
     ]
    },
    {
     "data": {
      "text/plain": [
       "((8359, 8), (8360, 8))"
      ]
     },
     "execution_count": 11,
     "metadata": {},
     "output_type": "execute_result"
    }
   ],
   "source": [
    "# drop some columns\n",
    "df_f_train = df_f_train.drop(['le_Developer'], axis=1)\n",
    "df_f_test = df_f_test.drop(['le_Developer'], axis=1)\n",
    "df_f_train.shape, df_f_test.shape"
   ]
  },
  {
   "cell_type": "code",
   "execution_count": 12,
   "metadata": {},
   "outputs": [
    {
     "data": {
      "text/html": [
       "<div>\n",
       "<style scoped>\n",
       "    .dataframe tbody tr th:only-of-type {\n",
       "        vertical-align: middle;\n",
       "    }\n",
       "\n",
       "    .dataframe tbody tr th {\n",
       "        vertical-align: top;\n",
       "    }\n",
       "\n",
       "    .dataframe thead th {\n",
       "        text-align: right;\n",
       "    }\n",
       "</style>\n",
       "<table border=\"1\" class=\"dataframe\">\n",
       "  <thead>\n",
       "    <tr style=\"text-align: right;\">\n",
       "      <th></th>\n",
       "      <th>id</th>\n",
       "      <th>le_Platform</th>\n",
       "      <th>le_Genre</th>\n",
       "      <th>le_Rating</th>\n",
       "      <th>Critic_Score</th>\n",
       "      <th>User_Score</th>\n",
       "      <th>Critic_Count</th>\n",
       "      <th>User_Count</th>\n",
       "    </tr>\n",
       "  </thead>\n",
       "  <tbody>\n",
       "    <tr>\n",
       "      <th>0</th>\n",
       "      <td>0</td>\n",
       "      <td>26</td>\n",
       "      <td>0</td>\n",
       "      <td>2</td>\n",
       "      <td>0.74</td>\n",
       "      <td>0.79</td>\n",
       "      <td>17.0</td>\n",
       "      <td>22.0</td>\n",
       "    </tr>\n",
       "    <tr>\n",
       "      <th>1</th>\n",
       "      <td>1</td>\n",
       "      <td>26</td>\n",
       "      <td>0</td>\n",
       "      <td>2</td>\n",
       "      <td>0.78</td>\n",
       "      <td>0.66</td>\n",
       "      <td>22.0</td>\n",
       "      <td>28.0</td>\n",
       "    </tr>\n",
       "  </tbody>\n",
       "</table>\n",
       "</div>"
      ],
      "text/plain": [
       "   id  le_Platform  le_Genre  le_Rating  Critic_Score  User_Score  \\\n",
       "0   0           26         0          2          0.74        0.79   \n",
       "1   1           26         0          2          0.78        0.66   \n",
       "\n",
       "   Critic_Count  User_Count  \n",
       "0          17.0        22.0  \n",
       "1          22.0        28.0  "
      ]
     },
     "execution_count": 12,
     "metadata": {},
     "output_type": "execute_result"
    }
   ],
   "source": [
    "df_f_train.head(2)"
   ]
  },
  {
   "cell_type": "code",
   "execution_count": 13,
   "metadata": {},
   "outputs": [
    {
     "name": "stderr",
     "output_type": "stream",
     "text": [
      "/home/jupyter/workspace/atmacup8/.venv/lib/python3.8/site-packages/ipykernel/ipkernel.py:287: DeprecationWarning: `should_run_async` will not call `transform_cell` automatically in the future. Please pass the result to `transformed_cell` argument and any exception that happen during thetransform in `preprocessing_exc_tuple` in IPython 7.17 and above.\n",
      "  and should_run_async(code)\n"
     ]
    }
   ],
   "source": [
    "@contextmanager\n",
    "def timer(logger=None, format_str='{:.3f}[s]', prefix=None, suffix=None):\n",
    "    if prefix: format_str = str(prefix) + format_str\n",
    "    if suffix: format_str = format_str + str(suffix)\n",
    "    start = time()\n",
    "    yield\n",
    "    d = time() - start\n",
    "    out_str = format_str.format(d)\n",
    "    if logger:\n",
    "        logger.info(out_str)\n",
    "    else:\n",
    "        print(out_str)"
   ]
  },
  {
   "cell_type": "code",
   "execution_count": 14,
   "metadata": {},
   "outputs": [],
   "source": [
    "def get_oof_feature(\n",
    "    df_train: pd.DataFrame, df_valid: pd.DataFrame, y_train: np.ndarray,\n",
    "    df_train_original: pd.DataFrame, df_valid_original: pd.DataFrame\n",
    ") -> Tuple[pd.DataFrame, pd.DataFrame]:\n",
    "    df_train.loc[:, 'target'] = y_train.copy()\n",
    "    _train_others = copy.deepcopy(train_others)\n",
    "    _test_others = copy.deepcopy(test_others)\n",
    "    _train_others['main'] = df_train_original.copy()\n",
    "    _train_others['another'] = df_valid_original.copy()\n",
    "    _test_others['main'] = df_valid_original.copy()\n",
    "    _test_others['another'] = df_train_original.copy()\n",
    "#     df_train = f_date_te_train(df_train, others=_train_others, use_cache=False, save_cache=False)\n",
    "#     df_valid = f_date_te_test(df_valid, others=_test_others, use_cache=False, save_cache=False)\n",
    "    return df_train.drop(['id', 'target'], axis=1), df_valid.drop('id', axis=1)"
   ]
  },
  {
   "cell_type": "code",
   "execution_count": 15,
   "metadata": {},
   "outputs": [],
   "source": [
    "def train(\n",
    "    settings: Dict[str, Any],\n",
    "    logger: MLLogger,\n",
    "    df: pd.DataFrame,\n",
    "    df_original: pd.DataFrame,\n",
    "    y: np.ndarray,\n",
    "    ckptdir: Path\n",
    ") -> Tuple:\n",
    "    logger.log_params(settings['training'])\n",
    "    logger.log_params(settings['lgbm_params'])\n",
    "    X = df\n",
    "    lgbm_params = settings['lgbm_params']\n",
    "    models = []\n",
    "    oof_pred = np.zeros_like(y, dtype=np.float)\n",
    "    importances = pd.DataFrame()\n",
    "    splits = pickle.load(open(datadir / f'group_{settings[\"training\"][\"num_folds\"]}fold.pkl', 'rb'))\n",
    "\n",
    "    for i, (train_idx, valid_idx) in enumerate(splits): \n",
    "        x_train, y_train = X.iloc[train_idx], y[train_idx]\n",
    "        x_valid, y_valid = X.iloc[valid_idx], y[valid_idx]\n",
    "        x_train, x_valid = get_oof_feature(\n",
    "            x_train, x_valid, y_train,\n",
    "            df_original.iloc[train_idx], df_original.iloc[valid_idx]\n",
    "        )\n",
    "        train_data = lgb.Dataset(x_train.values, label=y_train.astype(np.float32))\n",
    "        valid_data = lgb.Dataset(x_valid.values, label=y_valid.astype(np.float32))\n",
    "\n",
    "        with timer(prefix='train fold={} '.format(i + 1)):\n",
    "            clf = lgb.train(\n",
    "                lgbm_params,\n",
    "                train_data, \n",
    "                num_boost_round=settings['training']['num_rounds'],\n",
    "                valid_names=['train', 'valid'],\n",
    "                valid_sets=[train_data, valid_data],  \n",
    "                early_stopping_rounds=settings['training']['early_stopping_rounds'],\n",
    "                feval=rmse,\n",
    "                verbose_eval=settings['training']['verbose_eval']\n",
    "            )\n",
    "        pred_i = clf.predict(x_valid.values)\n",
    "        oof_pred[valid_idx] = pred_i\n",
    "        models.append(clf)\n",
    "        importances = compute_importances(importances, x_train.columns, models[i], fold=i)\n",
    "        fold_score = mean_squared_error(y_valid, pred_i) ** 0.5\n",
    "        logger.log_metric(f'rmsle_fold_{i}', fold_score)\n",
    "        print(f'Fold {i} RMSLE: {fold_score:.4f}')\n",
    "        clf.save_model(str(ckptdir / f'model.txt'))\n",
    "        logger.log_artifact(str(ckptdir / f'model.txt'), artifact_path=f'{i}')\n",
    "\n",
    "    score = mean_squared_error(y, oof_pred) ** 0.5\n",
    "    logger.log_metric(f'RMSLE', score)\n",
    "    print('FINISHED; whole score: {:.4f}'.format(score))\n",
    "    save_importances(importances, ckptdir)\n",
    "    return oof_pred, models, score, importances"
   ]
  },
  {
   "cell_type": "code",
   "execution_count": 16,
   "metadata": {},
   "outputs": [],
   "source": [
    "def predict(\n",
    "    models: List[lgb.Booster],\n",
    "    df_test: pd.DataFrame,\n",
    "    df_train: pd.DataFrame,\n",
    "    df_test_original: pd.DataFrame\n",
    ") -> np.ndarray:\n",
    "    '''\n",
    "    fold 分のモデルと test の特徴 dataframe を受け取って、予測したものを返します。\n",
    "    :param models: kfold 分のモデル\n",
    "    :param test_df: test dataset の特徴\n",
    "    :return: 予測\n",
    "    '''\n",
    "    _, test = get_oof_feature(\n",
    "        df_train.copy(), df_test.copy(), df_train['Global_Sales'].values, df_train.copy(), df_test_original.copy()\n",
    "    )\n",
    "    preds = np.array([model.predict(test) for model in models])\n",
    "    preds = np.expm1(preds)\n",
    "    preds = np.mean(preds, axis=0)\n",
    "    return preds\n",
    "\n",
    "    \n",
    "def submit(preds: np.ndarray, ckptdir: Path) -> pd.DataFrame:\n",
    "    '''\n",
    "    test data の prediction を受け取って submission ファイルを作成します。\n",
    "    :param preds: test data の予測\n",
    "    :param ckptdir: 保存場所\n",
    "    :return: submission df\n",
    "    '''\n",
    "    sub_df = pd.DataFrame({ 'Global_Sales': preds })\n",
    "    sub_df.to_csv(ckptdir / f'{settings[\"name\"]}.csv', index=False)\n",
    "    return sub_df"
   ]
  },
  {
   "cell_type": "code",
   "execution_count": 17,
   "metadata": {},
   "outputs": [],
   "source": [
    "logger = MLLogger('cfiken', ckptdir)"
   ]
  },
  {
   "cell_type": "code",
   "execution_count": 18,
   "metadata": {},
   "outputs": [
    {
     "name": "stdout",
     "output_type": "stream",
     "text": [
      "[LightGBM] [Warning] Auto-choosing col-wise multi-threading, the overhead of testing was 0.000786 seconds.\n",
      "You can set `force_col_wise=true` to remove the overhead.\n",
      "[LightGBM] [Info] Total Bins 547\n",
      "[LightGBM] [Info] Number of data points in the train set: 6687, number of used features: 7\n",
      "[LightGBM] [Info] Start training from score 3.008886\n",
      "Training until validation scores don't improve for 100 rounds\n",
      "[20]\ttrain's rmsle: 1.14119\tvalid's rmsle: 1.08855\n",
      "[40]\ttrain's rmsle: 1.05766\tvalid's rmsle: 1.04746\n",
      "[60]\ttrain's rmsle: 1.02238\tvalid's rmsle: 1.03698\n",
      "[80]\ttrain's rmsle: 1.00176\tvalid's rmsle: 1.03362\n",
      "[100]\ttrain's rmsle: 0.987959\tvalid's rmsle: 1.03376\n",
      "[120]\ttrain's rmsle: 0.976062\tvalid's rmsle: 1.0337\n",
      "[140]\ttrain's rmsle: 0.966119\tvalid's rmsle: 1.03538\n",
      "[160]\ttrain's rmsle: 0.95796\tvalid's rmsle: 1.03774\n",
      "[180]\ttrain's rmsle: 0.949888\tvalid's rmsle: 1.03883\n",
      "[200]\ttrain's rmsle: 0.943404\tvalid's rmsle: 1.04131\n",
      "Early stopping, best iteration is:\n",
      "[117]\ttrain's rmsle: 0.978047\tvalid's rmsle: 1.03306\n",
      "train fold=1 1.387[s]\n",
      "Fold 0 RMSLE: 1.0331\n",
      "[LightGBM] [Warning] Auto-choosing col-wise multi-threading, the overhead of testing was 0.000844 seconds.\n",
      "You can set `force_col_wise=true` to remove the overhead.\n",
      "[LightGBM] [Info] Total Bins 549\n",
      "[LightGBM] [Info] Number of data points in the train set: 6687, number of used features: 7\n",
      "[LightGBM] [Info] Start training from score 2.941452\n",
      "Training until validation scores don't improve for 100 rounds\n",
      "[20]\ttrain's rmsle: 1.07318\tvalid's rmsle: 1.4551\n",
      "[40]\ttrain's rmsle: 1.00098\tvalid's rmsle: 1.40223\n",
      "[60]\ttrain's rmsle: 0.971827\tvalid's rmsle: 1.37619\n",
      "[80]\ttrain's rmsle: 0.95377\tvalid's rmsle: 1.36417\n",
      "[100]\ttrain's rmsle: 0.940864\tvalid's rmsle: 1.35534\n",
      "[120]\ttrain's rmsle: 0.929695\tvalid's rmsle: 1.34993\n",
      "[140]\ttrain's rmsle: 0.9205\tvalid's rmsle: 1.34733\n",
      "[160]\ttrain's rmsle: 0.912654\tvalid's rmsle: 1.34542\n",
      "[180]\ttrain's rmsle: 0.905599\tvalid's rmsle: 1.343\n",
      "[200]\ttrain's rmsle: 0.899173\tvalid's rmsle: 1.34321\n",
      "[220]\ttrain's rmsle: 0.893466\tvalid's rmsle: 1.3428\n",
      "[240]\ttrain's rmsle: 0.88834\tvalid's rmsle: 1.34208\n",
      "[260]\ttrain's rmsle: 0.883178\tvalid's rmsle: 1.34239\n",
      "[280]\ttrain's rmsle: 0.878012\tvalid's rmsle: 1.34199\n",
      "[300]\ttrain's rmsle: 0.873736\tvalid's rmsle: 1.34184\n",
      "[320]\ttrain's rmsle: 0.869466\tvalid's rmsle: 1.34076\n",
      "[340]\ttrain's rmsle: 0.865399\tvalid's rmsle: 1.33913\n",
      "[360]\ttrain's rmsle: 0.8616\tvalid's rmsle: 1.33819\n",
      "[380]\ttrain's rmsle: 0.858129\tvalid's rmsle: 1.33756\n",
      "[400]\ttrain's rmsle: 0.854524\tvalid's rmsle: 1.33696\n",
      "[420]\ttrain's rmsle: 0.850733\tvalid's rmsle: 1.33656\n",
      "[440]\ttrain's rmsle: 0.847486\tvalid's rmsle: 1.33571\n",
      "[460]\ttrain's rmsle: 0.843982\tvalid's rmsle: 1.33648\n",
      "[480]\ttrain's rmsle: 0.841182\tvalid's rmsle: 1.33603\n",
      "[500]\ttrain's rmsle: 0.838488\tvalid's rmsle: 1.33506\n",
      "[520]\ttrain's rmsle: 0.835397\tvalid's rmsle: 1.33459\n",
      "[540]\ttrain's rmsle: 0.832739\tvalid's rmsle: 1.33454\n",
      "[560]\ttrain's rmsle: 0.830062\tvalid's rmsle: 1.335\n",
      "[580]\ttrain's rmsle: 0.827808\tvalid's rmsle: 1.33522\n",
      "[600]\ttrain's rmsle: 0.825459\tvalid's rmsle: 1.33522\n",
      "[620]\ttrain's rmsle: 0.823079\tvalid's rmsle: 1.33611\n",
      "Early stopping, best iteration is:\n",
      "[536]\ttrain's rmsle: 0.833188\tvalid's rmsle: 1.33432\n",
      "train fold=2 3.309[s]\n",
      "Fold 1 RMSLE: 1.3343\n",
      "[LightGBM] [Warning] Auto-choosing col-wise multi-threading, the overhead of testing was 0.123751 seconds.\n",
      "You can set `force_col_wise=true` to remove the overhead.\n",
      "[LightGBM] [Info] Total Bins 550\n",
      "[LightGBM] [Info] Number of data points in the train set: 6687, number of used features: 7\n",
      "[LightGBM] [Info] Start training from score 3.100235\n",
      "Training until validation scores don't improve for 100 rounds\n",
      "[20]\ttrain's rmsle: 1.13451\tvalid's rmsle: 1.17924\n",
      "[40]\ttrain's rmsle: 1.05665\tvalid's rmsle: 1.10074\n",
      "[60]\ttrain's rmsle: 1.0238\tvalid's rmsle: 1.07137\n",
      "[80]\ttrain's rmsle: 1.00402\tvalid's rmsle: 1.06024\n",
      "[100]\ttrain's rmsle: 0.990046\tvalid's rmsle: 1.05398\n",
      "[120]\ttrain's rmsle: 0.979311\tvalid's rmsle: 1.04901\n",
      "[140]\ttrain's rmsle: 0.970158\tvalid's rmsle: 1.04603\n",
      "[160]\ttrain's rmsle: 0.962236\tvalid's rmsle: 1.04392\n",
      "[180]\ttrain's rmsle: 0.954642\tvalid's rmsle: 1.04235\n",
      "[200]\ttrain's rmsle: 0.947995\tvalid's rmsle: 1.04193\n",
      "[220]\ttrain's rmsle: 0.942004\tvalid's rmsle: 1.04122\n",
      "[240]\ttrain's rmsle: 0.936417\tvalid's rmsle: 1.04116\n",
      "[260]\ttrain's rmsle: 0.931343\tvalid's rmsle: 1.04105\n",
      "[280]\ttrain's rmsle: 0.926454\tvalid's rmsle: 1.04149\n",
      "[300]\ttrain's rmsle: 0.921632\tvalid's rmsle: 1.04101\n",
      "[320]\ttrain's rmsle: 0.916982\tvalid's rmsle: 1.04008\n",
      "[340]\ttrain's rmsle: 0.91287\tvalid's rmsle: 1.04031\n",
      "[360]\ttrain's rmsle: 0.908856\tvalid's rmsle: 1.04003\n",
      "[380]\ttrain's rmsle: 0.904705\tvalid's rmsle: 1.03984\n",
      "[400]\ttrain's rmsle: 0.901209\tvalid's rmsle: 1.04004\n",
      "[420]\ttrain's rmsle: 0.898086\tvalid's rmsle: 1.04064\n",
      "[440]\ttrain's rmsle: 0.895144\tvalid's rmsle: 1.04072\n",
      "[460]\ttrain's rmsle: 0.892301\tvalid's rmsle: 1.04047\n",
      "Early stopping, best iteration is:\n",
      "[373]\ttrain's rmsle: 0.906201\tvalid's rmsle: 1.03953\n",
      "train fold=3 2.748[s]\n",
      "Fold 2 RMSLE: 1.0395\n",
      "[LightGBM] [Warning] Auto-choosing col-wise multi-threading, the overhead of testing was 0.000793 seconds.\n",
      "You can set `force_col_wise=true` to remove the overhead.\n",
      "[LightGBM] [Info] Total Bins 549\n",
      "[LightGBM] [Info] Number of data points in the train set: 6687, number of used features: 7\n",
      "[LightGBM] [Info] Start training from score 3.116040\n",
      "Training until validation scores don't improve for 100 rounds\n",
      "[20]\ttrain's rmsle: 1.14695\tvalid's rmsle: 1.10445\n",
      "[40]\ttrain's rmsle: 1.06348\tvalid's rmsle: 1.05423\n",
      "[60]\ttrain's rmsle: 1.02841\tvalid's rmsle: 1.04141\n",
      "[80]\ttrain's rmsle: 1.00633\tvalid's rmsle: 1.0371\n",
      "[100]\ttrain's rmsle: 0.991599\tvalid's rmsle: 1.0354\n",
      "[120]\ttrain's rmsle: 0.978993\tvalid's rmsle: 1.03516\n",
      "[140]\ttrain's rmsle: 0.969182\tvalid's rmsle: 1.03633\n",
      "[160]\ttrain's rmsle: 0.960997\tvalid's rmsle: 1.03791\n",
      "[180]\ttrain's rmsle: 0.953981\tvalid's rmsle: 1.03834\n",
      "[200]\ttrain's rmsle: 0.947413\tvalid's rmsle: 1.03993\n",
      "Early stopping, best iteration is:\n",
      "[118]\ttrain's rmsle: 0.9805\tvalid's rmsle: 1.03469\n",
      "train fold=4 1.398[s]\n",
      "Fold 3 RMSLE: 1.0347\n",
      "[LightGBM] [Warning] Auto-choosing col-wise multi-threading, the overhead of testing was 0.039378 seconds.\n",
      "You can set `force_col_wise=true` to remove the overhead.\n",
      "[LightGBM] [Info] Total Bins 548\n",
      "[LightGBM] [Info] Number of data points in the train set: 6688, number of used features: 7\n",
      "[LightGBM] [Info] Start training from score 3.021148\n",
      "Training until validation scores don't improve for 100 rounds\n",
      "[20]\ttrain's rmsle: 1.14155\tvalid's rmsle: 1.09801\n",
      "[40]\ttrain's rmsle: 1.05735\tvalid's rmsle: 1.05694\n",
      "[60]\ttrain's rmsle: 1.02134\tvalid's rmsle: 1.04599\n",
      "[80]\ttrain's rmsle: 1.00136\tvalid's rmsle: 1.04371\n",
      "[100]\ttrain's rmsle: 0.987726\tvalid's rmsle: 1.0449\n",
      "[120]\ttrain's rmsle: 0.975639\tvalid's rmsle: 1.04621\n",
      "[140]\ttrain's rmsle: 0.965283\tvalid's rmsle: 1.04566\n",
      "[160]\ttrain's rmsle: 0.95701\tvalid's rmsle: 1.04691\n",
      "[180]\ttrain's rmsle: 0.949302\tvalid's rmsle: 1.04744\n",
      "Early stopping, best iteration is:\n",
      "[82]\ttrain's rmsle: 0.999758\tvalid's rmsle: 1.04333\n",
      "train fold=5 1.232[s]\n",
      "Fold 4 RMSLE: 1.0433\n",
      "FINISHED; whole score: 1.1034\n"
     ]
    },
    {
     "data": {
      "image/png": "[encoded data removed]",
      "text/plain": [
       "<Figure size 432x576 with 1 Axes>"
      ]
     },
     "metadata": {},
     "output_type": "display_data"
    }
   ],
   "source": [
    "with logger.start(experiment_name=settings['competition'], run_name=settings['name']):\n",
    "    oof, models, cv, importances = train(\n",
    "        settings,\n",
    "        logger,\n",
    "        df_f_train,\n",
    "        df_train,\n",
    "        df_train.loc[:, 'mod_Global_Sales'].values,\n",
    "        ckptdir\n",
    "    )\n",
    "    preds = predict(models, df_f_test, df_train, df_test)\n",
    "    sub_df = submit(preds, ckptdir)"
   ]
  },
  {
   "cell_type": "code",
   "execution_count": null,
   "metadata": {},
   "outputs": [],
   "source": []
  }
 ],
 "metadata": {
  "kernelspec": {
   "display_name": "Python 3",
   "language": "python",
   "name": "python3"
  },
  "language_info": {
   "codemirror_mode": {
    "name": "ipython",
    "version": 3
   },
   "file_extension": ".py",
   "mimetype": "text/x-python",
   "name": "python",
   "nbconvert_exporter": "python",
   "pygments_lexer": "ipython3",
   "version": "3.8.6"
  }
 },
 "nbformat": 4,
 "nbformat_minor": 4
}
