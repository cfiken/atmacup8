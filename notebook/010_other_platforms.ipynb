{
 "cells": [
  {
   "cell_type": "code",
   "execution_count": 1,
   "metadata": {},
   "outputs": [],
   "source": [
    "import os\n",
    "import warnings\n",
    "warnings.filterwarnings('ignore')\n",
    "from typing import Any, Dict, List, Tuple\n",
    "from pathlib import Path\n",
    "import yaml\n",
    "import pickle\n",
    "import copy\n",
    "\n",
    "import pandas as pd\n",
    "import matplotlib.pyplot as plt\n",
    "import seaborn as sns\n",
    "import numpy as np\n",
    "from pandas_profiling import ProfileReport # profile report を作る用\n",
    "from matplotlib_venn import venn2 # venn図を作成する用\n",
    "from tqdm import tqdm\n",
    "from contextlib import contextmanager\n",
    "from time import time\n",
    "\n",
    "from sklearn.model_selection import StratifiedKFold\n",
    "from sklearn.metrics import mean_squared_log_error, mean_squared_error\n",
    "import lightgbm as lgb\n",
    "\n",
    "from mykaggle.metric.mse import rmse\n",
    "from mykaggle.util.ml_logger import MLLogger\n",
    "from mykaggle.lib.lgbm_util import compute_importances, save_importances\n",
    "from mykaggle.util.routine import fix_seed\n",
    "\n",
    "sns.set_style('darkgrid')"
   ]
  },
  {
   "cell_type": "code",
   "execution_count": 2,
   "metadata": {},
   "outputs": [
    {
     "name": "stderr",
     "output_type": "stream",
     "text": [
      "/home/jupyter/workspace/atmacup8/.venv/lib/python3.8/site-packages/ipykernel/ipkernel.py:287: DeprecationWarning: `should_run_async` will not call `transform_cell` automatically in the future. Please pass the result to `transformed_cell` argument and any exception that happen during thetransform in `preprocessing_exc_tuple` in IPython 7.17 and above.\n",
      "  and should_run_async(code)\n"
     ]
    }
   ],
   "source": [
    "settings = yaml.safe_load('''\n",
    "name: '010_other_platforms'\n",
    "competition: atmacup8\n",
    "seed: 1019\n",
    "training:\n",
    "    num_folds: 5\n",
    "    num_rounds: 1000\n",
    "    early_stopping_rounds: 100\n",
    "    verbose_eval: 20\n",
    "lgbm_params:\n",
    "    objective: regression\n",
    "    learning_rate: 0.05\n",
    "    max_depth: -1\n",
    "    num_leaves: 31\n",
    "    colsample_bytree: .7\n",
    "    metric: \"None\"\n",
    "''')"
   ]
  },
  {
   "cell_type": "code",
   "execution_count": 3,
   "metadata": {},
   "outputs": [],
   "source": [
    "fix_seed(settings['seed'])"
   ]
  },
  {
   "cell_type": "code",
   "execution_count": 4,
   "metadata": {},
   "outputs": [],
   "source": [
    "datadir = Path('../data/')\n",
    "ckptdir = Path('../ckpt/') / settings['name']\n",
    "if not ckptdir.exists():\n",
    "    ckptdir.mkdir()"
   ]
  },
  {
   "cell_type": "code",
   "execution_count": 5,
   "metadata": {},
   "outputs": [
    {
     "data": {
      "text/plain": [
       "((8359, 17), (8360, 12))"
      ]
     },
     "execution_count": 5,
     "metadata": {},
     "output_type": "execute_result"
    }
   ],
   "source": [
    "df_train = pd.read_csv(datadir / 'id_train.csv')\n",
    "df_test = pd.read_csv(datadir / 'id_test.csv')\n",
    "df_submission = pd.read_csv(datadir / 'atmaCup8_sample-submission.csv')\n",
    "df_train.shape, df_test.shape"
   ]
  },
  {
   "cell_type": "code",
   "execution_count": 6,
   "metadata": {},
   "outputs": [],
   "source": [
    "# target の用意\n",
    "target_columns = ['Global_Sales']\n",
    "train_target_columns = target_columns + ['NA_Sales', 'EU_Sales', 'JP_Sales', 'Other_Sales']\n",
    "\n",
    "for c in train_target_columns:\n",
    "    df_train.loc[:, 'mod_' + c] = df_train.loc[:, c].apply(lambda x: np.log1p(x))"
   ]
  },
  {
   "cell_type": "code",
   "execution_count": 7,
   "metadata": {},
   "outputs": [],
   "source": [
    "df_base_train = df_train.loc[:, ['id']]\n",
    "df_base_test = df_test.loc[:, ['id']]\n",
    "\n",
    "train_others = {\n",
    "    'main': df_train.copy(),\n",
    "    'another': df_test.copy()\n",
    "}\n",
    "test_others = {\n",
    "    'main': df_test.copy(),\n",
    "    'another': df_train.copy(),\n",
    "}"
   ]
  },
  {
   "cell_type": "code",
   "execution_count": 8,
   "metadata": {},
   "outputs": [],
   "source": [
    "from mykaggle.feature.le import LE\n",
    "from mykaggle.feature.score import Score\n",
    "from mykaggle.feature.score_tbd import ScoreTBD\n",
    "from mykaggle.feature.multi_platform import MultiPlatform\n",
    "from mykaggle.feature.other_platforms import OtherPlatforms"
   ]
  },
  {
   "cell_type": "code",
   "execution_count": 9,
   "metadata": {},
   "outputs": [],
   "source": [
    "le_train = LE(train=True)\n",
    "le_test = LE(train=False)\n",
    "score_train = Score(train=True)\n",
    "score_test = Score(train=False)\n",
    "score_tbd_train = ScoreTBD(train=True)\n",
    "score_tbd_test = ScoreTBD(train=False)\n",
    "mp_train = MultiPlatform(train=True)\n",
    "mp_test = MultiPlatform(train=False)\n",
    "op_train = OtherPlatforms(train=True)\n",
    "op_test = OtherPlatforms(train=False)"
   ]
  },
  {
   "cell_type": "code",
   "execution_count": 10,
   "metadata": {},
   "outputs": [
    {
     "data": {
      "text/plain": [
       "((8359, 42), (8360, 42))"
      ]
     },
     "execution_count": 10,
     "metadata": {},
     "output_type": "execute_result"
    }
   ],
   "source": [
    "df_f_train = df_base_train.copy()\n",
    "df_f_test = df_base_test.copy()\n",
    "\n",
    "df_f_train = le_train(df_f_train, others=train_others, use_cache=False, save_cache=True)\n",
    "df_f_test = le_test(df_f_test, others=test_others, use_cache=False, save_cache=True)\n",
    "df_f_train = score_train(df_f_train, others=train_others, use_cache=False, save_cache=True)\n",
    "df_f_test = score_test(df_f_test, others=test_others, use_cache=False, save_cache=True)\n",
    "df_f_train = score_tbd_train(df_f_train, others=train_others, use_cache=False, save_cache=True)\n",
    "df_f_test = score_tbd_test(df_f_test, others=test_others, use_cache=False, save_cache=True)\n",
    "df_f_train = mp_train(df_f_train, others=train_others, use_cache=False, save_cache=True)\n",
    "df_f_test = mp_test(df_f_test, others=test_others, use_cache=False, save_cache=True)\n",
    "df_f_train = op_train(df_f_train, others=train_others, use_cache=False, save_cache=True)\n",
    "df_f_test = op_test(df_f_test, others=test_others, use_cache=False, save_cache=True)\n",
    "\n",
    "df_f_train.shape, df_f_test.shape"
   ]
  },
  {
   "cell_type": "code",
   "execution_count": 11,
   "metadata": {},
   "outputs": [
    {
     "name": "stderr",
     "output_type": "stream",
     "text": [
      "/home/jupyter/workspace/atmacup8/.venv/lib/python3.8/site-packages/ipykernel/ipkernel.py:287: DeprecationWarning: `should_run_async` will not call `transform_cell` automatically in the future. Please pass the result to `transformed_cell` argument and any exception that happen during thetransform in `preprocessing_exc_tuple` in IPython 7.17 and above.\n",
      "  and should_run_async(code)\n"
     ]
    },
    {
     "data": {
      "text/plain": [
       "((8359, 41), (8360, 41))"
      ]
     },
     "execution_count": 11,
     "metadata": {},
     "output_type": "execute_result"
    }
   ],
   "source": [
    "# drop some columns\n",
    "df_f_train = df_f_train.drop(['le_Developer'], axis=1)\n",
    "df_f_test = df_f_test.drop(['le_Developer'], axis=1)\n",
    "df_f_train.shape, df_f_test.shape"
   ]
  },
  {
   "cell_type": "code",
   "execution_count": 12,
   "metadata": {},
   "outputs": [
    {
     "data": {
      "text/html": [
       "<div>\n",
       "<style scoped>\n",
       "    .dataframe tbody tr th:only-of-type {\n",
       "        vertical-align: middle;\n",
       "    }\n",
       "\n",
       "    .dataframe tbody tr th {\n",
       "        vertical-align: top;\n",
       "    }\n",
       "\n",
       "    .dataframe thead th {\n",
       "        text-align: right;\n",
       "    }\n",
       "</style>\n",
       "<table border=\"1\" class=\"dataframe\">\n",
       "  <thead>\n",
       "    <tr style=\"text-align: right;\">\n",
       "      <th></th>\n",
       "      <th>id</th>\n",
       "      <th>le_Platform</th>\n",
       "      <th>le_Genre</th>\n",
       "      <th>le_Rating</th>\n",
       "      <th>Critic_Score</th>\n",
       "      <th>User_Score</th>\n",
       "      <th>Critic_Count</th>\n",
       "      <th>User_Count</th>\n",
       "      <th>is_tbd</th>\n",
       "      <th>multi_pf_count</th>\n",
       "      <th>...</th>\n",
       "      <th>other_platform_22</th>\n",
       "      <th>other_platform_23</th>\n",
       "      <th>other_platform_24</th>\n",
       "      <th>other_platform_25</th>\n",
       "      <th>other_platform_26</th>\n",
       "      <th>other_platform_27</th>\n",
       "      <th>other_platform_28</th>\n",
       "      <th>other_platform_29</th>\n",
       "      <th>other_platform_30</th>\n",
       "      <th>other_platform_31</th>\n",
       "    </tr>\n",
       "  </thead>\n",
       "  <tbody>\n",
       "    <tr>\n",
       "      <th>0</th>\n",
       "      <td>0</td>\n",
       "      <td>26</td>\n",
       "      <td>0</td>\n",
       "      <td>2</td>\n",
       "      <td>0.74</td>\n",
       "      <td>0.79</td>\n",
       "      <td>17.0</td>\n",
       "      <td>22.0</td>\n",
       "      <td>False</td>\n",
       "      <td>7</td>\n",
       "      <td>...</td>\n",
       "      <td>0</td>\n",
       "      <td>0</td>\n",
       "      <td>0</td>\n",
       "      <td>0</td>\n",
       "      <td>0</td>\n",
       "      <td>0</td>\n",
       "      <td>0</td>\n",
       "      <td>1</td>\n",
       "      <td>0</td>\n",
       "      <td>0</td>\n",
       "    </tr>\n",
       "    <tr>\n",
       "      <th>1</th>\n",
       "      <td>1</td>\n",
       "      <td>26</td>\n",
       "      <td>0</td>\n",
       "      <td>2</td>\n",
       "      <td>0.78</td>\n",
       "      <td>0.66</td>\n",
       "      <td>22.0</td>\n",
       "      <td>28.0</td>\n",
       "      <td>False</td>\n",
       "      <td>7</td>\n",
       "      <td>...</td>\n",
       "      <td>0</td>\n",
       "      <td>0</td>\n",
       "      <td>0</td>\n",
       "      <td>0</td>\n",
       "      <td>0</td>\n",
       "      <td>0</td>\n",
       "      <td>0</td>\n",
       "      <td>1</td>\n",
       "      <td>0</td>\n",
       "      <td>0</td>\n",
       "    </tr>\n",
       "  </tbody>\n",
       "</table>\n",
       "<p>2 rows × 41 columns</p>\n",
       "</div>"
      ],
      "text/plain": [
       "   id  le_Platform  le_Genre  le_Rating  Critic_Score  User_Score  \\\n",
       "0   0           26         0          2          0.74        0.79   \n",
       "1   1           26         0          2          0.78        0.66   \n",
       "\n",
       "   Critic_Count  User_Count  is_tbd  multi_pf_count  ...  other_platform_22  \\\n",
       "0          17.0        22.0   False               7  ...                  0   \n",
       "1          22.0        28.0   False               7  ...                  0   \n",
       "\n",
       "   other_platform_23  other_platform_24  other_platform_25  other_platform_26  \\\n",
       "0                  0                  0                  0                  0   \n",
       "1                  0                  0                  0                  0   \n",
       "\n",
       "   other_platform_27  other_platform_28  other_platform_29  other_platform_30  \\\n",
       "0                  0                  0                  1                  0   \n",
       "1                  0                  0                  1                  0   \n",
       "\n",
       "   other_platform_31  \n",
       "0                  0  \n",
       "1                  0  \n",
       "\n",
       "[2 rows x 41 columns]"
      ]
     },
     "execution_count": 12,
     "metadata": {},
     "output_type": "execute_result"
    }
   ],
   "source": [
    "df_f_train.head(2)"
   ]
  },
  {
   "cell_type": "code",
   "execution_count": 13,
   "metadata": {},
   "outputs": [
    {
     "name": "stderr",
     "output_type": "stream",
     "text": [
      "/home/jupyter/workspace/atmacup8/.venv/lib/python3.8/site-packages/ipykernel/ipkernel.py:287: DeprecationWarning: `should_run_async` will not call `transform_cell` automatically in the future. Please pass the result to `transformed_cell` argument and any exception that happen during thetransform in `preprocessing_exc_tuple` in IPython 7.17 and above.\n",
      "  and should_run_async(code)\n"
     ]
    }
   ],
   "source": [
    "@contextmanager\n",
    "def timer(logger=None, format_str='{:.3f}[s]', prefix=None, suffix=None):\n",
    "    if prefix: format_str = str(prefix) + format_str\n",
    "    if suffix: format_str = format_str + str(suffix)\n",
    "    start = time()\n",
    "    yield\n",
    "    d = time() - start\n",
    "    out_str = format_str.format(d)\n",
    "    if logger:\n",
    "        logger.info(out_str)\n",
    "    else:\n",
    "        print(out_str)"
   ]
  },
  {
   "cell_type": "code",
   "execution_count": 14,
   "metadata": {},
   "outputs": [],
   "source": [
    "def get_oof_feature(\n",
    "    df_train: pd.DataFrame, df_valid: pd.DataFrame, y_train: np.ndarray,\n",
    "    df_train_original: pd.DataFrame, df_valid_original: pd.DataFrame\n",
    ") -> Tuple[pd.DataFrame, pd.DataFrame]:\n",
    "    df_train.loc[:, 'target'] = y_train.copy()\n",
    "    _train_others = copy.deepcopy(train_others)\n",
    "    _test_others = copy.deepcopy(test_others)\n",
    "    _train_others['main'] = df_train_original.copy()\n",
    "    _train_others['another'] = df_valid_original.copy()\n",
    "    _test_others['main'] = df_valid_original.copy()\n",
    "    _test_others['another'] = df_train_original.copy()\n",
    "#     df_train = f_date_te_train(df_train, others=_train_others, use_cache=False, save_cache=False)\n",
    "#     df_valid = f_date_te_test(df_valid, others=_test_others, use_cache=False, save_cache=False)\n",
    "    return df_train.drop(['id', 'target'], axis=1), df_valid.drop('id', axis=1)"
   ]
  },
  {
   "cell_type": "code",
   "execution_count": 15,
   "metadata": {},
   "outputs": [],
   "source": [
    "def train(\n",
    "    settings: Dict[str, Any],\n",
    "    logger: MLLogger,\n",
    "    df: pd.DataFrame,\n",
    "    df_original: pd.DataFrame,\n",
    "    y: np.ndarray,\n",
    "    ckptdir: Path\n",
    ") -> Tuple:\n",
    "    logger.log_params(settings['training'])\n",
    "    logger.log_params(settings['lgbm_params'])\n",
    "    X = df\n",
    "    lgbm_params = settings['lgbm_params']\n",
    "    models = []\n",
    "    oof_pred = np.zeros_like(y, dtype=np.float)\n",
    "    importances = pd.DataFrame()\n",
    "    splits = pickle.load(open(datadir / f'group_{settings[\"training\"][\"num_folds\"]}fold.pkl', 'rb'))\n",
    "\n",
    "    for i, (train_idx, valid_idx) in enumerate(splits): \n",
    "        x_train, y_train = X.iloc[train_idx], y[train_idx]\n",
    "        x_valid, y_valid = X.iloc[valid_idx], y[valid_idx]\n",
    "        x_train, x_valid = get_oof_feature(\n",
    "            x_train, x_valid, y_train,\n",
    "            df_original.iloc[train_idx], df_original.iloc[valid_idx]\n",
    "        )\n",
    "        train_data = lgb.Dataset(x_train.values, label=y_train.astype(np.float32))\n",
    "        valid_data = lgb.Dataset(x_valid.values, label=y_valid.astype(np.float32))\n",
    "\n",
    "        with timer(prefix='train fold={} '.format(i + 1)):\n",
    "            clf = lgb.train(\n",
    "                lgbm_params,\n",
    "                train_data, \n",
    "                num_boost_round=settings['training']['num_rounds'],\n",
    "                valid_names=['train', 'valid'],\n",
    "                valid_sets=[train_data, valid_data],  \n",
    "                early_stopping_rounds=settings['training']['early_stopping_rounds'],\n",
    "                feval=rmse,\n",
    "                verbose_eval=settings['training']['verbose_eval']\n",
    "            )\n",
    "        pred_i = clf.predict(x_valid.values)\n",
    "        oof_pred[valid_idx] = pred_i\n",
    "        models.append(clf)\n",
    "        importances = compute_importances(importances, x_train.columns, models[i], fold=i)\n",
    "        fold_score = mean_squared_error(y_valid, pred_i) ** 0.5\n",
    "        logger.log_metric(f'rmsle_fold_{i}', fold_score)\n",
    "        print(f'Fold {i} RMSLE: {fold_score:.4f}')\n",
    "        clf.save_model(str(ckptdir / f'model.txt'))\n",
    "        logger.log_artifact(str(ckptdir / f'model.txt'), artifact_path=f'{i}')\n",
    "\n",
    "    score = mean_squared_error(y, oof_pred) ** 0.5\n",
    "    logger.log_metric(f'RMSLE', score)\n",
    "    print('FINISHED; whole score: {:.4f}'.format(score))\n",
    "    save_importances(importances, ckptdir)\n",
    "    return oof_pred, models, score, importances"
   ]
  },
  {
   "cell_type": "code",
   "execution_count": 16,
   "metadata": {},
   "outputs": [],
   "source": [
    "def predict(\n",
    "    models: List[lgb.Booster],\n",
    "    df_test: pd.DataFrame,\n",
    "    df_train: pd.DataFrame,\n",
    "    df_test_original: pd.DataFrame\n",
    ") -> np.ndarray:\n",
    "    '''\n",
    "    fold 分のモデルと test の特徴 dataframe を受け取って、予測したものを返します。\n",
    "    :param models: kfold 分のモデル\n",
    "    :param test_df: test dataset の特徴\n",
    "    :return: 予測\n",
    "    '''\n",
    "    _, test = get_oof_feature(\n",
    "        df_train.copy(), df_test.copy(), df_train['Global_Sales'].values, df_train.copy(), df_test_original.copy()\n",
    "    )\n",
    "    preds = np.array([model.predict(test) for model in models])\n",
    "    preds = np.expm1(preds)\n",
    "    preds = np.mean(preds, axis=0)\n",
    "    return preds\n",
    "\n",
    "    \n",
    "def submit(preds: np.ndarray, ckptdir: Path) -> pd.DataFrame:\n",
    "    '''\n",
    "    test data の prediction を受け取って submission ファイルを作成します。\n",
    "    :param preds: test data の予測\n",
    "    :param ckptdir: 保存場所\n",
    "    :return: submission df\n",
    "    '''\n",
    "    sub_df = pd.DataFrame({ 'Global_Sales': preds })\n",
    "    sub_df.to_csv(ckptdir / f'{settings[\"name\"]}.csv', index=False)\n",
    "    return sub_df"
   ]
  },
  {
   "cell_type": "code",
   "execution_count": 17,
   "metadata": {},
   "outputs": [],
   "source": [
    "logger = MLLogger('cfiken', ckptdir)"
   ]
  },
  {
   "cell_type": "code",
   "execution_count": 18,
   "metadata": {},
   "outputs": [
    {
     "name": "stdout",
     "output_type": "stream",
     "text": [
      "[LightGBM] [Warning] Auto-choosing col-wise multi-threading, the overhead of testing was 0.002475 seconds.\n",
      "You can set `force_col_wise=true` to remove the overhead.\n",
      "[LightGBM] [Info] Total Bins 597\n",
      "[LightGBM] [Info] Number of data points in the train set: 6687, number of used features: 28\n",
      "[LightGBM] [Info] Start training from score 3.008886\n",
      "Training until validation scores don't improve for 100 rounds\n",
      "[20]\ttrain's rmsle: 1.1378\tvalid's rmsle: 1.07621\n",
      "[40]\ttrain's rmsle: 1.04478\tvalid's rmsle: 1.02572\n",
      "[60]\ttrain's rmsle: 1.00268\tvalid's rmsle: 1.00805\n",
      "[80]\ttrain's rmsle: 0.978192\tvalid's rmsle: 1.00192\n",
      "[100]\ttrain's rmsle: 0.960603\tvalid's rmsle: 1.00022\n",
      "[120]\ttrain's rmsle: 0.946736\tvalid's rmsle: 1.00016\n",
      "[140]\ttrain's rmsle: 0.936237\tvalid's rmsle: 0.999181\n",
      "[160]\ttrain's rmsle: 0.927084\tvalid's rmsle: 0.999944\n",
      "[180]\ttrain's rmsle: 0.918663\tvalid's rmsle: 1.00089\n",
      "[200]\ttrain's rmsle: 0.910797\tvalid's rmsle: 1.00096\n",
      "[220]\ttrain's rmsle: 0.903413\tvalid's rmsle: 1.00176\n",
      "Early stopping, best iteration is:\n",
      "[134]\ttrain's rmsle: 0.93931\tvalid's rmsle: 0.99901\n",
      "train fold=1 1.869[s]\n",
      "Fold 0 RMSLE: 0.9990\n",
      "[LightGBM] [Warning] Auto-choosing col-wise multi-threading, the overhead of testing was 0.002835 seconds.\n",
      "You can set `force_col_wise=true` to remove the overhead.\n",
      "[LightGBM] [Info] Total Bins 599\n",
      "[LightGBM] [Info] Number of data points in the train set: 6687, number of used features: 28\n",
      "[LightGBM] [Info] Start training from score 2.941452\n",
      "Training until validation scores don't improve for 100 rounds\n",
      "[20]\ttrain's rmsle: 1.05909\tvalid's rmsle: 1.47353\n",
      "[40]\ttrain's rmsle: 0.976685\tvalid's rmsle: 1.41199\n",
      "[60]\ttrain's rmsle: 0.939409\tvalid's rmsle: 1.38331\n",
      "[80]\ttrain's rmsle: 0.916656\tvalid's rmsle: 1.36653\n",
      "[100]\ttrain's rmsle: 0.899227\tvalid's rmsle: 1.35348\n",
      "[120]\ttrain's rmsle: 0.886068\tvalid's rmsle: 1.34706\n",
      "[140]\ttrain's rmsle: 0.875851\tvalid's rmsle: 1.3455\n",
      "[160]\ttrain's rmsle: 0.866411\tvalid's rmsle: 1.34253\n",
      "[180]\ttrain's rmsle: 0.858399\tvalid's rmsle: 1.34196\n",
      "[200]\ttrain's rmsle: 0.850648\tvalid's rmsle: 1.34162\n",
      "[220]\ttrain's rmsle: 0.843566\tvalid's rmsle: 1.33963\n",
      "[240]\ttrain's rmsle: 0.836832\tvalid's rmsle: 1.33737\n",
      "[260]\ttrain's rmsle: 0.831302\tvalid's rmsle: 1.33632\n",
      "[280]\ttrain's rmsle: 0.825652\tvalid's rmsle: 1.33682\n",
      "[300]\ttrain's rmsle: 0.819626\tvalid's rmsle: 1.33471\n",
      "[320]\ttrain's rmsle: 0.814013\tvalid's rmsle: 1.33488\n",
      "[340]\ttrain's rmsle: 0.809174\tvalid's rmsle: 1.33494\n",
      "[360]\ttrain's rmsle: 0.804759\tvalid's rmsle: 1.33541\n",
      "[380]\ttrain's rmsle: 0.799888\tvalid's rmsle: 1.33575\n",
      "[400]\ttrain's rmsle: 0.79562\tvalid's rmsle: 1.33659\n",
      "Early stopping, best iteration is:\n",
      "[316]\ttrain's rmsle: 0.814974\tvalid's rmsle: 1.33467\n",
      "train fold=2 3.168[s]\n",
      "Fold 1 RMSLE: 1.3347\n",
      "[LightGBM] [Warning] Auto-choosing col-wise multi-threading, the overhead of testing was 0.002635 seconds.\n",
      "You can set `force_col_wise=true` to remove the overhead.\n",
      "[LightGBM] [Info] Total Bins 602\n",
      "[LightGBM] [Info] Number of data points in the train set: 6687, number of used features: 29\n",
      "[LightGBM] [Info] Start training from score 3.100235\n",
      "Training until validation scores don't improve for 100 rounds\n",
      "[20]\ttrain's rmsle: 1.12239\tvalid's rmsle: 1.17415\n",
      "[40]\ttrain's rmsle: 1.0303\tvalid's rmsle: 1.08911\n",
      "[60]\ttrain's rmsle: 0.990924\tvalid's rmsle: 1.06079\n",
      "[80]\ttrain's rmsle: 0.966536\tvalid's rmsle: 1.04851\n",
      "[100]\ttrain's rmsle: 0.948729\tvalid's rmsle: 1.04204\n",
      "[120]\ttrain's rmsle: 0.935724\tvalid's rmsle: 1.03869\n",
      "[140]\ttrain's rmsle: 0.92522\tvalid's rmsle: 1.03822\n",
      "[160]\ttrain's rmsle: 0.915776\tvalid's rmsle: 1.03662\n",
      "[180]\ttrain's rmsle: 0.907772\tvalid's rmsle: 1.03552\n",
      "[200]\ttrain's rmsle: 0.899349\tvalid's rmsle: 1.03652\n",
      "[220]\ttrain's rmsle: 0.892654\tvalid's rmsle: 1.0363\n",
      "[240]\ttrain's rmsle: 0.885505\tvalid's rmsle: 1.03626\n",
      "[260]\ttrain's rmsle: 0.879853\tvalid's rmsle: 1.03642\n",
      "[280]\ttrain's rmsle: 0.874335\tvalid's rmsle: 1.0368\n",
      "Early stopping, best iteration is:\n",
      "[180]\ttrain's rmsle: 0.907772\tvalid's rmsle: 1.03552\n",
      "train fold=3 2.169[s]\n",
      "Fold 2 RMSLE: 1.0355\n",
      "[LightGBM] [Warning] Auto-choosing col-wise multi-threading, the overhead of testing was 0.002688 seconds.\n",
      "You can set `force_col_wise=true` to remove the overhead.\n",
      "[LightGBM] [Info] Total Bins 599\n",
      "[LightGBM] [Info] Number of data points in the train set: 6687, number of used features: 28\n",
      "[LightGBM] [Info] Start training from score 3.116040\n",
      "Training until validation scores don't improve for 100 rounds\n",
      "[20]\ttrain's rmsle: 1.13549\tvalid's rmsle: 1.09403\n",
      "[40]\ttrain's rmsle: 1.04281\tvalid's rmsle: 1.03516\n",
      "[60]\ttrain's rmsle: 1.00072\tvalid's rmsle: 1.0206\n",
      "[80]\ttrain's rmsle: 0.976575\tvalid's rmsle: 1.01562\n",
      "[100]\ttrain's rmsle: 0.959199\tvalid's rmsle: 1.01417\n",
      "[120]\ttrain's rmsle: 0.94606\tvalid's rmsle: 1.01377\n",
      "[140]\ttrain's rmsle: 0.936718\tvalid's rmsle: 1.01398\n",
      "[160]\ttrain's rmsle: 0.926932\tvalid's rmsle: 1.01434\n",
      "[180]\ttrain's rmsle: 0.918397\tvalid's rmsle: 1.01434\n",
      "[200]\ttrain's rmsle: 0.910425\tvalid's rmsle: 1.01302\n",
      "[220]\ttrain's rmsle: 0.903777\tvalid's rmsle: 1.01461\n",
      "[240]\ttrain's rmsle: 0.89783\tvalid's rmsle: 1.01441\n",
      "[260]\ttrain's rmsle: 0.891378\tvalid's rmsle: 1.0145\n",
      "[280]\ttrain's rmsle: 0.885608\tvalid's rmsle: 1.01582\n",
      "[300]\ttrain's rmsle: 0.879795\tvalid's rmsle: 1.01628\n",
      "Early stopping, best iteration is:\n",
      "[201]\ttrain's rmsle: 0.910118\tvalid's rmsle: 1.01296\n",
      "train fold=4 2.392[s]\n",
      "Fold 3 RMSLE: 1.0130\n",
      "[LightGBM] [Warning] Auto-choosing col-wise multi-threading, the overhead of testing was 0.002924 seconds.\n",
      "You can set `force_col_wise=true` to remove the overhead.\n",
      "[LightGBM] [Info] Total Bins 598\n",
      "[LightGBM] [Info] Number of data points in the train set: 6688, number of used features: 28\n",
      "[LightGBM] [Info] Start training from score 3.021148\n",
      "Training until validation scores don't improve for 100 rounds\n",
      "[20]\ttrain's rmsle: 1.1315\tvalid's rmsle: 1.08788\n",
      "[40]\ttrain's rmsle: 1.03924\tvalid's rmsle: 1.03978\n",
      "[60]\ttrain's rmsle: 0.997406\tvalid's rmsle: 1.02179\n",
      "[80]\ttrain's rmsle: 0.974254\tvalid's rmsle: 1.01467\n",
      "[100]\ttrain's rmsle: 0.95724\tvalid's rmsle: 1.01076\n",
      "[120]\ttrain's rmsle: 0.943966\tvalid's rmsle: 1.00982\n",
      "[140]\ttrain's rmsle: 0.933963\tvalid's rmsle: 1.00851\n",
      "[160]\ttrain's rmsle: 0.924472\tvalid's rmsle: 1.00909\n",
      "[180]\ttrain's rmsle: 0.915974\tvalid's rmsle: 1.00935\n",
      "[200]\ttrain's rmsle: 0.908391\tvalid's rmsle: 1.01076\n",
      "[220]\ttrain's rmsle: 0.901581\tvalid's rmsle: 1.01096\n",
      "[240]\ttrain's rmsle: 0.895327\tvalid's rmsle: 1.01165\n",
      "Early stopping, best iteration is:\n",
      "[148]\ttrain's rmsle: 0.929752\tvalid's rmsle: 1.0085\n",
      "train fold=5 2.051[s]\n",
      "Fold 4 RMSLE: 1.0085\n",
      "FINISHED; whole score: 1.0858\n"
     ]
    },
    {
     "data": {
      "image/png": "[encoded data removed]",
      "text/plain": [
       "<Figure size 432x576 with 1 Axes>"
      ]
     },
     "metadata": {},
     "output_type": "display_data"
    }
   ],
   "source": [
    "with logger.start(experiment_name=settings['competition'], run_name=settings['name']):\n",
    "    oof, models, cv, importances = train(\n",
    "        settings,\n",
    "        logger,\n",
    "        df_f_train,\n",
    "        df_train,\n",
    "        df_train.loc[:, 'mod_Global_Sales'].values,\n",
    "        ckptdir\n",
    "    )\n",
    "    preds = predict(models, df_f_test, df_train, df_test)\n",
    "    sub_df = submit(preds, ckptdir)"
   ]
  },
  {
   "cell_type": "code",
   "execution_count": null,
   "metadata": {},
   "outputs": [],
   "source": []
  }
 ],
 "metadata": {
  "kernelspec": {
   "display_name": "Python 3",
   "language": "python",
   "name": "python3"
  },
  "language_info": {
   "codemirror_mode": {
    "name": "ipython",
    "version": 3
   },
   "file_extension": ".py",
   "mimetype": "text/x-python",
   "name": "python",
   "nbconvert_exporter": "python",
   "pygments_lexer": "ipython3",
   "version": "3.8.6"
  }
 },
 "nbformat": 4,
 "nbformat_minor": 4
}
