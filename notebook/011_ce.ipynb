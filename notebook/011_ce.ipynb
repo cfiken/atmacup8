{
 "cells": [
  {
   "cell_type": "code",
   "execution_count": 1,
   "metadata": {},
   "outputs": [],
   "source": [
    "import os\n",
    "import warnings\n",
    "warnings.filterwarnings('ignore')\n",
    "from typing import Any, Dict, List, Tuple\n",
    "from pathlib import Path\n",
    "import yaml\n",
    "import pickle\n",
    "import copy\n",
    "\n",
    "import pandas as pd\n",
    "import matplotlib.pyplot as plt\n",
    "import seaborn as sns\n",
    "import numpy as np\n",
    "from pandas_profiling import ProfileReport # profile report を作る用\n",
    "from matplotlib_venn import venn2 # venn図を作成する用\n",
    "from tqdm import tqdm\n",
    "from contextlib import contextmanager\n",
    "from time import time\n",
    "\n",
    "from sklearn.model_selection import StratifiedKFold\n",
    "from sklearn.metrics import mean_squared_log_error, mean_squared_error\n",
    "import lightgbm as lgb\n",
    "\n",
    "from mykaggle.metric.mse import rmse\n",
    "from mykaggle.util.ml_logger import MLLogger\n",
    "from mykaggle.lib.lgbm_util import compute_importances, save_importances\n",
    "from mykaggle.util.routine import fix_seed\n",
    "\n",
    "sns.set_style('darkgrid')"
   ]
  },
  {
   "cell_type": "code",
   "execution_count": 2,
   "metadata": {},
   "outputs": [
    {
     "name": "stderr",
     "output_type": "stream",
     "text": [
      "/home/jupyter/workspace/atmacup8/.venv/lib/python3.8/site-packages/ipykernel/ipkernel.py:287: DeprecationWarning: `should_run_async` will not call `transform_cell` automatically in the future. Please pass the result to `transformed_cell` argument and any exception that happen during thetransform in `preprocessing_exc_tuple` in IPython 7.17 and above.\n",
      "  and should_run_async(code)\n"
     ]
    }
   ],
   "source": [
    "settings = yaml.safe_load('''\n",
    "name: '011_ce'\n",
    "competition: atmacup8\n",
    "seed: 1019\n",
    "training:\n",
    "    num_folds: 5\n",
    "    num_rounds: 1000\n",
    "    early_stopping_rounds: 100\n",
    "    verbose_eval: 20\n",
    "lgbm_params:\n",
    "    objective: regression\n",
    "    learning_rate: 0.05\n",
    "    max_depth: -1\n",
    "    num_leaves: 31\n",
    "    colsample_bytree: .7\n",
    "    metric: \"None\"\n",
    "''')"
   ]
  },
  {
   "cell_type": "code",
   "execution_count": 3,
   "metadata": {},
   "outputs": [],
   "source": [
    "fix_seed(settings['seed'])"
   ]
  },
  {
   "cell_type": "code",
   "execution_count": 4,
   "metadata": {},
   "outputs": [],
   "source": [
    "datadir = Path('../data/')\n",
    "ckptdir = Path('../ckpt/') / settings['name']\n",
    "if not ckptdir.exists():\n",
    "    ckptdir.mkdir()"
   ]
  },
  {
   "cell_type": "code",
   "execution_count": 5,
   "metadata": {},
   "outputs": [
    {
     "data": {
      "text/plain": [
       "((8359, 17), (8360, 12))"
      ]
     },
     "execution_count": 5,
     "metadata": {},
     "output_type": "execute_result"
    }
   ],
   "source": [
    "df_train = pd.read_csv(datadir / 'id_train.csv')\n",
    "df_test = pd.read_csv(datadir / 'id_test.csv')\n",
    "df_submission = pd.read_csv(datadir / 'atmaCup8_sample-submission.csv')\n",
    "df_train.shape, df_test.shape"
   ]
  },
  {
   "cell_type": "code",
   "execution_count": 6,
   "metadata": {},
   "outputs": [],
   "source": [
    "# target の用意\n",
    "target_columns = ['Global_Sales']\n",
    "train_target_columns = target_columns + ['NA_Sales', 'EU_Sales', 'JP_Sales', 'Other_Sales']\n",
    "\n",
    "for c in train_target_columns:\n",
    "    df_train.loc[:, 'mod_' + c] = df_train.loc[:, c].apply(lambda x: np.log1p(x))"
   ]
  },
  {
   "cell_type": "code",
   "execution_count": 7,
   "metadata": {},
   "outputs": [],
   "source": [
    "df_base_train = df_train.loc[:, ['id']]\n",
    "df_base_test = df_test.loc[:, ['id']]\n",
    "\n",
    "train_others = {\n",
    "    'main': df_train.copy(),\n",
    "    'another': df_test.copy()\n",
    "}\n",
    "test_others = {\n",
    "    'main': df_test.copy(),\n",
    "    'another': df_train.copy(),\n",
    "}"
   ]
  },
  {
   "cell_type": "code",
   "execution_count": 8,
   "metadata": {},
   "outputs": [],
   "source": [
    "from mykaggle.feature.le import LE\n",
    "from mykaggle.feature.score import Score\n",
    "from mykaggle.feature.score_tbd import ScoreTBD\n",
    "from mykaggle.feature.multi_platform import MultiPlatform\n",
    "from mykaggle.feature.other_platforms import OtherPlatforms\n",
    "from mykaggle.feature.ce import CE"
   ]
  },
  {
   "cell_type": "code",
   "execution_count": 9,
   "metadata": {},
   "outputs": [],
   "source": [
    "le_train = LE(train=True)\n",
    "le_test = LE(train=False)\n",
    "score_train = Score(train=True)\n",
    "score_test = Score(train=False)\n",
    "score_tbd_train = ScoreTBD(train=True)\n",
    "score_tbd_test = ScoreTBD(train=False)\n",
    "mp_train = MultiPlatform(train=True)\n",
    "mp_test = MultiPlatform(train=False)\n",
    "op_train = OtherPlatforms(train=True)\n",
    "op_test = OtherPlatforms(train=False)\n",
    "ce_train = CE(train=True)\n",
    "ce_test = CE(train=False)"
   ]
  },
  {
   "cell_type": "code",
   "execution_count": 10,
   "metadata": {},
   "outputs": [
    {
     "data": {
      "text/plain": [
       "((8359, 46), (8360, 46))"
      ]
     },
     "execution_count": 10,
     "metadata": {},
     "output_type": "execute_result"
    }
   ],
   "source": [
    "df_f_train = df_base_train.copy()\n",
    "df_f_test = df_base_test.copy()\n",
    "\n",
    "df_f_train = le_train(df_f_train, others=train_others, use_cache=False, save_cache=True)\n",
    "df_f_test = le_test(df_f_test, others=test_others, use_cache=False, save_cache=True)\n",
    "df_f_train = score_train(df_f_train, others=train_others, use_cache=False, save_cache=True)\n",
    "df_f_test = score_test(df_f_test, others=test_others, use_cache=False, save_cache=True)\n",
    "df_f_train = score_tbd_train(df_f_train, others=train_others, use_cache=False, save_cache=True)\n",
    "df_f_test = score_tbd_test(df_f_test, others=test_others, use_cache=False, save_cache=True)\n",
    "df_f_train = mp_train(df_f_train, others=train_others, use_cache=False, save_cache=True)\n",
    "df_f_test = mp_test(df_f_test, others=test_others, use_cache=False, save_cache=True)\n",
    "df_f_train = op_train(df_f_train, others=train_others, use_cache=False, save_cache=True)\n",
    "df_f_test = op_test(df_f_test, others=test_others, use_cache=False, save_cache=True)\n",
    "df_f_train = ce_train(df_f_train, others=train_others, use_cache=False, save_cache=True)\n",
    "df_f_test = ce_test(df_f_test, others=test_others, use_cache=False, save_cache=True)\n",
    "\n",
    "df_f_train.shape, df_f_test.shape"
   ]
  },
  {
   "cell_type": "code",
   "execution_count": 11,
   "metadata": {},
   "outputs": [
    {
     "name": "stderr",
     "output_type": "stream",
     "text": [
      "/home/jupyter/workspace/atmacup8/.venv/lib/python3.8/site-packages/ipykernel/ipkernel.py:287: DeprecationWarning: `should_run_async` will not call `transform_cell` automatically in the future. Please pass the result to `transformed_cell` argument and any exception that happen during thetransform in `preprocessing_exc_tuple` in IPython 7.17 and above.\n",
      "  and should_run_async(code)\n"
     ]
    },
    {
     "data": {
      "text/plain": [
       "((8359, 45), (8360, 45))"
      ]
     },
     "execution_count": 11,
     "metadata": {},
     "output_type": "execute_result"
    }
   ],
   "source": [
    "# drop some columns\n",
    "df_f_train = df_f_train.drop(['le_Developer'], axis=1)\n",
    "df_f_test = df_f_test.drop(['le_Developer'], axis=1)\n",
    "df_f_train.shape, df_f_test.shape"
   ]
  },
  {
   "cell_type": "code",
   "execution_count": 12,
   "metadata": {},
   "outputs": [
    {
     "data": {
      "text/html": [
       "<div>\n",
       "<style scoped>\n",
       "    .dataframe tbody tr th:only-of-type {\n",
       "        vertical-align: middle;\n",
       "    }\n",
       "\n",
       "    .dataframe tbody tr th {\n",
       "        vertical-align: top;\n",
       "    }\n",
       "\n",
       "    .dataframe thead th {\n",
       "        text-align: right;\n",
       "    }\n",
       "</style>\n",
       "<table border=\"1\" class=\"dataframe\">\n",
       "  <thead>\n",
       "    <tr style=\"text-align: right;\">\n",
       "      <th></th>\n",
       "      <th>id</th>\n",
       "      <th>le_Platform</th>\n",
       "      <th>le_Genre</th>\n",
       "      <th>le_Rating</th>\n",
       "      <th>Critic_Score</th>\n",
       "      <th>User_Score</th>\n",
       "      <th>Critic_Count</th>\n",
       "      <th>User_Count</th>\n",
       "      <th>is_tbd</th>\n",
       "      <th>multi_pf_count</th>\n",
       "      <th>...</th>\n",
       "      <th>other_platform_26</th>\n",
       "      <th>other_platform_27</th>\n",
       "      <th>other_platform_28</th>\n",
       "      <th>other_platform_29</th>\n",
       "      <th>other_platform_30</th>\n",
       "      <th>other_platform_31</th>\n",
       "      <th>count_id_groupby_Platform</th>\n",
       "      <th>count_id_groupby_Genre</th>\n",
       "      <th>count_id_groupby_Developer</th>\n",
       "      <th>count_id_groupby_Rating</th>\n",
       "    </tr>\n",
       "  </thead>\n",
       "  <tbody>\n",
       "    <tr>\n",
       "      <th>0</th>\n",
       "      <td>0</td>\n",
       "      <td>26</td>\n",
       "      <td>0</td>\n",
       "      <td>2</td>\n",
       "      <td>0.74</td>\n",
       "      <td>0.79</td>\n",
       "      <td>17.0</td>\n",
       "      <td>22.0</td>\n",
       "      <td>False</td>\n",
       "      <td>7</td>\n",
       "      <td>...</td>\n",
       "      <td>0</td>\n",
       "      <td>0</td>\n",
       "      <td>0</td>\n",
       "      <td>1</td>\n",
       "      <td>0</td>\n",
       "      <td>0</td>\n",
       "      <td>1320</td>\n",
       "      <td>3370</td>\n",
       "      <td>77.0</td>\n",
       "      <td>1420.0</td>\n",
       "    </tr>\n",
       "    <tr>\n",
       "      <th>1</th>\n",
       "      <td>1</td>\n",
       "      <td>26</td>\n",
       "      <td>0</td>\n",
       "      <td>2</td>\n",
       "      <td>0.78</td>\n",
       "      <td>0.66</td>\n",
       "      <td>22.0</td>\n",
       "      <td>28.0</td>\n",
       "      <td>False</td>\n",
       "      <td>7</td>\n",
       "      <td>...</td>\n",
       "      <td>0</td>\n",
       "      <td>0</td>\n",
       "      <td>0</td>\n",
       "      <td>1</td>\n",
       "      <td>0</td>\n",
       "      <td>0</td>\n",
       "      <td>1320</td>\n",
       "      <td>3370</td>\n",
       "      <td>77.0</td>\n",
       "      <td>1420.0</td>\n",
       "    </tr>\n",
       "  </tbody>\n",
       "</table>\n",
       "<p>2 rows × 45 columns</p>\n",
       "</div>"
      ],
      "text/plain": [
       "   id  le_Platform  le_Genre  le_Rating  Critic_Score  User_Score  \\\n",
       "0   0           26         0          2          0.74        0.79   \n",
       "1   1           26         0          2          0.78        0.66   \n",
       "\n",
       "   Critic_Count  User_Count  is_tbd  multi_pf_count  ...  other_platform_26  \\\n",
       "0          17.0        22.0   False               7  ...                  0   \n",
       "1          22.0        28.0   False               7  ...                  0   \n",
       "\n",
       "   other_platform_27  other_platform_28  other_platform_29  other_platform_30  \\\n",
       "0                  0                  0                  1                  0   \n",
       "1                  0                  0                  1                  0   \n",
       "\n",
       "   other_platform_31  count_id_groupby_Platform  count_id_groupby_Genre  \\\n",
       "0                  0                       1320                    3370   \n",
       "1                  0                       1320                    3370   \n",
       "\n",
       "   count_id_groupby_Developer  count_id_groupby_Rating  \n",
       "0                        77.0                   1420.0  \n",
       "1                        77.0                   1420.0  \n",
       "\n",
       "[2 rows x 45 columns]"
      ]
     },
     "execution_count": 12,
     "metadata": {},
     "output_type": "execute_result"
    }
   ],
   "source": [
    "df_f_train.head(2)"
   ]
  },
  {
   "cell_type": "code",
   "execution_count": 13,
   "metadata": {},
   "outputs": [
    {
     "name": "stderr",
     "output_type": "stream",
     "text": [
      "/home/jupyter/workspace/atmacup8/.venv/lib/python3.8/site-packages/ipykernel/ipkernel.py:287: DeprecationWarning: `should_run_async` will not call `transform_cell` automatically in the future. Please pass the result to `transformed_cell` argument and any exception that happen during thetransform in `preprocessing_exc_tuple` in IPython 7.17 and above.\n",
      "  and should_run_async(code)\n"
     ]
    }
   ],
   "source": [
    "@contextmanager\n",
    "def timer(logger=None, format_str='{:.3f}[s]', prefix=None, suffix=None):\n",
    "    if prefix: format_str = str(prefix) + format_str\n",
    "    if suffix: format_str = format_str + str(suffix)\n",
    "    start = time()\n",
    "    yield\n",
    "    d = time() - start\n",
    "    out_str = format_str.format(d)\n",
    "    if logger:\n",
    "        logger.info(out_str)\n",
    "    else:\n",
    "        print(out_str)"
   ]
  },
  {
   "cell_type": "code",
   "execution_count": 14,
   "metadata": {},
   "outputs": [],
   "source": [
    "def get_oof_feature(\n",
    "    df_train: pd.DataFrame, df_valid: pd.DataFrame, y_train: np.ndarray,\n",
    "    df_train_original: pd.DataFrame, df_valid_original: pd.DataFrame\n",
    ") -> Tuple[pd.DataFrame, pd.DataFrame]:\n",
    "    df_train.loc[:, 'target'] = y_train.copy()\n",
    "    _train_others = copy.deepcopy(train_others)\n",
    "    _test_others = copy.deepcopy(test_others)\n",
    "    _train_others['main'] = df_train_original.copy()\n",
    "    _train_others['another'] = df_valid_original.copy()\n",
    "    _test_others['main'] = df_valid_original.copy()\n",
    "    _test_others['another'] = df_train_original.copy()\n",
    "#     df_train = f_date_te_train(df_train, others=_train_others, use_cache=False, save_cache=False)\n",
    "#     df_valid = f_date_te_test(df_valid, others=_test_others, use_cache=False, save_cache=False)\n",
    "    return df_train.drop(['id', 'target'], axis=1), df_valid.drop('id', axis=1)"
   ]
  },
  {
   "cell_type": "code",
   "execution_count": 15,
   "metadata": {},
   "outputs": [],
   "source": [
    "def train(\n",
    "    settings: Dict[str, Any],\n",
    "    logger: MLLogger,\n",
    "    df: pd.DataFrame,\n",
    "    df_original: pd.DataFrame,\n",
    "    y: np.ndarray,\n",
    "    ckptdir: Path\n",
    ") -> Tuple:\n",
    "    logger.log_params(settings['training'])\n",
    "    logger.log_params(settings['lgbm_params'])\n",
    "    X = df\n",
    "    lgbm_params = settings['lgbm_params']\n",
    "    models = []\n",
    "    oof_pred = np.zeros_like(y, dtype=np.float)\n",
    "    importances = pd.DataFrame()\n",
    "    splits = pickle.load(open(datadir / f'group_{settings[\"training\"][\"num_folds\"]}fold.pkl', 'rb'))\n",
    "\n",
    "    for i, (train_idx, valid_idx) in enumerate(splits): \n",
    "        x_train, y_train = X.iloc[train_idx], y[train_idx]\n",
    "        x_valid, y_valid = X.iloc[valid_idx], y[valid_idx]\n",
    "        x_train, x_valid = get_oof_feature(\n",
    "            x_train, x_valid, y_train,\n",
    "            df_original.iloc[train_idx], df_original.iloc[valid_idx]\n",
    "        )\n",
    "        train_data = lgb.Dataset(x_train.values, label=y_train.astype(np.float32))\n",
    "        valid_data = lgb.Dataset(x_valid.values, label=y_valid.astype(np.float32))\n",
    "\n",
    "        with timer(prefix='train fold={} '.format(i + 1)):\n",
    "            clf = lgb.train(\n",
    "                lgbm_params,\n",
    "                train_data, \n",
    "                num_boost_round=settings['training']['num_rounds'],\n",
    "                valid_names=['train', 'valid'],\n",
    "                valid_sets=[train_data, valid_data],  \n",
    "                early_stopping_rounds=settings['training']['early_stopping_rounds'],\n",
    "                feval=rmse,\n",
    "                verbose_eval=settings['training']['verbose_eval']\n",
    "            )\n",
    "        pred_i = clf.predict(x_valid.values)\n",
    "        oof_pred[valid_idx] = pred_i\n",
    "        models.append(clf)\n",
    "        importances = compute_importances(importances, x_train.columns, models[i], fold=i)\n",
    "        fold_score = mean_squared_error(y_valid, pred_i) ** 0.5\n",
    "        logger.log_metric(f'rmsle_fold_{i}', fold_score)\n",
    "        print(f'Fold {i} RMSLE: {fold_score:.4f}')\n",
    "        clf.save_model(str(ckptdir / f'model.txt'))\n",
    "        logger.log_artifact(str(ckptdir / f'model.txt'), artifact_path=f'{i}')\n",
    "\n",
    "    score = mean_squared_error(y, oof_pred) ** 0.5\n",
    "    logger.log_metric(f'RMSLE', score)\n",
    "    print('FINISHED; whole score: {:.4f}'.format(score))\n",
    "    save_importances(importances, ckptdir)\n",
    "    return oof_pred, models, score, importances"
   ]
  },
  {
   "cell_type": "code",
   "execution_count": 16,
   "metadata": {},
   "outputs": [],
   "source": [
    "def predict(\n",
    "    models: List[lgb.Booster],\n",
    "    df_test: pd.DataFrame,\n",
    "    df_train: pd.DataFrame,\n",
    "    df_test_original: pd.DataFrame\n",
    ") -> np.ndarray:\n",
    "    '''\n",
    "    fold 分のモデルと test の特徴 dataframe を受け取って、予測したものを返します。\n",
    "    :param models: kfold 分のモデル\n",
    "    :param test_df: test dataset の特徴\n",
    "    :return: 予測\n",
    "    '''\n",
    "    _, test = get_oof_feature(\n",
    "        df_train.copy(), df_test.copy(), df_train['Global_Sales'].values, df_train.copy(), df_test_original.copy()\n",
    "    )\n",
    "    preds = np.array([model.predict(test) for model in models])\n",
    "    preds = np.expm1(preds)\n",
    "    preds = np.mean(preds, axis=0)\n",
    "    return preds\n",
    "\n",
    "    \n",
    "def submit(preds: np.ndarray, ckptdir: Path) -> pd.DataFrame:\n",
    "    '''\n",
    "    test data の prediction を受け取って submission ファイルを作成します。\n",
    "    :param preds: test data の予測\n",
    "    :param ckptdir: 保存場所\n",
    "    :return: submission df\n",
    "    '''\n",
    "    sub_df = pd.DataFrame({ 'Global_Sales': preds })\n",
    "    sub_df.to_csv(ckptdir / f'{settings[\"name\"]}.csv', index=False)\n",
    "    return sub_df"
   ]
  },
  {
   "cell_type": "code",
   "execution_count": 17,
   "metadata": {},
   "outputs": [],
   "source": [
    "logger = MLLogger('cfiken', ckptdir)"
   ]
  },
  {
   "cell_type": "code",
   "execution_count": 18,
   "metadata": {},
   "outputs": [
    {
     "name": "stdout",
     "output_type": "stream",
     "text": [
      "[LightGBM] [Warning] Auto-choosing col-wise multi-threading, the overhead of testing was 0.003065 seconds.\n",
      "You can set `force_col_wise=true` to remove the overhead.\n",
      "[LightGBM] [Info] Total Bins 704\n",
      "[LightGBM] [Info] Number of data points in the train set: 6687, number of used features: 32\n",
      "[LightGBM] [Info] Start training from score 3.008886\n",
      "Training until validation scores don't improve for 100 rounds\n",
      "[20]\ttrain's rmsle: 1.1108\tvalid's rmsle: 1.06182\n",
      "[40]\ttrain's rmsle: 1.01477\tvalid's rmsle: 1.01015\n",
      "[60]\ttrain's rmsle: 0.973603\tvalid's rmsle: 0.995702\n",
      "[80]\ttrain's rmsle: 0.9495\tvalid's rmsle: 0.991817\n",
      "[100]\ttrain's rmsle: 0.933587\tvalid's rmsle: 0.988933\n",
      "[120]\ttrain's rmsle: 0.921407\tvalid's rmsle: 0.98716\n",
      "[140]\ttrain's rmsle: 0.910339\tvalid's rmsle: 0.988023\n",
      "[160]\ttrain's rmsle: 0.900568\tvalid's rmsle: 0.988595\n",
      "[180]\ttrain's rmsle: 0.892373\tvalid's rmsle: 0.989848\n",
      "[200]\ttrain's rmsle: 0.88468\tvalid's rmsle: 0.990407\n",
      "[220]\ttrain's rmsle: 0.877934\tvalid's rmsle: 0.991533\n",
      "Early stopping, best iteration is:\n",
      "[122]\ttrain's rmsle: 0.920373\tvalid's rmsle: 0.987077\n",
      "train fold=1 1.892[s]\n",
      "Fold 0 RMSLE: 0.9871\n",
      "[LightGBM] [Warning] Auto-choosing col-wise multi-threading, the overhead of testing was 0.002791 seconds.\n",
      "You can set `force_col_wise=true` to remove the overhead.\n",
      "[LightGBM] [Info] Total Bins 707\n",
      "[LightGBM] [Info] Number of data points in the train set: 6687, number of used features: 32\n",
      "[LightGBM] [Info] Start training from score 2.941452\n",
      "Training until validation scores don't improve for 100 rounds\n",
      "[20]\ttrain's rmsle: 1.04063\tvalid's rmsle: 1.42381\n",
      "[40]\ttrain's rmsle: 0.955679\tvalid's rmsle: 1.35793\n",
      "[60]\ttrain's rmsle: 0.916961\tvalid's rmsle: 1.32102\n",
      "[80]\ttrain's rmsle: 0.893092\tvalid's rmsle: 1.30358\n",
      "[100]\ttrain's rmsle: 0.876777\tvalid's rmsle: 1.29312\n",
      "[120]\ttrain's rmsle: 0.863742\tvalid's rmsle: 1.2877\n",
      "[140]\ttrain's rmsle: 0.852546\tvalid's rmsle: 1.28462\n",
      "[160]\ttrain's rmsle: 0.843125\tvalid's rmsle: 1.283\n",
      "[180]\ttrain's rmsle: 0.834959\tvalid's rmsle: 1.28008\n",
      "[200]\ttrain's rmsle: 0.826604\tvalid's rmsle: 1.27947\n",
      "[220]\ttrain's rmsle: 0.81925\tvalid's rmsle: 1.27956\n",
      "[240]\ttrain's rmsle: 0.812997\tvalid's rmsle: 1.27874\n",
      "[260]\ttrain's rmsle: 0.806516\tvalid's rmsle: 1.27978\n",
      "[280]\ttrain's rmsle: 0.800344\tvalid's rmsle: 1.2798\n",
      "[300]\ttrain's rmsle: 0.794237\tvalid's rmsle: 1.28073\n",
      "[320]\ttrain's rmsle: 0.789258\tvalid's rmsle: 1.28058\n",
      "Early stopping, best iteration is:\n",
      "[237]\ttrain's rmsle: 0.813931\tvalid's rmsle: 1.27858\n",
      "train fold=2 2.594[s]\n",
      "Fold 1 RMSLE: 1.2786\n",
      "[LightGBM] [Warning] Auto-choosing col-wise multi-threading, the overhead of testing was 0.002833 seconds.\n",
      "You can set `force_col_wise=true` to remove the overhead.\n",
      "[LightGBM] [Info] Total Bins 710\n",
      "[LightGBM] [Info] Number of data points in the train set: 6687, number of used features: 33\n",
      "[LightGBM] [Info] Start training from score 3.100235\n",
      "Training until validation scores don't improve for 100 rounds\n",
      "[20]\ttrain's rmsle: 1.09746\tvalid's rmsle: 1.15875\n",
      "[40]\ttrain's rmsle: 1.00626\tvalid's rmsle: 1.07751\n",
      "[60]\ttrain's rmsle: 0.965967\tvalid's rmsle: 1.05352\n",
      "[80]\ttrain's rmsle: 0.942084\tvalid's rmsle: 1.04459\n",
      "[100]\ttrain's rmsle: 0.924697\tvalid's rmsle: 1.03924\n",
      "[120]\ttrain's rmsle: 0.912693\tvalid's rmsle: 1.03725\n",
      "[140]\ttrain's rmsle: 0.900944\tvalid's rmsle: 1.03594\n",
      "[160]\ttrain's rmsle: 0.890349\tvalid's rmsle: 1.03616\n",
      "[180]\ttrain's rmsle: 0.881967\tvalid's rmsle: 1.03646\n",
      "[200]\ttrain's rmsle: 0.874428\tvalid's rmsle: 1.03749\n",
      "[220]\ttrain's rmsle: 0.866854\tvalid's rmsle: 1.0376\n",
      "Early stopping, best iteration is:\n",
      "[138]\ttrain's rmsle: 0.902018\tvalid's rmsle: 1.03559\n",
      "train fold=3 1.803[s]\n",
      "Fold 2 RMSLE: 1.0356\n",
      "[LightGBM] [Warning] Auto-choosing col-wise multi-threading, the overhead of testing was 0.002779 seconds.\n",
      "You can set `force_col_wise=true` to remove the overhead.\n",
      "[LightGBM] [Info] Total Bins 705\n",
      "[LightGBM] [Info] Number of data points in the train set: 6687, number of used features: 32\n",
      "[LightGBM] [Info] Start training from score 3.116040\n",
      "Training until validation scores don't improve for 100 rounds\n",
      "[20]\ttrain's rmsle: 1.1127\tvalid's rmsle: 1.08774\n",
      "[40]\ttrain's rmsle: 1.01744\tvalid's rmsle: 1.03597\n",
      "[60]\ttrain's rmsle: 0.974756\tvalid's rmsle: 1.02348\n",
      "[80]\ttrain's rmsle: 0.949923\tvalid's rmsle: 1.02002\n",
      "[100]\ttrain's rmsle: 0.934545\tvalid's rmsle: 1.01946\n",
      "[120]\ttrain's rmsle: 0.921877\tvalid's rmsle: 1.01945\n",
      "[140]\ttrain's rmsle: 0.911159\tvalid's rmsle: 1.02021\n",
      "[160]\ttrain's rmsle: 0.902159\tvalid's rmsle: 1.02063\n",
      "[180]\ttrain's rmsle: 0.894167\tvalid's rmsle: 1.02119\n",
      "Early stopping, best iteration is:\n",
      "[90]\ttrain's rmsle: 0.941281\tvalid's rmsle: 1.01905\n",
      "train fold=4 1.465[s]\n",
      "Fold 3 RMSLE: 1.0191\n",
      "[LightGBM] [Warning] Auto-choosing col-wise multi-threading, the overhead of testing was 0.002939 seconds.\n",
      "You can set `force_col_wise=true` to remove the overhead.\n",
      "[LightGBM] [Info] Total Bins 704\n",
      "[LightGBM] [Info] Number of data points in the train set: 6688, number of used features: 32\n",
      "[LightGBM] [Info] Start training from score 3.021148\n",
      "Training until validation scores don't improve for 100 rounds\n",
      "[20]\ttrain's rmsle: 1.10528\tvalid's rmsle: 1.06425\n",
      "[40]\ttrain's rmsle: 1.01049\tvalid's rmsle: 1.02307\n",
      "[60]\ttrain's rmsle: 0.970302\tvalid's rmsle: 1.01873\n",
      "[80]\ttrain's rmsle: 0.94697\tvalid's rmsle: 1.01757\n",
      "[100]\ttrain's rmsle: 0.930179\tvalid's rmsle: 1.01697\n",
      "[120]\ttrain's rmsle: 0.917323\tvalid's rmsle: 1.0172\n",
      "[140]\ttrain's rmsle: 0.907637\tvalid's rmsle: 1.01708\n",
      "[160]\ttrain's rmsle: 0.898928\tvalid's rmsle: 1.01678\n",
      "[180]\ttrain's rmsle: 0.891442\tvalid's rmsle: 1.01647\n",
      "[200]\ttrain's rmsle: 0.884172\tvalid's rmsle: 1.01748\n",
      "[220]\ttrain's rmsle: 0.877338\tvalid's rmsle: 1.01754\n",
      "[240]\ttrain's rmsle: 0.87049\tvalid's rmsle: 1.01726\n",
      "[260]\ttrain's rmsle: 0.863782\tvalid's rmsle: 1.01714\n",
      "[280]\ttrain's rmsle: 0.859164\tvalid's rmsle: 1.01756\n",
      "Early stopping, best iteration is:\n",
      "[183]\ttrain's rmsle: 0.890482\tvalid's rmsle: 1.01618\n",
      "train fold=5 2.144[s]\n",
      "Fold 4 RMSLE: 1.0162\n",
      "FINISHED; whole score: 1.0726\n"
     ]
    },
    {
     "data": {
      "image/png": "[encoded data removed]",
      "text/plain": [
       "<Figure size 432x576 with 1 Axes>"
      ]
     },
     "metadata": {},
     "output_type": "display_data"
    }
   ],
   "source": [
    "with logger.start(experiment_name=settings['competition'], run_name=settings['name']):\n",
    "    oof, models, cv, importances = train(\n",
    "        settings,\n",
    "        logger,\n",
    "        df_f_train,\n",
    "        df_train,\n",
    "        df_train.loc[:, 'mod_Global_Sales'].values,\n",
    "        ckptdir\n",
    "    )\n",
    "    preds = predict(models, df_f_test, df_train, df_test)\n",
    "    sub_df = submit(preds, ckptdir)"
   ]
  },
  {
   "cell_type": "code",
   "execution_count": null,
   "metadata": {},
   "outputs": [],
   "source": []
  }
 ],
 "metadata": {
  "kernelspec": {
   "display_name": "Python 3",
   "language": "python",
   "name": "python3"
  },
  "language_info": {
   "codemirror_mode": {
    "name": "ipython",
    "version": 3
   },
   "file_extension": ".py",
   "mimetype": "text/x-python",
   "name": "python",
   "nbconvert_exporter": "python",
   "pygments_lexer": "ipython3",
   "version": "3.8.6"
  }
 },
 "nbformat": 4,
 "nbformat_minor": 4
}
