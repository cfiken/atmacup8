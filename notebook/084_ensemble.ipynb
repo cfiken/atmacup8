{
 "cells": [
  {
   "cell_type": "code",
   "execution_count": 1,
   "metadata": {},
   "outputs": [],
   "source": [
    "import os\n",
    "import warnings\n",
    "warnings.filterwarnings('ignore')\n",
    "from typing import Any, Dict, List, Tuple\n",
    "from pathlib import Path\n",
    "import yaml\n",
    "import pickle\n",
    "import copy\n",
    "\n",
    "import pandas as pd\n",
    "import matplotlib.pyplot as plt\n",
    "import seaborn as sns\n",
    "import numpy as np\n",
    "from pandas_profiling import ProfileReport # profile report を作る用\n",
    "from matplotlib_venn import venn2 # venn図を作成する用\n",
    "from tqdm import tqdm\n",
    "from contextlib import contextmanager\n",
    "from time import time\n",
    "\n",
    "from sklearn.model_selection import StratifiedKFold\n",
    "from sklearn.metrics import mean_squared_log_error, mean_squared_error\n",
    "import lightgbm as lgb\n",
    "\n",
    "from mykaggle.metric.mse import rmse\n",
    "from mykaggle.util.ml_logger import MLLogger\n",
    "from mykaggle.lib.lgbm_util import compute_importances, save_importances\n",
    "from mykaggle.util.routine import fix_seed\n",
    "\n",
    "sns.set_style('darkgrid')"
   ]
  },
  {
   "cell_type": "code",
   "execution_count": 2,
   "metadata": {},
   "outputs": [
    {
     "name": "stderr",
     "output_type": "stream",
     "text": [
      "/home/jupyter/workspace/atmacup8/.venv/lib/python3.8/site-packages/ipykernel/ipkernel.py:287: DeprecationWarning: `should_run_async` will not call `transform_cell` automatically in the future. Please pass the result to `transformed_cell` argument and any exception that happen during thetransform in `preprocessing_exc_tuple` in IPython 7.17 and above.\n",
      "  and should_run_async(code)\n"
     ]
    }
   ],
   "source": [
    "settings = yaml.safe_load('''\n",
    "name: '084_ensemble'\n",
    "competition: atmacup8\n",
    "description: '今一番いいやつでstratifiedのやつと ensemble'\n",
    "seed: 1019\n",
    "training:\n",
    "    pca_dim: 4\n",
    "    validation: 'stratified'\n",
    "    num_folds: 5\n",
    "    num_rounds: 10000\n",
    "    early_stopping_rounds: 1000\n",
    "    verbose_eval: 20\n",
    "    sample_weight_division: 0.01  # 10/2/1\n",
    "    sample_weight_threshold: 1000\n",
    "lgbm_params:\n",
    "    objective: regression\n",
    "    learning_rate: 0.01\n",
    "    max_depth: -1\n",
    "    num_leaves: 31\n",
    "    colsample_bytree: .7\n",
    "    metric: \"None\"\n",
    "''')"
   ]
  },
  {
   "cell_type": "code",
   "execution_count": 3,
   "metadata": {},
   "outputs": [],
   "source": [
    "fix_seed(settings['seed'])"
   ]
  },
  {
   "cell_type": "code",
   "execution_count": 4,
   "metadata": {},
   "outputs": [],
   "source": [
    "datadir = Path('../data/')\n",
    "ckptdir = Path('../ckpt/') / settings['name']\n",
    "if not ckptdir.exists():\n",
    "    ckptdir.mkdir()"
   ]
  },
  {
   "cell_type": "code",
   "execution_count": 5,
   "metadata": {},
   "outputs": [
    {
     "data": {
      "text/plain": [
       "((8359, 17), (8360, 12))"
      ]
     },
     "execution_count": 5,
     "metadata": {},
     "output_type": "execute_result"
    }
   ],
   "source": [
    "df_train = pd.read_csv(datadir / 'id_train.csv')\n",
    "df_test = pd.read_csv(datadir / 'id_test.csv')\n",
    "df_submission = pd.read_csv(datadir / 'atmaCup8_sample-submission.csv')\n",
    "df_train.shape, df_test.shape"
   ]
  },
  {
   "cell_type": "code",
   "execution_count": 6,
   "metadata": {},
   "outputs": [],
   "source": [
    "basedir = Path('../ckpt/')\n",
    "targets = [\n",
    "#     '073_dev_pivot_pca2',\n",
    "    '081_dev_pivot_pca2_all',\n",
    "    '082_stratified'\n",
    "]"
   ]
  },
  {
   "cell_type": "code",
   "execution_count": 7,
   "metadata": {},
   "outputs": [],
   "source": [
    "def load_and_concat(targets: List[str], basedir: Path):\n",
    "    df_sub = []\n",
    "    for t in targets:\n",
    "        sub = pd.read_csv(basedir / t / (t + '.csv'))\n",
    "        df_sub.append(sub)\n",
    "    df_sub = pd.concat(df_sub, axis=1)\n",
    "    df_sub.columns = targets\n",
    "    return df_sub\n",
    "\n",
    "def make_submission(df_sub: pd.DataFrame, ckptdir: Path, filename: str) -> pd.DataFrame:\n",
    "    df_sub = df_sub.mean(axis=1).to_frame()\n",
    "    df_sub.columns = ['Global_Sales']\n",
    "    df_sub.to_csv(ckptdir / f'{filename}.csv', index=False)"
   ]
  },
  {
   "cell_type": "code",
   "execution_count": 8,
   "metadata": {},
   "outputs": [],
   "source": [
    "def visualize_oof(\n",
    "    y_1: np.ndarray, y_2: np.ndarray, label1: str, label2: str, title: str\n",
    ") -> None:\n",
    "    plt.figure(figsize=(5, 5))\n",
    "    plt.plot([-100, 1000], [-100, 1000], color='black')\n",
    "    plt.scatter(y_1, y_2, alpha=0.2)\n",
    "    plt.xlim(-100, 1000)\n",
    "    plt.ylim(-100, 1000)\n",
    "    plt.xlabel(label1)\n",
    "    plt.ylabel(label2)\n",
    "    plt.title(title)\n",
    "\n",
    "def plot_corr(df: pd.DataFrame, targets: List[str]) -> None:\n",
    "    num = df.shape[1]\n",
    "    for i in range(num):\n",
    "        if i == 0:\n",
    "            continue\n",
    "        pred_a = df.iloc[:, i - 1]\n",
    "        pred_b = df.iloc[:, i]\n",
    "        label_a = targets[i - 1]\n",
    "        label_b = targets[i]\n",
    "        title = f'corr coef: {np.corrcoef(pred_a, pred_b)[0, 1]:.3f}'\n",
    "        visualize_oof(pred_a, pred_b, label_a, label_b, title)"
   ]
  },
  {
   "cell_type": "code",
   "execution_count": 9,
   "metadata": {},
   "outputs": [
    {
     "data": {
      "image/png": "[encoded data removed]",
      "text/plain": [
       "<Figure size 360x360 with 1 Axes>"
      ]
     },
     "metadata": {},
     "output_type": "display_data"
    }
   ],
   "source": [
    "df_sub = load_and_concat(targets, basedir)\n",
    "make_submission(df_sub, ckptdir, settings['name'])\n",
    "plot_corr(df_sub, targets)"
   ]
  },
  {
   "cell_type": "code",
   "execution_count": null,
   "metadata": {},
   "outputs": [],
   "source": []
  }
 ],
 "metadata": {
  "kernelspec": {
   "display_name": "Python 3",
   "language": "python",
   "name": "python3"
  },
  "language_info": {
   "codemirror_mode": {
    "name": "ipython",
    "version": 3
   },
   "file_extension": ".py",
   "mimetype": "text/x-python",
   "name": "python",
   "nbconvert_exporter": "python",
   "pygments_lexer": "ipython3",
   "version": "3.8.6"
  }
 },
 "nbformat": 4,
 "nbformat_minor": 4
}
